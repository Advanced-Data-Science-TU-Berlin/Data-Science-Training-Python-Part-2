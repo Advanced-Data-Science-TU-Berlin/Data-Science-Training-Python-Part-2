{
  "nbformat": 4,
  "nbformat_minor": 0,
  "metadata": {
    "colab": {
      "name": "2_visualization_analysis_exercise.ipynb",
      "provenance": [],
      "collapsed_sections": [],
      "authorship_tag": "ABX9TyMIffzirVBmkuPSCL/Eubwl",
      "include_colab_link": true
    },
    "kernelspec": {
      "name": "python3",
      "display_name": "Python 3"
    },
    "language_info": {
      "name": "python"
    }
  },
  "cells": [
    {
      "cell_type": "markdown",
      "metadata": {
        "id": "view-in-github",
        "colab_type": "text"
      },
      "source": [
        "<a href=\"https://colab.research.google.com/github/Advanced-Data-Science-TU-Berlin/Data-Science-Training-Python-Part-2/blob/main/exercises/2_visualization_analysis_exercise.ipynb\" target=\"_parent\"><img src=\"https://colab.research.google.com/assets/colab-badge.svg\" alt=\"Open In Colab\"/></a>"
      ]
    },
    {
      "cell_type": "markdown",
      "source": [
        "# Unemployment in European Union\n",
        "\n",
        "For this exercise we are using the unemployement data in European Union. The data contains unemployment information by sex and age for European Union. The time span is from Jan 1983 to recent months.\n",
        "\n",
        "For further information regarding the dataset check [here](https://www.kaggle.com/datasets/gpreda/unemployment-in-european-union)\n",
        "\n",
        "Since the data set is part of Kaggle DataSets you need to have your own `Access Token`. If you don't know how to get one please check [here](https://www.kaggle.com/docs/api).\n",
        "\n",
        "Run the following section to install the external packages:"
      ],
      "metadata": {
        "id": "FhUhuIJY1K32"
      }
    },
    {
      "cell_type": "code",
      "execution_count": null,
      "metadata": {
        "id": "NiiZloyf1IEA"
      },
      "outputs": [],
      "source": [
        "!pip install opendatasets"
      ]
    },
    {
      "cell_type": "markdown",
      "source": [
        "Now let's try to get the data from Kaggle using the opendatasets package:"
      ],
      "metadata": {
        "id": "SEWvespS1pEi"
      }
    },
    {
      "cell_type": "code",
      "source": [
        "import opendatasets as od\n",
        "od.download(\"https://www.kaggle.com/datasets/gpreda/unemployment-in-european-union\", force=True)\n",
        "od.download(\"https://www.kaggle.com/datasets/andradaolteanu/iso-country-codes-global\", force=True)"
      ],
      "metadata": {
        "id": "474PsMnJ2iC-"
      },
      "execution_count": null,
      "outputs": []
    },
    {
      "cell_type": "markdown",
      "source": [
        "Now let's read the data and brows some basic statistics from it:"
      ],
      "metadata": {
        "id": "T_xnBMqF28ws"
      }
    },
    {
      "cell_type": "code",
      "source": [
        "# Imports\n",
        "import pandas as pd\n",
        "% matplotlib inline\n",
        "\n",
        "# Read the data from /content folder\n",
        "# Replace the <path> with the path to the file\n",
        "\n",
        "# Read data (Fix the path if needed)\n",
        "df = pd.read_csv(\"unemployment-in-european-union/une_rt_m.tsv\", delimiter='\\t')\n",
        "\n",
        "# How does the data looks like"
      ],
      "metadata": {
        "id": "Q1MzGwWG21Fe"
      },
      "execution_count": null,
      "outputs": []
    },
    {
      "cell_type": "markdown",
      "source": [
        "You may notice that the first column is a combination of 6 fields which are concatenated with `,`.\n",
        "\n",
        "Let's try to split it into separate columns: \n",
        "- [Here](https://pandas.pydata.org/pandas-docs/stable/reference/api/pandas.Series.str.split.html) is a hint how to do that"
      ],
      "metadata": {
        "id": "vf9i98lL4AT_"
      }
    },
    {
      "cell_type": "code",
      "source": [
        "# Split first column name into separate columns\n",
        "first_column_name_splits = df.columns[0].split(',')\n",
        "print(first_column_name_splits)\n",
        "# Split the first column values into separated fields\n",
        "first_column_value_splits = df.iloc[:,0].str.split(',', 4, expand=True)\n",
        "# Add the value splits into new columns\n",
        "df[first_column_name_splits] = first_column_value_splits\n",
        "# Rename geo\\time column\n",
        "df.rename(columns={\"geo\\\\time\": \"country_code\"}, inplace=True)\n",
        "# Get rid of unnecessary fields\n",
        "df.drop(columns=[\"s_adj,age,unit,sex,geo\\\\time\"], inplace=True)\n",
        "# Let's take a look at data\n",
        "print(df.head())"
      ],
      "metadata": {
        "id": "ueKMO14B3jl2"
      },
      "execution_count": null,
      "outputs": []
    },
    {
      "cell_type": "code",
      "source": [
        "# Enrich the data by country names (Fix the path if needed)\n",
        "countries_df = pd.read_csv(\"iso-country-codes-global/wikipedia-iso-country-codes.csv\")\n",
        "# Rename long column names\n",
        "countries_df.rename(columns={\"English short name lower case\":\"country_name\",\n",
        "                             \"Alpha-2 code\":\"country_code\"}, inplace=True)\n",
        "# Merge data\n",
        "df = df.merge(countries_df[[\"country_name\", \"country_code\"]], on='country_code')\n",
        "# Look at data\n",
        "print(df.head(1))"
      ],
      "metadata": {
        "id": "VUzM5tjBWN4z"
      },
      "execution_count": null,
      "outputs": []
    },
    {
      "cell_type": "code",
      "source": [
        "# Convert the dataframe to a pivot dataset for time-series data\n",
        "ts_df = df.melt(id_vars=[\"country_name\", \"age\", \"unit\", \"sex\", \"s_adj\", \"country_code\"], \n",
        "        var_name=\"date\", \n",
        "        value_name=\"value\")\n",
        "# Look at data\n",
        "print(ts_df.head())"
      ],
      "metadata": {
        "id": "Fcd75LRdTXw8"
      },
      "execution_count": null,
      "outputs": []
    },
    {
      "cell_type": "markdown",
      "source": [
        "Let's try to extract some useful statistics from this data:"
      ],
      "metadata": {
        "id": "waasioqMAXU3"
      }
    },
    {
      "cell_type": "code",
      "source": [
        "# Write code to extract some statistics"
      ],
      "metadata": {
        "id": "04uOjaxU3txI"
      },
      "execution_count": null,
      "outputs": []
    },
    {
      "cell_type": "markdown",
      "source": [
        "From this point onward use whatever you have learned to visualize different aspects of the data.\n",
        "\n",
        "Some hints and tips:\n",
        "- Feel free to only bound the data to most recent years (Ex last 10 years),\n",
        "- Or for some of the countries of interest\n",
        "- Format your data \n",
        "- Do you see any global or common trends?\n",
        "- How is it different between genres? Or age-groups?\n",
        "- How do you want to visualize the latest unemployement rates per countries in a single plot?\n",
        "- Feel free to use https://www.kaggle.com/datasets/andradaolteanu/iso-country-codes-global to enrich your data\n",
        "- Look at the text data. Can you find a good use of wordCloud for this data?\n",
        "\n",
        "Try to answer at least few the following questions using visualization:\n",
        "- What is the overall trend in unemployment rate over the last few years? you can aggregate data yearly to have smoother output\n",
        "- How about trends Age-wise and Gender-wise?\n",
        "Feel free to go wild :)\n",
        "- How about trend between `United States`, `France` and `Germany` in 2020? \n",
        "- Can you use Geospatial visualization to show the latest overal unemployment rate for different countries?\n"
      ],
      "metadata": {
        "id": "LZqnG-DEA6HP"
      }
    },
    {
      "cell_type": "code",
      "source": [
        "# Apply different visualization techniques to answer meaningful questions\n",
        "#   and extract insights from the data"
      ],
      "metadata": {
        "id": "gfnAQf5LBohw"
      },
      "execution_count": null,
      "outputs": []
    }
  ]
}