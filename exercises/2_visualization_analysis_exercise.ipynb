{
  "cells": [
    {
      "cell_type": "markdown",
      "metadata": {
        "id": "view-in-github",
        "colab_type": "text"
      },
      "source": [
        "<a href=\"https://colab.research.google.com/github/Advanced-Data-Science-TU-Berlin/Data-Science-Training-Python-Part-2/blob/main/exercises/2_visualization_analysis_exercise.ipynb\" target=\"_parent\"><img src=\"https://colab.research.google.com/assets/colab-badge.svg\" alt=\"Open In Colab\"/></a>"
      ]
    },
    {
      "cell_type": "markdown",
      "metadata": {
        "id": "FhUhuIJY1K32"
      },
      "source": [
        "# Unemployment in European Union\n",
        "\n",
        "For this exercise we are using the unemployement data in European Union. The data contains unemployment information by sex and age for European Union. The time span is from Jan 1983 to recent months.\n",
        "\n",
        "For further information regarding the dataset check [here](https://www.kaggle.com/datasets/gpreda/unemployment-in-european-union)\n",
        "\n",
        "Since the data set is part of Kaggle DataSets you need to have your own `Access Token`. If you don't know how to get one please check [here](https://www.kaggle.com/docs/api).\n",
        "\n",
        "Run the following section to install the external packages:"
      ]
    },
    {
      "cell_type": "code",
      "execution_count": null,
      "metadata": {
        "colab": {
          "base_uri": "https://localhost:8080/"
        },
        "id": "NiiZloyf1IEA",
        "outputId": "3894c682-19c7-49f4-9e69-766b150e2ece"
      },
      "outputs": [
        {
          "name": "stdout",
          "output_type": "stream",
          "text": [
            "Looking in indexes: https://pypi.org/simple, https://us-python.pkg.dev/colab-wheels/public/simple/\n",
            "Collecting opendatasets\n",
            "  Downloading opendatasets-0.1.22-py3-none-any.whl (15 kB)\n",
            "Requirement already satisfied: kaggle in /usr/local/lib/python3.7/dist-packages (from opendatasets) (1.5.12)\n",
            "Requirement already satisfied: click in /usr/local/lib/python3.7/dist-packages (from opendatasets) (7.1.2)\n",
            "Requirement already satisfied: tqdm in /usr/local/lib/python3.7/dist-packages (from opendatasets) (4.64.0)\n",
            "Requirement already satisfied: six>=1.10 in /usr/local/lib/python3.7/dist-packages (from kaggle->opendatasets) (1.15.0)\n",
            "Requirement already satisfied: requests in /usr/local/lib/python3.7/dist-packages (from kaggle->opendatasets) (2.23.0)\n",
            "Requirement already satisfied: python-dateutil in /usr/local/lib/python3.7/dist-packages (from kaggle->opendatasets) (2.8.2)\n",
            "Requirement already satisfied: python-slugify in /usr/local/lib/python3.7/dist-packages (from kaggle->opendatasets) (6.1.2)\n",
            "Requirement already satisfied: certifi in /usr/local/lib/python3.7/dist-packages (from kaggle->opendatasets) (2022.5.18.1)\n",
            "Requirement already satisfied: urllib3 in /usr/local/lib/python3.7/dist-packages (from kaggle->opendatasets) (1.24.3)\n",
            "Requirement already satisfied: text-unidecode>=1.3 in /usr/local/lib/python3.7/dist-packages (from python-slugify->kaggle->opendatasets) (1.3)\n",
            "Requirement already satisfied: idna<3,>=2.5 in /usr/local/lib/python3.7/dist-packages (from requests->kaggle->opendatasets) (2.10)\n",
            "Requirement already satisfied: chardet<4,>=3.0.2 in /usr/local/lib/python3.7/dist-packages (from requests->kaggle->opendatasets) (3.0.4)\n",
            "Installing collected packages: opendatasets\n",
            "Successfully installed opendatasets-0.1.22\n"
          ]
        }
      ],
      "source": [
        "!pip install opendatasets"
      ]
    },
    {
      "cell_type": "markdown",
      "metadata": {
        "id": "SEWvespS1pEi"
      },
      "source": [
        "Now let's try to get the data from Kaggle using the opendatasets package:"
      ]
    },
    {
      "cell_type": "code",
      "execution_count": null,
      "metadata": {
        "colab": {
          "background_save": true,
          "base_uri": "https://localhost:8080/"
        },
        "id": "474PsMnJ2iC-",
        "outputId": "de8e7143-1ac1-46af-d178-be47aa142904"
      },
      "outputs": [
        {
          "name": "stdout",
          "output_type": "stream",
          "text": [
            "Please provide your Kaggle credentials to download this dataset. Learn more: http://bit.ly/kaggle-creds\n",
            "Your Kaggle username: "
          ]
        }
      ],
      "source": [
        "import opendatasets as od\n",
        "od.download(\"https://www.kaggle.com/datasets/gpreda/unemployment-in-european-union\", force=True)\n",
        "od.download(\"https://www.kaggle.com/datasets/andradaolteanu/iso-country-codes-global\", force=True)"
      ]
    },
    {
      "cell_type": "markdown",
      "metadata": {
        "id": "T_xnBMqF28ws"
      },
      "source": [
        "Now let's read the data and brows some basic statistics from it:"
      ]
    },
    {
      "cell_type": "code",
      "execution_count": null,
      "metadata": {
        "id": "Q1MzGwWG21Fe"
      },
      "outputs": [],
      "source": [
        "# Imports\n",
        "import pandas as pd\n",
        "% matplotlib inline\n",
        "\n",
        "# Read the data from /content folder\n",
        "# Replace the <path> with the path to the file\n",
        "\n",
        "# Read data (Fix the path if needed)\n",
        "df = pd.read_csv(\"unemployment-in-european-union/une_rt_m.tsv\", delimiter='\\t')\n",
        "\n",
        "# How does the data looks like"
      ]
    },
    {
      "cell_type": "markdown",
      "metadata": {
        "id": "vf9i98lL4AT_"
      },
      "source": [
        "You may notice that the first column is a combination of 6 fields which are concatenated with `,`.\n",
        "\n",
        "Let's try to split it into separate columns: \n",
        "- [Here](https://pandas.pydata.org/pandas-docs/stable/reference/api/pandas.Series.str.split.html) is a hint how to do that"
      ]
    },
    {
      "cell_type": "code",
      "execution_count": null,
      "metadata": {
        "id": "ueKMO14B3jl2"
      },
      "outputs": [],
      "source": [
        "# Split first column name into separate columns\n",
        "first_column_name_splits = df.columns[0].split(',')\n",
        "print(first_column_name_splits)\n",
        "# Split the first column values into separated fields\n",
        "first_column_value_splits = df.iloc[:,0].str.split(',', 4, expand=True)\n",
        "# Add the value splits into new columns\n",
        "df[first_column_name_splits] = first_column_value_splits\n",
        "# Rename geo\\time column\n",
        "df.rename(columns={\"geo\\\\time\": \"country_code\"}, inplace=True)\n",
        "# Get rid of unnecessary fields\n",
        "df.drop(columns=[\"s_adj,age,unit,sex,geo\\\\time\"], inplace=True)\n",
        "# Let's take a look at data\n",
        "print(df.head())"
      ]
    },
    {
      "cell_type": "code",
      "execution_count": null,
      "metadata": {
        "id": "VUzM5tjBWN4z"
      },
      "outputs": [],
      "source": [
        "# Enrich the data by country names (Fix the path if needed)\n",
        "countries_df = pd.read_csv(\"iso-country-codes-global/wikipedia-iso-country-codes.csv\")\n",
        "# Rename long column names\n",
        "countries_df.rename(columns={\"English short name lower case\":\"country_name\",\n",
        "                             \"Alpha-2 code\":\"country_code\"}, inplace=True)\n",
        "# Merge data\n",
        "df = df.merge(countries_df[[\"country_name\", \"country_code\"]], on='country_code')\n",
        "# Look at data\n",
        "print(df.head(1))"
      ]
    },
    {
      "cell_type": "code",
      "execution_count": null,
      "metadata": {
        "id": "Fcd75LRdTXw8"
      },
      "outputs": [],
      "source": [
        "# Convert the dataframe to a pivot dataset for time-series data\n",
        "ts_df = df.melt(id_vars=[\"country_name\", \"age\", \"unit\", \"sex\", \"s_adj\", \"country_code\"], \n",
        "        var_name=\"date\", \n",
        "        value_name=\"value\")\n",
        "# Look at data\n",
        "print(ts_df.head())"
      ]
    },
    {
      "cell_type": "code",
      "source": [
        "# Let's see what we have inside value cause it's string\n",
        "print(ts_df[['Value']].describe())\n",
        "\n",
        "# Let's write a function check if there is a number inside the given string\n",
        "def is_number(element) -> bool:\n",
        "  element = element.strip()\n",
        "  try:\n",
        "      float(element)\n",
        "      return True\n",
        "  except ValueError:\n",
        "      return False\n",
        "\n",
        "# Let's extract the number from string if there is any otherwise nan\n",
        "ts_df[\"Value\"] = ts_df.Value.apply(lambda x: x if is_number(x)==True else float('nan'))\n",
        "# Now let's get rid of the nan values\n",
        "ts_df = ts_df[ts_df.Value.notnull()]"
      ],
      "metadata": {
        "id": "2AFHSUTrkfs_"
      },
      "execution_count": null,
      "outputs": []
    },
    {
      "cell_type": "markdown",
      "metadata": {
        "id": "waasioqMAXU3"
      },
      "source": [
        "Let's try to extract some useful statistics from this data:"
      ]
    },
    {
      "cell_type": "code",
      "execution_count": null,
      "metadata": {
        "id": "04uOjaxU3txI"
      },
      "outputs": [],
      "source": [
        "# Write code to extract some statistics"
      ]
    },
    {
      "cell_type": "markdown",
      "metadata": {
        "id": "LZqnG-DEA6HP"
      },
      "source": [
        "From this point onward use whatever you have learned to visualize different aspects of the data.\n",
        "\n",
        "Some hints and tips:\n",
        "- Feel free to only bound the data to most recent years (Ex last 10 years),\n",
        "- Or for some of the countries of interest\n",
        "- Format your data \n",
        "- Do you see any global or common trends?\n",
        "- How is it different between genres? Or age-groups?\n",
        "- How do you want to visualize the latest unemployement rates per countries in a single plot?\n",
        "- Feel free to use https://www.kaggle.com/datasets/andradaolteanu/iso-country-codes-global to enrich your data\n",
        "- Look at the text data. Can you find a good use of wordCloud for this data?\n",
        "\n",
        "Try to answer at least few the following questions using visualization:\n",
        "- What is the overall trend in unemployment rate over the last few years? you can aggregate data yearly to have smoother output\n",
        "- How about trends Age-wise and Gender-wise?\n",
        "Feel free to go wild :)\n",
        "- How about trend between `United States`, `France` and `Germany` in 2020? \n",
        "- Can you use Geospatial visualization to show the latest overal unemployment rate for different countries?\n"
      ]
    },
    {
      "cell_type": "code",
      "execution_count": null,
      "metadata": {
        "id": "gfnAQf5LBohw"
      },
      "outputs": [],
      "source": [
        "# Apply different visualization techniques to answer meaningful questions\n",
        "#   and extract insights from the data"
      ]
    }
  ],
  "metadata": {
    "colab": {
      "collapsed_sections": [],
      "name": "2_visualization_analysis_exercise.ipynb",
      "provenance": [],
      "authorship_tag": "ABX9TyPkMV8NtboVJ5JPpduF3SsV",
      "include_colab_link": true
    },
    "kernelspec": {
      "display_name": "Python 3",
      "name": "python3"
    },
    "language_info": {
      "name": "python"
    }
  },
  "nbformat": 4,
  "nbformat_minor": 0
}