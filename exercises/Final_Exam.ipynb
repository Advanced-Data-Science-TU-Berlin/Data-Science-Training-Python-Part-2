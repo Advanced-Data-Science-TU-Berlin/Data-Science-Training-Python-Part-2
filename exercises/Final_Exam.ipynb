{
  "nbformat": 4,
  "nbformat_minor": 0,
  "metadata": {
    "colab": {
      "name": "Final_Exam.ipynb",
      "provenance": [],
      "collapsed_sections": [],
      "include_colab_link": true
    },
    "kernelspec": {
      "name": "python3",
      "display_name": "Python 3"
    },
    "language_info": {
      "name": "python"
    }
  },
  "cells": [
    {
      "cell_type": "markdown",
      "metadata": {
        "id": "view-in-github",
        "colab_type": "text"
      },
      "source": [
        "<a href=\"https://colab.research.google.com/github/Advanced-Data-Science-TU-Berlin/Data-Science-Training-Python-Part-2/blob/main/exercises/Final_Exam.ipynb\" target=\"_parent\"><img src=\"https://colab.research.google.com/assets/colab-badge.svg\" alt=\"Open In Colab\"/></a>"
      ]
    },
    {
      "cell_type": "markdown",
      "source": [
        "# Fina Exam\n",
        "For the final exercise we are using the data on the customer's records from a groceries firm's database.\n",
        "\n",
        "## Data Introduction\n",
        "\n",
        "Customer Personality Analysis is a detailed analysis of a company’s ideal customers. It helps a business to better understand its customers and makes it easier for them to modify products according to the specific needs, behaviors and concerns of different types of customers.\n",
        "\n",
        "Customer personality analysis helps a business to modify its product based on its target customers from different types of customer segments. For example, instead of spending money to market a new product to every customer in the company’s database, a company can analyze which customer segment is most likely to buy the product and then market the product only on that particular segment.\n",
        "\n",
        "Content\n",
        "\n",
        "Attributes\n",
        "\n",
        "People\n",
        "\n",
        "ID: Customer's unique identifier Year_Birth: Customer's birth year Education: Customer's education level Marital_Status: Customer's marital status Income: Customer's yearly household income Kidhome: Number of children in customer's household Teenhome: Number of teenagers in customer's household Dt_Customer: Date of customer's enrollment with the company Recency: Number of days since customer's last purchase Complain: 1 if the customer complained in the last 2 years, 0 otherwise Products\n",
        "\n",
        "MntWines: Amount spent on wine in last 2 years MntFruits: Amount spent on fruits in last 2 years MntMeatProducts: Amount spent on meat in last 2 years MntFishProducts: Amount spent on fish in last 2 years MntSweetProducts: Amount spent on sweets in last 2 years MntGoldProds: Amount spent on gold in last 2 years Promotion\n",
        "\n",
        "NumDealsPurchases: Number of purchases made with a discount AcceptedCmp1: 1 if customer accepted the offer in the 1st campaign, 0 otherwise AcceptedCmp2: 1 if customer accepted the offer in the 2nd campaign, 0 otherwise AcceptedCmp3: 1 if customer accepted the offer in the 3rd campaign, 0 otherwise AcceptedCmp4: 1 if customer accepted the offer in the 4th campaign, 0 otherwise AcceptedCmp5: 1 if customer accepted the offer in the 5th campaign, 0 otherwise Response: 1 if customer accepted the offer in the last campaign, 0 otherwise Place\n",
        "\n",
        "NumWebPurchases: Number of purchases made through the company’s website NumCatalogPurchases: Number of purchases made using a catalogue NumStorePurchases: Number of purchases made directly in stores NumWebVisitsMonth: Number of visits to company’s website in the last month\n",
        "\n",
        "To read more about the data please check [here](https://www.kaggle.com/datasets/imakash3011/customer-personality-analysis).\n",
        "\n",
        "### What is customer segmentation?\n",
        "Customer segmentation is the practice of separating customers into groups that reflect similarities among customers in that group. The goal is to segment customers to optimize the significance of each customer to the business.\n",
        "\n",
        "Benefits: \n",
        "- To modify products according to distinct needs and behaviours of the customers\n",
        "- It also helps the business to cater to the concerns of different types of customers\n",
        "\n",
        "\n",
        "> Since the data set is part of Kaggle DataSets you need to have your own `Access Token`. If you don't know how to get one please check [here](https://www.kaggle.com/docs/api). Alternatively you can just download the data and place it in the same directory as this file.\n",
        "\n",
        "Run the following section to install the external packages:"
      ],
      "metadata": {
        "id": "E--GaCfNdVOK"
      }
    },
    {
      "cell_type": "code",
      "execution_count": null,
      "metadata": {
        "id": "uLFrmeqxdUtm"
      },
      "outputs": [],
      "source": [
        "!pip install opendatasets\n",
        "!pip install wordcloud"
      ]
    },
    {
      "cell_type": "markdown",
      "source": [
        "Now let's try to get the data from Kaggle using the opendatasets package:"
      ],
      "metadata": {
        "id": "oCR6FV4Pe-J5"
      }
    },
    {
      "cell_type": "code",
      "source": [
        "import opendatasets as od\n",
        "od.download(\"https://www.kaggle.com/datasets/imakash3011/customer-personality-analysis\", force=True)"
      ],
      "metadata": {
        "id": "k-KAb-71dYSo"
      },
      "execution_count": null,
      "outputs": []
    },
    {
      "cell_type": "code",
      "source": [
        "# Imports\n",
        "import matplotlib.pyplot as plt\n",
        "import pandas as pd\n",
        "% matplotlib inline\n",
        "\n",
        "# Load the data from into pandas DataFrame\n",
        "# Make sure to put the right path to the data\n",
        "df = pd.read_csv(\"customer-personality-analysis/marketing_campaign.csv\",\n",
        "                 delimiter='\\t', parse_dates=['Dt_Customer'])\n",
        "\n",
        "# Let's loolk at so ok me rows\n",
        "df.head()"
      ],
      "metadata": {
        "id": "nEUfW8DxfH3C",
        "colab": {
          "base_uri": "https://localhost:8080/",
          "height": 300
        },
        "outputId": "705b10dd-5fb0-41a5-e9f0-2e1e7a6ff617"
      },
      "execution_count": 4,
      "outputs": [
        {
          "output_type": "execute_result",
          "data": {
            "text/plain": [
              "     ID  Year_Birth   Education Marital_Status   Income  Kidhome  Teenhome  \\\n",
              "0  5524        1957  Graduation         Single  58138.0        0         0   \n",
              "1  2174        1954  Graduation         Single  46344.0        1         1   \n",
              "2  4141        1965  Graduation       Together  71613.0        0         0   \n",
              "3  6182        1984  Graduation       Together  26646.0        1         0   \n",
              "4  5324        1981         PhD        Married  58293.0        1         0   \n",
              "\n",
              "  Dt_Customer  Recency  MntWines  ...  NumWebVisitsMonth  AcceptedCmp3  \\\n",
              "0  2012-04-09       58       635  ...                  7             0   \n",
              "1  2014-08-03       38        11  ...                  5             0   \n",
              "2  2013-08-21       26       426  ...                  4             0   \n",
              "3  2014-10-02       26        11  ...                  6             0   \n",
              "4  2014-01-19       94       173  ...                  5             0   \n",
              "\n",
              "   AcceptedCmp4  AcceptedCmp5  AcceptedCmp1  AcceptedCmp2  Complain  \\\n",
              "0             0             0             0             0         0   \n",
              "1             0             0             0             0         0   \n",
              "2             0             0             0             0         0   \n",
              "3             0             0             0             0         0   \n",
              "4             0             0             0             0         0   \n",
              "\n",
              "   Z_CostContact  Z_Revenue  Response  \n",
              "0              3         11         1  \n",
              "1              3         11         0  \n",
              "2              3         11         0  \n",
              "3              3         11         0  \n",
              "4              3         11         0  \n",
              "\n",
              "[5 rows x 29 columns]"
            ],
            "text/html": [
              "\n",
              "  <div id=\"df-fbe63099-0382-46dc-919d-759a48e3e28c\">\n",
              "    <div class=\"colab-df-container\">\n",
              "      <div>\n",
              "<style scoped>\n",
              "    .dataframe tbody tr th:only-of-type {\n",
              "        vertical-align: middle;\n",
              "    }\n",
              "\n",
              "    .dataframe tbody tr th {\n",
              "        vertical-align: top;\n",
              "    }\n",
              "\n",
              "    .dataframe thead th {\n",
              "        text-align: right;\n",
              "    }\n",
              "</style>\n",
              "<table border=\"1\" class=\"dataframe\">\n",
              "  <thead>\n",
              "    <tr style=\"text-align: right;\">\n",
              "      <th></th>\n",
              "      <th>ID</th>\n",
              "      <th>Year_Birth</th>\n",
              "      <th>Education</th>\n",
              "      <th>Marital_Status</th>\n",
              "      <th>Income</th>\n",
              "      <th>Kidhome</th>\n",
              "      <th>Teenhome</th>\n",
              "      <th>Dt_Customer</th>\n",
              "      <th>Recency</th>\n",
              "      <th>MntWines</th>\n",
              "      <th>...</th>\n",
              "      <th>NumWebVisitsMonth</th>\n",
              "      <th>AcceptedCmp3</th>\n",
              "      <th>AcceptedCmp4</th>\n",
              "      <th>AcceptedCmp5</th>\n",
              "      <th>AcceptedCmp1</th>\n",
              "      <th>AcceptedCmp2</th>\n",
              "      <th>Complain</th>\n",
              "      <th>Z_CostContact</th>\n",
              "      <th>Z_Revenue</th>\n",
              "      <th>Response</th>\n",
              "    </tr>\n",
              "  </thead>\n",
              "  <tbody>\n",
              "    <tr>\n",
              "      <th>0</th>\n",
              "      <td>5524</td>\n",
              "      <td>1957</td>\n",
              "      <td>Graduation</td>\n",
              "      <td>Single</td>\n",
              "      <td>58138.0</td>\n",
              "      <td>0</td>\n",
              "      <td>0</td>\n",
              "      <td>2012-04-09</td>\n",
              "      <td>58</td>\n",
              "      <td>635</td>\n",
              "      <td>...</td>\n",
              "      <td>7</td>\n",
              "      <td>0</td>\n",
              "      <td>0</td>\n",
              "      <td>0</td>\n",
              "      <td>0</td>\n",
              "      <td>0</td>\n",
              "      <td>0</td>\n",
              "      <td>3</td>\n",
              "      <td>11</td>\n",
              "      <td>1</td>\n",
              "    </tr>\n",
              "    <tr>\n",
              "      <th>1</th>\n",
              "      <td>2174</td>\n",
              "      <td>1954</td>\n",
              "      <td>Graduation</td>\n",
              "      <td>Single</td>\n",
              "      <td>46344.0</td>\n",
              "      <td>1</td>\n",
              "      <td>1</td>\n",
              "      <td>2014-08-03</td>\n",
              "      <td>38</td>\n",
              "      <td>11</td>\n",
              "      <td>...</td>\n",
              "      <td>5</td>\n",
              "      <td>0</td>\n",
              "      <td>0</td>\n",
              "      <td>0</td>\n",
              "      <td>0</td>\n",
              "      <td>0</td>\n",
              "      <td>0</td>\n",
              "      <td>3</td>\n",
              "      <td>11</td>\n",
              "      <td>0</td>\n",
              "    </tr>\n",
              "    <tr>\n",
              "      <th>2</th>\n",
              "      <td>4141</td>\n",
              "      <td>1965</td>\n",
              "      <td>Graduation</td>\n",
              "      <td>Together</td>\n",
              "      <td>71613.0</td>\n",
              "      <td>0</td>\n",
              "      <td>0</td>\n",
              "      <td>2013-08-21</td>\n",
              "      <td>26</td>\n",
              "      <td>426</td>\n",
              "      <td>...</td>\n",
              "      <td>4</td>\n",
              "      <td>0</td>\n",
              "      <td>0</td>\n",
              "      <td>0</td>\n",
              "      <td>0</td>\n",
              "      <td>0</td>\n",
              "      <td>0</td>\n",
              "      <td>3</td>\n",
              "      <td>11</td>\n",
              "      <td>0</td>\n",
              "    </tr>\n",
              "    <tr>\n",
              "      <th>3</th>\n",
              "      <td>6182</td>\n",
              "      <td>1984</td>\n",
              "      <td>Graduation</td>\n",
              "      <td>Together</td>\n",
              "      <td>26646.0</td>\n",
              "      <td>1</td>\n",
              "      <td>0</td>\n",
              "      <td>2014-10-02</td>\n",
              "      <td>26</td>\n",
              "      <td>11</td>\n",
              "      <td>...</td>\n",
              "      <td>6</td>\n",
              "      <td>0</td>\n",
              "      <td>0</td>\n",
              "      <td>0</td>\n",
              "      <td>0</td>\n",
              "      <td>0</td>\n",
              "      <td>0</td>\n",
              "      <td>3</td>\n",
              "      <td>11</td>\n",
              "      <td>0</td>\n",
              "    </tr>\n",
              "    <tr>\n",
              "      <th>4</th>\n",
              "      <td>5324</td>\n",
              "      <td>1981</td>\n",
              "      <td>PhD</td>\n",
              "      <td>Married</td>\n",
              "      <td>58293.0</td>\n",
              "      <td>1</td>\n",
              "      <td>0</td>\n",
              "      <td>2014-01-19</td>\n",
              "      <td>94</td>\n",
              "      <td>173</td>\n",
              "      <td>...</td>\n",
              "      <td>5</td>\n",
              "      <td>0</td>\n",
              "      <td>0</td>\n",
              "      <td>0</td>\n",
              "      <td>0</td>\n",
              "      <td>0</td>\n",
              "      <td>0</td>\n",
              "      <td>3</td>\n",
              "      <td>11</td>\n",
              "      <td>0</td>\n",
              "    </tr>\n",
              "  </tbody>\n",
              "</table>\n",
              "<p>5 rows × 29 columns</p>\n",
              "</div>\n",
              "      <button class=\"colab-df-convert\" onclick=\"convertToInteractive('df-fbe63099-0382-46dc-919d-759a48e3e28c')\"\n",
              "              title=\"Convert this dataframe to an interactive table.\"\n",
              "              style=\"display:none;\">\n",
              "        \n",
              "  <svg xmlns=\"http://www.w3.org/2000/svg\" height=\"24px\"viewBox=\"0 0 24 24\"\n",
              "       width=\"24px\">\n",
              "    <path d=\"M0 0h24v24H0V0z\" fill=\"none\"/>\n",
              "    <path d=\"M18.56 5.44l.94 2.06.94-2.06 2.06-.94-2.06-.94-.94-2.06-.94 2.06-2.06.94zm-11 1L8.5 8.5l.94-2.06 2.06-.94-2.06-.94L8.5 2.5l-.94 2.06-2.06.94zm10 10l.94 2.06.94-2.06 2.06-.94-2.06-.94-.94-2.06-.94 2.06-2.06.94z\"/><path d=\"M17.41 7.96l-1.37-1.37c-.4-.4-.92-.59-1.43-.59-.52 0-1.04.2-1.43.59L10.3 9.45l-7.72 7.72c-.78.78-.78 2.05 0 2.83L4 21.41c.39.39.9.59 1.41.59.51 0 1.02-.2 1.41-.59l7.78-7.78 2.81-2.81c.8-.78.8-2.07 0-2.86zM5.41 20L4 18.59l7.72-7.72 1.47 1.35L5.41 20z\"/>\n",
              "  </svg>\n",
              "      </button>\n",
              "      \n",
              "  <style>\n",
              "    .colab-df-container {\n",
              "      display:flex;\n",
              "      flex-wrap:wrap;\n",
              "      gap: 12px;\n",
              "    }\n",
              "\n",
              "    .colab-df-convert {\n",
              "      background-color: #E8F0FE;\n",
              "      border: none;\n",
              "      border-radius: 50%;\n",
              "      cursor: pointer;\n",
              "      display: none;\n",
              "      fill: #1967D2;\n",
              "      height: 32px;\n",
              "      padding: 0 0 0 0;\n",
              "      width: 32px;\n",
              "    }\n",
              "\n",
              "    .colab-df-convert:hover {\n",
              "      background-color: #E2EBFA;\n",
              "      box-shadow: 0px 1px 2px rgba(60, 64, 67, 0.3), 0px 1px 3px 1px rgba(60, 64, 67, 0.15);\n",
              "      fill: #174EA6;\n",
              "    }\n",
              "\n",
              "    [theme=dark] .colab-df-convert {\n",
              "      background-color: #3B4455;\n",
              "      fill: #D2E3FC;\n",
              "    }\n",
              "\n",
              "    [theme=dark] .colab-df-convert:hover {\n",
              "      background-color: #434B5C;\n",
              "      box-shadow: 0px 1px 3px 1px rgba(0, 0, 0, 0.15);\n",
              "      filter: drop-shadow(0px 1px 2px rgba(0, 0, 0, 0.3));\n",
              "      fill: #FFFFFF;\n",
              "    }\n",
              "  </style>\n",
              "\n",
              "      <script>\n",
              "        const buttonEl =\n",
              "          document.querySelector('#df-fbe63099-0382-46dc-919d-759a48e3e28c button.colab-df-convert');\n",
              "        buttonEl.style.display =\n",
              "          google.colab.kernel.accessAllowed ? 'block' : 'none';\n",
              "\n",
              "        async function convertToInteractive(key) {\n",
              "          const element = document.querySelector('#df-fbe63099-0382-46dc-919d-759a48e3e28c');\n",
              "          const dataTable =\n",
              "            await google.colab.kernel.invokeFunction('convertToInteractive',\n",
              "                                                     [key], {});\n",
              "          if (!dataTable) return;\n",
              "\n",
              "          const docLinkHtml = 'Like what you see? Visit the ' +\n",
              "            '<a target=\"_blank\" href=https://colab.research.google.com/notebooks/data_table.ipynb>data table notebook</a>'\n",
              "            + ' to learn more about interactive tables.';\n",
              "          element.innerHTML = '';\n",
              "          dataTable['output_type'] = 'display_data';\n",
              "          await google.colab.output.renderOutput(dataTable, element);\n",
              "          const docLink = document.createElement('div');\n",
              "          docLink.innerHTML = docLinkHtml;\n",
              "          element.appendChild(docLink);\n",
              "        }\n",
              "      </script>\n",
              "    </div>\n",
              "  </div>\n",
              "  "
            ]
          },
          "metadata": {},
          "execution_count": 4
        }
      ]
    },
    {
      "cell_type": "markdown",
      "source": [
        "## Preprocessing\n",
        "Let's try to extract some useful `statistics` from this data and do  `preprocessing`.\n",
        "\n",
        "Now let's draw some basic statistics from it:"
      ],
      "metadata": {
        "id": "HfVWQyx0f23Y"
      }
    },
    {
      "cell_type": "markdown",
      "source": [
        "## **Question 1: Descriptive Statistics **\n",
        "\n",
        "\n",
        "Please report the mean , standard deviation, median of all Numeric Variables like Year_Birth, Income, Kidhome,.....\n"
      ],
      "metadata": {
        "id": "QSIjo2BDrx9-"
      }
    },
    {
      "cell_type": "code",
      "source": [
        "# Use std/mean/median on pandas DataFrame here\n"
      ],
      "metadata": {
        "id": "XxdEkF02tKp5"
      },
      "execution_count": null,
      "outputs": []
    },
    {
      "cell_type": "markdown",
      "source": [
        "## **Question 2: Inferential Tests **\n",
        "Regarding the data, plesae estimate whether there is a significant or non signficant difference between `Married` and `Divorced` custommer in the amount spent on meat `MntMeatProducts`?\n",
        "\n",
        "### Part-1\n",
        "For this question, please make two groups based on the the Marital status and then compare their Amount spent on Meat Product."
      ],
      "metadata": {
        "id": "VsDC4jfZaFrJ"
      }
    },
    {
      "cell_type": "code",
      "source": [
        "from scipy.stats import ttest_ind\n",
        "# Select group1 as Marries and uncomment next line\n",
        "# group1 = \n",
        "\n",
        "# Select group2 as Divorced and uncomment next line\n",
        "# group2 = \n",
        "\n",
        "# Apply ttest between group1 and group2\n"
      ],
      "metadata": {
        "id": "tmsln2O_524G"
      },
      "execution_count": 6,
      "outputs": []
    },
    {
      "cell_type": "markdown",
      "source": [
        "### Part-2\n",
        "Regarding the data, plesae estimate whether there is a significant or non signficant difference between `Married` and `Signal` custommer in the amount spent on meat `MntMeatProducts` ?\n",
        "\n",
        "For this question, please make two groups based on the the Marital status and then compare their Amount spent on Meat Product."
      ],
      "metadata": {
        "id": "NwiTHlrfa3s3"
      }
    },
    {
      "cell_type": "code",
      "source": [
        "# Similar to part-1 apply the test on the new groups"
      ],
      "metadata": {
        "id": "HLMgMuW0bEuq"
      },
      "execution_count": null,
      "outputs": []
    },
    {
      "cell_type": "markdown",
      "source": [
        "## **Question 3: Binary Logistic Regression **\n",
        "\n",
        "Regrding the data, There are these variables :\n",
        "\n",
        "1. MntWines: Amount spent on wine in last 2 years \n",
        "2. MntMeatProducts: Amount spent on meat in last 2 years\n",
        "3. NumWebVisitsMonth: Number of visits to company’s website in the last month\n",
        "4.NumDealsPurchases: Number of purchases made with a discount\n",
        "\n",
        "Then, there is a binary variable : `Response` which is \" Whether this person resoponses to the offer of the company. We have an assumption that there are significant relationship between this binary variable and 4 aforementioend vriables.\n",
        "\n",
        "> Please develop a Binary logistic regression model to explain the \n",
        "relationships between a binary variable \"Response\" and these four variables and estimate the coefficents and their p values."
      ],
      "metadata": {
        "id": "4AIQWjY4AJiq"
      }
    },
    {
      "cell_type": "code",
      "source": [
        "# Import\n",
        "import statsmodels.formula.api as smf\n",
        "# Run the logit with the proper formula/function and fit it on data\n",
        "\n",
        "# Print the model summary"
      ],
      "metadata": {
        "id": "evjV33EB9D6f"
      },
      "execution_count": null,
      "outputs": []
    },
    {
      "cell_type": "markdown",
      "source": [
        "## **Question 4: Feature Engineering **\n",
        "\n",
        "Try to answer each of these questions and follow the steps:\n",
        "\n",
        "Is there any missing values?"
      ],
      "metadata": {
        "id": "uze2R6y1dALY"
      }
    },
    {
      "cell_type": "code",
      "source": [
        "# Is there any missing values? print df.info()"
      ],
      "metadata": {
        "id": "GHgmliV-_roL"
      },
      "execution_count": null,
      "outputs": []
    },
    {
      "cell_type": "markdown",
      "source": [
        "## **Question 6: Time-series Analysis **\n",
        "\n",
        " Can you plot the time-series for number of customers enrolled over time (days)? Is it stationary?\n",
        "> Dt_Customer is the Date of customer's enrollment with the company."
      ],
      "metadata": {
        "id": "6qizsp0ofKoM"
      }
    },
    {
      "cell_type": "code",
      "source": [
        "from statsmodels.tsa.stattools import kpss, adfuller\n",
        "# Let's take a look at the time-series of number of customers enrolled in different days\n",
        "\n",
        "# Grouping data by days and count the number of unique users being enrolled\n",
        "daily_enrollment = df.set_index('Dt_Customer').groupby(pd.Grouper(freq='d')).ID.nunique()\n",
        "\n",
        "# Plot the time-series data\n",
        "\n",
        "# Can you say which period of time the company was more active to get more customers?\n",
        "\n",
        "# use either kpss or adf to test the stationarity of this time-series. Is it stationary?\n"
      ],
      "metadata": {
        "id": "-pZjHNugdNjs",
        "colab": {
          "base_uri": "https://localhost:8080/"
        },
        "outputId": "42273f23-a0f1-471c-88fd-cc02d61bcb22"
      },
      "execution_count": 7,
      "outputs": [
        {
          "output_type": "stream",
          "name": "stderr",
          "text": [
            "/usr/local/lib/python3.7/dist-packages/statsmodels/tools/_testing.py:19: FutureWarning: pandas.util.testing is deprecated. Use the functions in the public API at pandas.testing instead.\n",
            "  import pandas.util.testing as tm\n"
          ]
        }
      ]
    },
    {
      "cell_type": "markdown",
      "source": [
        "## **Question 7: Visualization **\n",
        "\n",
        "### Part-1: Can you visualize customer's education level and marital status based on their frequency?"
      ],
      "metadata": {
        "id": "irkS5XW5k_Kd"
      }
    },
    {
      "cell_type": "code",
      "source": [
        "from wordcloud import WordCloud\n",
        "# Calculate the frequencies for each of the education level and marital status\n",
        "education_freq = df.groupby(\"Education\").size().sort_values()\n",
        "marital_status_freq = df.groupby(\"Marital_Status\").size().sort_values()\n",
        "\n",
        "# Use wordcloud to show the frequency of different education levels among customers\n",
        "# Tell what is the education level of majority of the customers\n",
        "\n",
        "# Use pie-chart to show the frequency of different marital status among customers\n",
        "# If you don't know how check this: https://pandas.pydata.org/docs/reference/api/pandas.DataFrame.plot.pie.html\n",
        "# Tell what is the marital status of majority of the customers\n"
      ],
      "metadata": {
        "id": "vEnX2QJ-k-qg"
      },
      "execution_count": null,
      "outputs": []
    },
    {
      "cell_type": "markdown",
      "source": [
        "### Part-2 What is the distribution of the customer's income?"
      ],
      "metadata": {
        "id": "N5hmU0NmoHkC"
      }
    },
    {
      "cell_type": "code",
      "source": [
        "# Plot the distribution of incomes using `hist` set bins to 100\n",
        "\n",
        "# Plot the cumulative distribution of incomes using hist and cumulative=1\n",
        "\n",
        "# Remove outliers: incomes which are too big\n",
        "# Guess the threshold by looking at the previous cumulative plot \n",
        "\n",
        "# thresh = ? # Uncomment this line and replace ? with the threshold\n",
        "filtered_income_df = df.query(f\"Income<{thresh}\")\n",
        "\n",
        "# Plot the histogram of filtered incomes\n",
        "# How does the distribution looks like?\n",
        "filtered_income_df.Income.hist(bins=20)\n",
        "plt.show()"
      ],
      "metadata": {
        "id": "-kUwtZZE52zo"
      },
      "execution_count": null,
      "outputs": []
    },
    {
      "cell_type": "markdown",
      "source": [
        "## **Question 8: Clustering **\n",
        "Can you clustering the customers into segments using different or only selection of features?\n",
        "- Use KMeans to cluster the data\n",
        "- Try to find the number of clusers\n",
        "- Can you infer anything out of your results?\n",
        "- [OPTIONAL] Feel free to apply feature reduction techniques before applying the model\n",
        "- [OPTIONAL] Feel free to try out other clustering methods"
      ],
      "metadata": {
        "id": "S5Iy9SFssyFV"
      }
    },
    {
      "cell_type": "code",
      "source": [
        "# Cluster your data\n",
        "\n",
        "# Find the number of clusters\n",
        "\n",
        "# Interpret the result"
      ],
      "metadata": {
        "id": "dWg8LzrdrRWk"
      },
      "execution_count": null,
      "outputs": []
    },
    {
      "cell_type": "markdown",
      "source": [
        "### [OPTIONAL]\n",
        " Try to do further data preprocessing by:\n",
        " - Can you extract some new meaningful features out of the existing ones? Can you explain why it would be better this way?\n",
        "  - Can you create a new field `age` from the `Year_Birth`? \n",
        "  - Can you create a new field `customer_for` from the of the number of days the customers started to shop in the store relative to the \n",
        "  - Can you create a new feature `n_children` to indicate total children in a household that is, `kids` and `teenagers`.\n"
      ],
      "metadata": {
        "id": "BTR8PBjbrSzt"
      }
    }
  ]
}