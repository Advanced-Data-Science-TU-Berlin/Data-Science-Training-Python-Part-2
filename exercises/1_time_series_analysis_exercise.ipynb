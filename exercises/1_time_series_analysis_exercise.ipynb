{
  "nbformat": 4,
  "nbformat_minor": 0,
  "metadata": {
    "colab": {
      "name": "1_time_series_analysis_exercise.ipynb",
      "provenance": [],
      "collapsed_sections": [],
      "authorship_tag": "ABX9TyOoK03V2tn4u5Z1xwkFlVQR",
      "include_colab_link": true
    },
    "kernelspec": {
      "name": "python3",
      "display_name": "Python 3"
    },
    "language_info": {
      "name": "python"
    }
  },
  "cells": [
    {
      "cell_type": "markdown",
      "metadata": {
        "id": "view-in-github",
        "colab_type": "text"
      },
      "source": [
        "<a href=\"https://colab.research.google.com/github/Advanced-Data-Science-TU-Berlin/Data-Science-Training-Python-Part-2/blob/main/exercises/1_time_series_analysis_exercise.ipynb\" target=\"_parent\"><img src=\"https://colab.research.google.com/assets/colab-badge.svg\" alt=\"Open In Colab\"/></a>"
      ]
    },
    {
      "cell_type": "markdown",
      "source": [
        "# Exercise: Time Series Analysis / Forecasting\n",
        "The data that we are going to use here is the Australian Drug Sales.\n",
        "\n",
        "Let's try section by section and write the code for the requested part."
      ],
      "metadata": {
        "id": "uJQAyezUqUNb"
      }
    },
    {
      "cell_type": "code",
      "execution_count": null,
      "metadata": {
        "id": "4vynEoDzmqeI"
      },
      "outputs": [],
      "source": [
        "# Import some packages which you may need during this exercise\n",
        "import numpy as np\n",
        "import pandas as pd\n",
        "\n",
        "\n",
        "# Import data\n",
        "df = pd.read_csv('https://raw.githubusercontent.com/selva86/datasets/master/a10.csv',\n",
        "                 parse_dates=['date'], index_col='date')"
      ]
    },
    {
      "cell_type": "markdown",
      "source": [
        "Let's look at few rows of the data.\n",
        "Can you tell what is the granularity of this time-seris?"
      ],
      "metadata": {
        "id": "BmGrU6SysjFR"
      }
    },
    {
      "cell_type": "code",
      "source": [
        "# Show few rows of data"
      ],
      "metadata": {
        "id": "Ikg9KAbvspt2"
      },
      "execution_count": null,
      "outputs": []
    },
    {
      "cell_type": "markdown",
      "source": [
        "Let's try to visualize the data.\n",
        "\n",
        "Can you already tell if the data is stationary?"
      ],
      "metadata": {
        "id": "bH3_JNxZr40w"
      }
    },
    {
      "cell_type": "code",
      "source": [
        "# Visualize the data"
      ],
      "metadata": {
        "id": "J3GVAi6loVlC"
      },
      "execution_count": null,
      "outputs": []
    },
    {
      "cell_type": "markdown",
      "source": [
        "[Optional] Can you plot the time-series data per year?\n",
        "This will help us to see their common patterns within in different months"
      ],
      "metadata": {
        "id": "64Kh3NTeszUe"
      }
    },
    {
      "cell_type": "code",
      "source": [
        "# [OPTIONA] Seasonal Plot of a Time Series "
      ],
      "metadata": {
        "id": "RYgEMcY1oa9i"
      },
      "execution_count": null,
      "outputs": []
    },
    {
      "cell_type": "markdown",
      "source": [
        "## Kwiatkowski-Phillips-Schmidt-Shin (KPSS) Test\n",
        "KPSS is another statistical test which is a type of Unit root test that tests for the stationarity of a given series around a deterministic trend.\n",
        "In other words, the test is somewhat similar in spirit with the ADF test.\n",
        "\n",
        "KPSS test is conducted with the following assumptions.\n",
        "\n",
        "Null Hypothesis (HO): Series is trend stationary or series has no unit root.\n",
        "\n",
        "Alternate Hypothesis(HA): Series is non-stationary or series has a unit root.\n",
        ">Note: Hypothesis is reversed in KPSS test compared to ADF Test.\n",
        "\n",
        "If the null hypothesis is failed to be rejected, this test may provide evidence that the series is trend stationary.\n",
        "Conditions to Fail to Reject Null Hypothesis(HO)\n",
        "\n",
        "If Test statistic < Critical Value and p-value < 0.05 – Fail to Reject Null Hypothesis(HO) i.e., time series does not have a unit root, meaning it is trend stationary.\n",
        "Please read [this](https://www.analyticsvidhya.com/blog/2021/06/statistical-tests-to-check-stationarity-in-time-series-part-1/#:~:text=Two%20tests%20for%20checking%20the,check%20stationarity%20in%20Time%20Series.) for more information.\n",
        "\n",
        "Let's write the code for the KPSS test and try to interpret the results (you can borrow the codes from the given link):"
      ],
      "metadata": {
        "id": "WkpqWnNDtZ2E"
      }
    },
    {
      "cell_type": "code",
      "source": [
        "from statsmodels.tsa.stattools import kpss\n",
        "# Apply the KPSS test on the time-series data"
      ],
      "metadata": {
        "id": "3Y8zsR5GtJOP"
      },
      "execution_count": null,
      "outputs": []
    },
    {
      "cell_type": "markdown",
      "source": [
        "Now let's try to decompose the time-series using seasonal_decompose:"
      ],
      "metadata": {
        "id": "yz4LBeUewhnY"
      }
    },
    {
      "cell_type": "code",
      "source": [
        "# Write the code for decomposing the time-series and visualize the components\n",
        "# Use both Additive and Multiplicative models and notice the difference"
      ],
      "metadata": {
        "id": "z8KXFi4OupSK"
      },
      "execution_count": null,
      "outputs": []
    },
    {
      "cell_type": "markdown",
      "source": [
        "Now let's **Deseasonalize** the time-series. For that you just need to reduce or dividing (depending on the model you used) the seasonal part of the decomposed result from the actual time-seris.\n",
        "Try to visualize the deseasonalize time-series:"
      ],
      "metadata": {
        "id": "-LI6XRSzwvtq"
      }
    },
    {
      "cell_type": "code",
      "source": [
        "# Calculate and visualize the deseasonalize time-series from the\n",
        "# decomposed results from the Multiplicative model"
      ],
      "metadata": {
        "id": "37WZ0fLmwt5L"
      },
      "execution_count": null,
      "outputs": []
    },
    {
      "cell_type": "markdown",
      "source": [
        "Now plot the Autocorrelation and Partial Autocorrelation Plots"
      ],
      "metadata": {
        "id": "Ma4Sq4kYyO3d"
      }
    },
    {
      "cell_type": "code",
      "source": [
        "# Write the code for plotting the ACF and PACF for the time-series"
      ],
      "metadata": {
        "id": "duZq3VIIxt9M"
      },
      "execution_count": null,
      "outputs": []
    },
    {
      "cell_type": "markdown",
      "source": [
        "Now that you have more information about this time-series and its characteristics, let's try to do a forecasting for the last 6 month.\n",
        "You need to divide your data into train and test.\n",
        "You can use any forecasting model (EX. ARMA, ARIMA, SARIMA, ...) as long as you know what it does. Feel free to explore new models.\n",
        "\n",
        "After that let's evaluate the model by comparing the forecasting results with the actual values. Use multiple evaluation metrics.\n",
        "\n",
        "Does your model performs good?"
      ],
      "metadata": {
        "id": "RSv0pRNXzMbF"
      }
    },
    {
      "cell_type": "code",
      "source": [
        "# Prepare your train and test data\n",
        "\n",
        "# Write the code for the model forecasting\n",
        "\n",
        "# Visualize the forecast results alongside the actual data\n",
        "\n",
        "# Evaluate your model outcome"
      ],
      "metadata": {
        "id": "5w9P3S_sy5aX"
      },
      "execution_count": null,
      "outputs": []
    },
    {
      "cell_type": "markdown",
      "source": [
        "Useful links:\n",
        "\n",
        "- https://www.analyticsvidhya.com/blog/2020/10/how-to-create-an-arima-model-for-time-series-forecasting-in-python/\n",
        "- https://www.baeldung.com/cs/acf-pacf-plots-arma-modeling\n",
        "- https://www.machinelearningplus.com/time-series/arima-model-time-series-forecasting-python/\n",
        "- https://www.machinelearningplus.com/time-series/time-series-analysis-python/"
      ],
      "metadata": {
        "id": "QozxrRC70nHd"
      }
    },
    {
      "cell_type": "code",
      "source": [
        ""
      ],
      "metadata": {
        "id": "hfEZRo3Z0kt6"
      },
      "execution_count": null,
      "outputs": []
    }
  ]
}