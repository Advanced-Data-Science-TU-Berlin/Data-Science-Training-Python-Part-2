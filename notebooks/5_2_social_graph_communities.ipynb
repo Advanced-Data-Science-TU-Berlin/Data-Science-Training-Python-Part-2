{
  "nbformat": 4,
  "nbformat_minor": 0,
  "metadata": {
    "colab": {
      "name": "5_2_social_graph_communities.ipynb",
      "provenance": [],
      "collapsed_sections": [],
      "authorship_tag": "ABX9TyNmpJX+kO/2YEumlMJvq1HN",
      "include_colab_link": true
    },
    "kernelspec": {
      "name": "python3",
      "display_name": "Python 3"
    },
    "language_info": {
      "name": "python"
    }
  },
  "cells": [
    {
      "cell_type": "markdown",
      "metadata": {
        "id": "view-in-github",
        "colab_type": "text"
      },
      "source": [
        "<a href=\"https://colab.research.google.com/github/Advanced-Data-Science-TU-Berlin/Part-2/blob/main/notebooks/5_2_social_graph_communities.ipynb\" target=\"_parent\"><img src=\"https://colab.research.google.com/assets/colab-badge.svg\" alt=\"Open In Colab\"/></a>"
      ]
    },
    {
      "cell_type": "markdown",
      "source": [
        "# Analyzing Massive Graphs - Marvel Universe\n",
        "In this exercise we will be using a dataset from the comics and movies associated with the Marvel Universe. This dataset can be found [here](https://www.kaggle.com/datasets/csanhueza/the-marvel-universe-social-network). It contains 40,616 characters and 65,870 relationships connecting them. We will be using this dataset to discover its hidden characteristics, how the different characters influenced each other and their communities structure.\n",
        "\n",
        "## About DataSet\n",
        "The Marvel dataset is composed of a list of co-occurrences of super heros. For example, every time Spider Man appears in a comic book with Captain America, we will have a line with both their names. Additionally, the characters have numerous properties that can be associated with each node.\n",
        "The dataset is divided into three files:\n",
        "- nodes.csv: Contains two columns (node, type), indicating the name and the type (comic, hero) of the nodes.\n",
        "- edges.csv: Contains two columns (hero, comic), indicating in which comics the heroes appear.\n",
        "- hero-edge.csv: Contains the network of heroes which appear together in the comics. This file was originally taken from http://syntagmatic.github.io/exposedata/marvel/\n",
        "\n",
        "First, let's download the dataset and look at some samples from the data:"
      ],
      "metadata": {
        "id": "alHjwyjykPTH"
      }
    },
    {
      "cell_type": "code",
      "execution_count": null,
      "metadata": {
        "colab": {
          "base_uri": "https://localhost:8080/"
        },
        "id": "7wiPhkTPjTdl",
        "outputId": "a6f2b945-84a2-4a66-9e77-3fb613f81344"
      },
      "outputs": [
        {
          "output_type": "stream",
          "name": "stdout",
          "text": [
            "Requirement already satisfied: opendatasets in /usr/local/lib/python3.7/dist-packages (0.1.22)\n",
            "Requirement already satisfied: tqdm in /usr/local/lib/python3.7/dist-packages (from opendatasets) (4.64.0)\n",
            "Requirement already satisfied: click in /usr/local/lib/python3.7/dist-packages (from opendatasets) (7.1.2)\n",
            "Requirement already satisfied: kaggle in /usr/local/lib/python3.7/dist-packages (from opendatasets) (1.5.12)\n",
            "Requirement already satisfied: python-dateutil in /usr/local/lib/python3.7/dist-packages (from kaggle->opendatasets) (2.8.2)\n",
            "Requirement already satisfied: certifi in /usr/local/lib/python3.7/dist-packages (from kaggle->opendatasets) (2021.10.8)\n",
            "Requirement already satisfied: urllib3 in /usr/local/lib/python3.7/dist-packages (from kaggle->opendatasets) (1.24.3)\n",
            "Requirement already satisfied: six>=1.10 in /usr/local/lib/python3.7/dist-packages (from kaggle->opendatasets) (1.15.0)\n",
            "Requirement already satisfied: python-slugify in /usr/local/lib/python3.7/dist-packages (from kaggle->opendatasets) (6.1.2)\n",
            "Requirement already satisfied: requests in /usr/local/lib/python3.7/dist-packages (from kaggle->opendatasets) (2.23.0)\n",
            "Requirement already satisfied: text-unidecode>=1.3 in /usr/local/lib/python3.7/dist-packages (from python-slugify->kaggle->opendatasets) (1.3)\n",
            "Requirement already satisfied: chardet<4,>=3.0.2 in /usr/local/lib/python3.7/dist-packages (from requests->kaggle->opendatasets) (3.0.4)\n",
            "Requirement already satisfied: idna<3,>=2.5 in /usr/local/lib/python3.7/dist-packages (from requests->kaggle->opendatasets) (2.10)\n",
            "Collecting pyvis\n",
            "  Downloading pyvis-0.2.1.tar.gz (21 kB)\n",
            "Requirement already satisfied: jinja2>=2.9.6 in /usr/local/lib/python3.7/dist-packages (from pyvis) (2.11.3)\n",
            "Requirement already satisfied: networkx>=1.11 in /usr/local/lib/python3.7/dist-packages (from pyvis) (2.6.3)\n",
            "Requirement already satisfied: ipython>=5.3.0 in /usr/local/lib/python3.7/dist-packages (from pyvis) (5.5.0)\n",
            "Collecting jsonpickle>=1.4.1\n",
            "  Downloading jsonpickle-2.2.0-py2.py3-none-any.whl (39 kB)\n",
            "Requirement already satisfied: setuptools>=18.5 in /usr/local/lib/python3.7/dist-packages (from ipython>=5.3.0->pyvis) (57.4.0)\n",
            "Requirement already satisfied: pygments in /usr/local/lib/python3.7/dist-packages (from ipython>=5.3.0->pyvis) (2.6.1)\n",
            "Requirement already satisfied: pexpect in /usr/local/lib/python3.7/dist-packages (from ipython>=5.3.0->pyvis) (4.8.0)\n",
            "Requirement already satisfied: simplegeneric>0.8 in /usr/local/lib/python3.7/dist-packages (from ipython>=5.3.0->pyvis) (0.8.1)\n",
            "Requirement already satisfied: traitlets>=4.2 in /usr/local/lib/python3.7/dist-packages (from ipython>=5.3.0->pyvis) (5.1.1)\n",
            "Requirement already satisfied: prompt-toolkit<2.0.0,>=1.0.4 in /usr/local/lib/python3.7/dist-packages (from ipython>=5.3.0->pyvis) (1.0.18)\n",
            "Requirement already satisfied: pickleshare in /usr/local/lib/python3.7/dist-packages (from ipython>=5.3.0->pyvis) (0.7.5)\n",
            "Requirement already satisfied: decorator in /usr/local/lib/python3.7/dist-packages (from ipython>=5.3.0->pyvis) (4.4.2)\n",
            "Requirement already satisfied: MarkupSafe>=0.23 in /usr/local/lib/python3.7/dist-packages (from jinja2>=2.9.6->pyvis) (2.0.1)\n",
            "Requirement already satisfied: importlib-metadata in /usr/local/lib/python3.7/dist-packages (from jsonpickle>=1.4.1->pyvis) (4.11.3)\n",
            "Requirement already satisfied: wcwidth in /usr/local/lib/python3.7/dist-packages (from prompt-toolkit<2.0.0,>=1.0.4->ipython>=5.3.0->pyvis) (0.2.5)\n",
            "Requirement already satisfied: six>=1.9.0 in /usr/local/lib/python3.7/dist-packages (from prompt-toolkit<2.0.0,>=1.0.4->ipython>=5.3.0->pyvis) (1.15.0)\n",
            "Requirement already satisfied: typing-extensions>=3.6.4 in /usr/local/lib/python3.7/dist-packages (from importlib-metadata->jsonpickle>=1.4.1->pyvis) (4.2.0)\n",
            "Requirement already satisfied: zipp>=0.5 in /usr/local/lib/python3.7/dist-packages (from importlib-metadata->jsonpickle>=1.4.1->pyvis) (3.8.0)\n",
            "Requirement already satisfied: ptyprocess>=0.5 in /usr/local/lib/python3.7/dist-packages (from pexpect->ipython>=5.3.0->pyvis) (0.7.0)\n",
            "Building wheels for collected packages: pyvis\n",
            "  Building wheel for pyvis (setup.py) ... \u001b[?25l\u001b[?25hdone\n",
            "  Created wheel for pyvis: filename=pyvis-0.2.1-py3-none-any.whl size=23688 sha256=3951fc3119181b909df82bb3e4e9e35ab9beb2e2d5d70b3619d656a80fcdc132\n",
            "  Stored in directory: /root/.cache/pip/wheels/2a/8f/04/6340d46afc74f59cc857a594ca1a2a14a1f4cbd4fd6c2e9306\n",
            "Successfully built pyvis\n",
            "Installing collected packages: jsonpickle, pyvis\n",
            "Successfully installed jsonpickle-2.2.0 pyvis-0.2.1\n"
          ]
        }
      ],
      "source": [
        "!pip install opendatasets\n",
        "!pip install pyvis"
      ]
    },
    {
      "cell_type": "code",
      "source": [
        "import opendatasets as od\n",
        "od.download(\"https://www.kaggle.com/datasets/csanhueza/the-marvel-universe-social-network\", force=True)"
      ],
      "metadata": {
        "colab": {
          "base_uri": "https://localhost:8080/"
        },
        "id": "xcqh9zMlmU5K",
        "outputId": "7543cc83-8329-41bc-9245-545f64f6c12e"
      },
      "execution_count": null,
      "outputs": [
        {
          "output_type": "stream",
          "name": "stdout",
          "text": [
            "Please provide your Kaggle credentials to download this dataset. Learn more: http://bit.ly/kaggle-creds\n",
            "Your Kaggle username: mahnaznmz\n",
            "Your Kaggle Key: ··········\n",
            "Downloading the-marvel-universe-social-network.zip to ./the-marvel-universe-social-network\n"
          ]
        },
        {
          "output_type": "stream",
          "name": "stderr",
          "text": [
            "100%|██████████| 2.72M/2.72M [00:00<00:00, 157MB/s]"
          ]
        },
        {
          "output_type": "stream",
          "name": "stdout",
          "text": [
            "\n"
          ]
        },
        {
          "output_type": "stream",
          "name": "stderr",
          "text": [
            "\n"
          ]
        }
      ]
    },
    {
      "cell_type": "code",
      "source": [
        "import matplotlib.pyplot as plt\n",
        "import numpy as np\n",
        "import pandas as pd\n",
        "import seaborn as sns\n",
        "% matplotlib inline\n",
        "\n",
        "nodes_df = pd.read_csv(\"/content/the-marvel-universe-social-network/nodes.csv\")\n",
        "edges_df = pd.read_csv(\"/content/the-marvel-universe-social-network/edges.csv\")\n",
        "hero_net_df = pd.read_csv(\"/content/the-marvel-universe-social-network/hero-network.csv\")\n",
        "print(\"Sample Nodes:------------------------\")\n",
        "display(nodes_df.head())\n",
        "print(\"Sample Edges:------------------------\")\n",
        "display(edges_df.head())\n",
        "print(\"Sample Heros Network:----------------\")\n",
        "display(hero_net_df.head())"
      ],
      "metadata": {
        "colab": {
          "base_uri": "https://localhost:8080/",
          "height": 637
        },
        "id": "Ja4Y0b7Nmc9a",
        "outputId": "9fdcf8f1-6cfd-4b56-cc4f-1b1a9f095f8f"
      },
      "execution_count": null,
      "outputs": [
        {
          "output_type": "stream",
          "name": "stdout",
          "text": [
            "Sample Nodes:------------------------\n"
          ]
        },
        {
          "output_type": "display_data",
          "data": {
            "text/plain": [
              "                   node   type\n",
              "0               2001 10  comic\n",
              "1                2001 8  comic\n",
              "2                2001 9  comic\n",
              "3  24-HOUR MAN/EMMANUEL   hero\n",
              "4  3-D MAN/CHARLES CHAN   hero"
            ],
            "text/html": [
              "\n",
              "  <div id=\"df-d9984b3a-95f8-452e-ae04-c29c8b705532\">\n",
              "    <div class=\"colab-df-container\">\n",
              "      <div>\n",
              "<style scoped>\n",
              "    .dataframe tbody tr th:only-of-type {\n",
              "        vertical-align: middle;\n",
              "    }\n",
              "\n",
              "    .dataframe tbody tr th {\n",
              "        vertical-align: top;\n",
              "    }\n",
              "\n",
              "    .dataframe thead th {\n",
              "        text-align: right;\n",
              "    }\n",
              "</style>\n",
              "<table border=\"1\" class=\"dataframe\">\n",
              "  <thead>\n",
              "    <tr style=\"text-align: right;\">\n",
              "      <th></th>\n",
              "      <th>node</th>\n",
              "      <th>type</th>\n",
              "    </tr>\n",
              "  </thead>\n",
              "  <tbody>\n",
              "    <tr>\n",
              "      <th>0</th>\n",
              "      <td>2001 10</td>\n",
              "      <td>comic</td>\n",
              "    </tr>\n",
              "    <tr>\n",
              "      <th>1</th>\n",
              "      <td>2001 8</td>\n",
              "      <td>comic</td>\n",
              "    </tr>\n",
              "    <tr>\n",
              "      <th>2</th>\n",
              "      <td>2001 9</td>\n",
              "      <td>comic</td>\n",
              "    </tr>\n",
              "    <tr>\n",
              "      <th>3</th>\n",
              "      <td>24-HOUR MAN/EMMANUEL</td>\n",
              "      <td>hero</td>\n",
              "    </tr>\n",
              "    <tr>\n",
              "      <th>4</th>\n",
              "      <td>3-D MAN/CHARLES CHAN</td>\n",
              "      <td>hero</td>\n",
              "    </tr>\n",
              "  </tbody>\n",
              "</table>\n",
              "</div>\n",
              "      <button class=\"colab-df-convert\" onclick=\"convertToInteractive('df-d9984b3a-95f8-452e-ae04-c29c8b705532')\"\n",
              "              title=\"Convert this dataframe to an interactive table.\"\n",
              "              style=\"display:none;\">\n",
              "        \n",
              "  <svg xmlns=\"http://www.w3.org/2000/svg\" height=\"24px\"viewBox=\"0 0 24 24\"\n",
              "       width=\"24px\">\n",
              "    <path d=\"M0 0h24v24H0V0z\" fill=\"none\"/>\n",
              "    <path d=\"M18.56 5.44l.94 2.06.94-2.06 2.06-.94-2.06-.94-.94-2.06-.94 2.06-2.06.94zm-11 1L8.5 8.5l.94-2.06 2.06-.94-2.06-.94L8.5 2.5l-.94 2.06-2.06.94zm10 10l.94 2.06.94-2.06 2.06-.94-2.06-.94-.94-2.06-.94 2.06-2.06.94z\"/><path d=\"M17.41 7.96l-1.37-1.37c-.4-.4-.92-.59-1.43-.59-.52 0-1.04.2-1.43.59L10.3 9.45l-7.72 7.72c-.78.78-.78 2.05 0 2.83L4 21.41c.39.39.9.59 1.41.59.51 0 1.02-.2 1.41-.59l7.78-7.78 2.81-2.81c.8-.78.8-2.07 0-2.86zM5.41 20L4 18.59l7.72-7.72 1.47 1.35L5.41 20z\"/>\n",
              "  </svg>\n",
              "      </button>\n",
              "      \n",
              "  <style>\n",
              "    .colab-df-container {\n",
              "      display:flex;\n",
              "      flex-wrap:wrap;\n",
              "      gap: 12px;\n",
              "    }\n",
              "\n",
              "    .colab-df-convert {\n",
              "      background-color: #E8F0FE;\n",
              "      border: none;\n",
              "      border-radius: 50%;\n",
              "      cursor: pointer;\n",
              "      display: none;\n",
              "      fill: #1967D2;\n",
              "      height: 32px;\n",
              "      padding: 0 0 0 0;\n",
              "      width: 32px;\n",
              "    }\n",
              "\n",
              "    .colab-df-convert:hover {\n",
              "      background-color: #E2EBFA;\n",
              "      box-shadow: 0px 1px 2px rgba(60, 64, 67, 0.3), 0px 1px 3px 1px rgba(60, 64, 67, 0.15);\n",
              "      fill: #174EA6;\n",
              "    }\n",
              "\n",
              "    [theme=dark] .colab-df-convert {\n",
              "      background-color: #3B4455;\n",
              "      fill: #D2E3FC;\n",
              "    }\n",
              "\n",
              "    [theme=dark] .colab-df-convert:hover {\n",
              "      background-color: #434B5C;\n",
              "      box-shadow: 0px 1px 3px 1px rgba(0, 0, 0, 0.15);\n",
              "      filter: drop-shadow(0px 1px 2px rgba(0, 0, 0, 0.3));\n",
              "      fill: #FFFFFF;\n",
              "    }\n",
              "  </style>\n",
              "\n",
              "      <script>\n",
              "        const buttonEl =\n",
              "          document.querySelector('#df-d9984b3a-95f8-452e-ae04-c29c8b705532 button.colab-df-convert');\n",
              "        buttonEl.style.display =\n",
              "          google.colab.kernel.accessAllowed ? 'block' : 'none';\n",
              "\n",
              "        async function convertToInteractive(key) {\n",
              "          const element = document.querySelector('#df-d9984b3a-95f8-452e-ae04-c29c8b705532');\n",
              "          const dataTable =\n",
              "            await google.colab.kernel.invokeFunction('convertToInteractive',\n",
              "                                                     [key], {});\n",
              "          if (!dataTable) return;\n",
              "\n",
              "          const docLinkHtml = 'Like what you see? Visit the ' +\n",
              "            '<a target=\"_blank\" href=https://colab.research.google.com/notebooks/data_table.ipynb>data table notebook</a>'\n",
              "            + ' to learn more about interactive tables.';\n",
              "          element.innerHTML = '';\n",
              "          dataTable['output_type'] = 'display_data';\n",
              "          await google.colab.output.renderOutput(dataTable, element);\n",
              "          const docLink = document.createElement('div');\n",
              "          docLink.innerHTML = docLinkHtml;\n",
              "          element.appendChild(docLink);\n",
              "        }\n",
              "      </script>\n",
              "    </div>\n",
              "  </div>\n",
              "  "
            ]
          },
          "metadata": {}
        },
        {
          "output_type": "stream",
          "name": "stdout",
          "text": [
            "Sample Edges:------------------------\n"
          ]
        },
        {
          "output_type": "display_data",
          "data": {
            "text/plain": [
              "                   hero   comic\n",
              "0  24-HOUR MAN/EMMANUEL  AA2 35\n",
              "1  3-D MAN/CHARLES CHAN   AVF 4\n",
              "2  3-D MAN/CHARLES CHAN   AVF 5\n",
              "3  3-D MAN/CHARLES CHAN   COC 1\n",
              "4  3-D MAN/CHARLES CHAN  H2 251"
            ],
            "text/html": [
              "\n",
              "  <div id=\"df-464e8760-2734-464f-be5b-57f92ab2d412\">\n",
              "    <div class=\"colab-df-container\">\n",
              "      <div>\n",
              "<style scoped>\n",
              "    .dataframe tbody tr th:only-of-type {\n",
              "        vertical-align: middle;\n",
              "    }\n",
              "\n",
              "    .dataframe tbody tr th {\n",
              "        vertical-align: top;\n",
              "    }\n",
              "\n",
              "    .dataframe thead th {\n",
              "        text-align: right;\n",
              "    }\n",
              "</style>\n",
              "<table border=\"1\" class=\"dataframe\">\n",
              "  <thead>\n",
              "    <tr style=\"text-align: right;\">\n",
              "      <th></th>\n",
              "      <th>hero</th>\n",
              "      <th>comic</th>\n",
              "    </tr>\n",
              "  </thead>\n",
              "  <tbody>\n",
              "    <tr>\n",
              "      <th>0</th>\n",
              "      <td>24-HOUR MAN/EMMANUEL</td>\n",
              "      <td>AA2 35</td>\n",
              "    </tr>\n",
              "    <tr>\n",
              "      <th>1</th>\n",
              "      <td>3-D MAN/CHARLES CHAN</td>\n",
              "      <td>AVF 4</td>\n",
              "    </tr>\n",
              "    <tr>\n",
              "      <th>2</th>\n",
              "      <td>3-D MAN/CHARLES CHAN</td>\n",
              "      <td>AVF 5</td>\n",
              "    </tr>\n",
              "    <tr>\n",
              "      <th>3</th>\n",
              "      <td>3-D MAN/CHARLES CHAN</td>\n",
              "      <td>COC 1</td>\n",
              "    </tr>\n",
              "    <tr>\n",
              "      <th>4</th>\n",
              "      <td>3-D MAN/CHARLES CHAN</td>\n",
              "      <td>H2 251</td>\n",
              "    </tr>\n",
              "  </tbody>\n",
              "</table>\n",
              "</div>\n",
              "      <button class=\"colab-df-convert\" onclick=\"convertToInteractive('df-464e8760-2734-464f-be5b-57f92ab2d412')\"\n",
              "              title=\"Convert this dataframe to an interactive table.\"\n",
              "              style=\"display:none;\">\n",
              "        \n",
              "  <svg xmlns=\"http://www.w3.org/2000/svg\" height=\"24px\"viewBox=\"0 0 24 24\"\n",
              "       width=\"24px\">\n",
              "    <path d=\"M0 0h24v24H0V0z\" fill=\"none\"/>\n",
              "    <path d=\"M18.56 5.44l.94 2.06.94-2.06 2.06-.94-2.06-.94-.94-2.06-.94 2.06-2.06.94zm-11 1L8.5 8.5l.94-2.06 2.06-.94-2.06-.94L8.5 2.5l-.94 2.06-2.06.94zm10 10l.94 2.06.94-2.06 2.06-.94-2.06-.94-.94-2.06-.94 2.06-2.06.94z\"/><path d=\"M17.41 7.96l-1.37-1.37c-.4-.4-.92-.59-1.43-.59-.52 0-1.04.2-1.43.59L10.3 9.45l-7.72 7.72c-.78.78-.78 2.05 0 2.83L4 21.41c.39.39.9.59 1.41.59.51 0 1.02-.2 1.41-.59l7.78-7.78 2.81-2.81c.8-.78.8-2.07 0-2.86zM5.41 20L4 18.59l7.72-7.72 1.47 1.35L5.41 20z\"/>\n",
              "  </svg>\n",
              "      </button>\n",
              "      \n",
              "  <style>\n",
              "    .colab-df-container {\n",
              "      display:flex;\n",
              "      flex-wrap:wrap;\n",
              "      gap: 12px;\n",
              "    }\n",
              "\n",
              "    .colab-df-convert {\n",
              "      background-color: #E8F0FE;\n",
              "      border: none;\n",
              "      border-radius: 50%;\n",
              "      cursor: pointer;\n",
              "      display: none;\n",
              "      fill: #1967D2;\n",
              "      height: 32px;\n",
              "      padding: 0 0 0 0;\n",
              "      width: 32px;\n",
              "    }\n",
              "\n",
              "    .colab-df-convert:hover {\n",
              "      background-color: #E2EBFA;\n",
              "      box-shadow: 0px 1px 2px rgba(60, 64, 67, 0.3), 0px 1px 3px 1px rgba(60, 64, 67, 0.15);\n",
              "      fill: #174EA6;\n",
              "    }\n",
              "\n",
              "    [theme=dark] .colab-df-convert {\n",
              "      background-color: #3B4455;\n",
              "      fill: #D2E3FC;\n",
              "    }\n",
              "\n",
              "    [theme=dark] .colab-df-convert:hover {\n",
              "      background-color: #434B5C;\n",
              "      box-shadow: 0px 1px 3px 1px rgba(0, 0, 0, 0.15);\n",
              "      filter: drop-shadow(0px 1px 2px rgba(0, 0, 0, 0.3));\n",
              "      fill: #FFFFFF;\n",
              "    }\n",
              "  </style>\n",
              "\n",
              "      <script>\n",
              "        const buttonEl =\n",
              "          document.querySelector('#df-464e8760-2734-464f-be5b-57f92ab2d412 button.colab-df-convert');\n",
              "        buttonEl.style.display =\n",
              "          google.colab.kernel.accessAllowed ? 'block' : 'none';\n",
              "\n",
              "        async function convertToInteractive(key) {\n",
              "          const element = document.querySelector('#df-464e8760-2734-464f-be5b-57f92ab2d412');\n",
              "          const dataTable =\n",
              "            await google.colab.kernel.invokeFunction('convertToInteractive',\n",
              "                                                     [key], {});\n",
              "          if (!dataTable) return;\n",
              "\n",
              "          const docLinkHtml = 'Like what you see? Visit the ' +\n",
              "            '<a target=\"_blank\" href=https://colab.research.google.com/notebooks/data_table.ipynb>data table notebook</a>'\n",
              "            + ' to learn more about interactive tables.';\n",
              "          element.innerHTML = '';\n",
              "          dataTable['output_type'] = 'display_data';\n",
              "          await google.colab.output.renderOutput(dataTable, element);\n",
              "          const docLink = document.createElement('div');\n",
              "          docLink.innerHTML = docLinkHtml;\n",
              "          element.appendChild(docLink);\n",
              "        }\n",
              "      </script>\n",
              "    </div>\n",
              "  </div>\n",
              "  "
            ]
          },
          "metadata": {}
        },
        {
          "output_type": "stream",
          "name": "stdout",
          "text": [
            "Sample Heros Network:----------------\n"
          ]
        },
        {
          "output_type": "display_data",
          "data": {
            "text/plain": [
              "                  hero1                 hero2\n",
              "0         LITTLE, ABNER        PRINCESS ZANDA\n",
              "1         LITTLE, ABNER  BLACK PANTHER/T'CHAL\n",
              "2  BLACK PANTHER/T'CHAL        PRINCESS ZANDA\n",
              "3         LITTLE, ABNER        PRINCESS ZANDA\n",
              "4         LITTLE, ABNER  BLACK PANTHER/T'CHAL"
            ],
            "text/html": [
              "\n",
              "  <div id=\"df-df6428a9-1d94-4709-9c2f-7eb5a6d6694b\">\n",
              "    <div class=\"colab-df-container\">\n",
              "      <div>\n",
              "<style scoped>\n",
              "    .dataframe tbody tr th:only-of-type {\n",
              "        vertical-align: middle;\n",
              "    }\n",
              "\n",
              "    .dataframe tbody tr th {\n",
              "        vertical-align: top;\n",
              "    }\n",
              "\n",
              "    .dataframe thead th {\n",
              "        text-align: right;\n",
              "    }\n",
              "</style>\n",
              "<table border=\"1\" class=\"dataframe\">\n",
              "  <thead>\n",
              "    <tr style=\"text-align: right;\">\n",
              "      <th></th>\n",
              "      <th>hero1</th>\n",
              "      <th>hero2</th>\n",
              "    </tr>\n",
              "  </thead>\n",
              "  <tbody>\n",
              "    <tr>\n",
              "      <th>0</th>\n",
              "      <td>LITTLE, ABNER</td>\n",
              "      <td>PRINCESS ZANDA</td>\n",
              "    </tr>\n",
              "    <tr>\n",
              "      <th>1</th>\n",
              "      <td>LITTLE, ABNER</td>\n",
              "      <td>BLACK PANTHER/T'CHAL</td>\n",
              "    </tr>\n",
              "    <tr>\n",
              "      <th>2</th>\n",
              "      <td>BLACK PANTHER/T'CHAL</td>\n",
              "      <td>PRINCESS ZANDA</td>\n",
              "    </tr>\n",
              "    <tr>\n",
              "      <th>3</th>\n",
              "      <td>LITTLE, ABNER</td>\n",
              "      <td>PRINCESS ZANDA</td>\n",
              "    </tr>\n",
              "    <tr>\n",
              "      <th>4</th>\n",
              "      <td>LITTLE, ABNER</td>\n",
              "      <td>BLACK PANTHER/T'CHAL</td>\n",
              "    </tr>\n",
              "  </tbody>\n",
              "</table>\n",
              "</div>\n",
              "      <button class=\"colab-df-convert\" onclick=\"convertToInteractive('df-df6428a9-1d94-4709-9c2f-7eb5a6d6694b')\"\n",
              "              title=\"Convert this dataframe to an interactive table.\"\n",
              "              style=\"display:none;\">\n",
              "        \n",
              "  <svg xmlns=\"http://www.w3.org/2000/svg\" height=\"24px\"viewBox=\"0 0 24 24\"\n",
              "       width=\"24px\">\n",
              "    <path d=\"M0 0h24v24H0V0z\" fill=\"none\"/>\n",
              "    <path d=\"M18.56 5.44l.94 2.06.94-2.06 2.06-.94-2.06-.94-.94-2.06-.94 2.06-2.06.94zm-11 1L8.5 8.5l.94-2.06 2.06-.94-2.06-.94L8.5 2.5l-.94 2.06-2.06.94zm10 10l.94 2.06.94-2.06 2.06-.94-2.06-.94-.94-2.06-.94 2.06-2.06.94z\"/><path d=\"M17.41 7.96l-1.37-1.37c-.4-.4-.92-.59-1.43-.59-.52 0-1.04.2-1.43.59L10.3 9.45l-7.72 7.72c-.78.78-.78 2.05 0 2.83L4 21.41c.39.39.9.59 1.41.59.51 0 1.02-.2 1.41-.59l7.78-7.78 2.81-2.81c.8-.78.8-2.07 0-2.86zM5.41 20L4 18.59l7.72-7.72 1.47 1.35L5.41 20z\"/>\n",
              "  </svg>\n",
              "      </button>\n",
              "      \n",
              "  <style>\n",
              "    .colab-df-container {\n",
              "      display:flex;\n",
              "      flex-wrap:wrap;\n",
              "      gap: 12px;\n",
              "    }\n",
              "\n",
              "    .colab-df-convert {\n",
              "      background-color: #E8F0FE;\n",
              "      border: none;\n",
              "      border-radius: 50%;\n",
              "      cursor: pointer;\n",
              "      display: none;\n",
              "      fill: #1967D2;\n",
              "      height: 32px;\n",
              "      padding: 0 0 0 0;\n",
              "      width: 32px;\n",
              "    }\n",
              "\n",
              "    .colab-df-convert:hover {\n",
              "      background-color: #E2EBFA;\n",
              "      box-shadow: 0px 1px 2px rgba(60, 64, 67, 0.3), 0px 1px 3px 1px rgba(60, 64, 67, 0.15);\n",
              "      fill: #174EA6;\n",
              "    }\n",
              "\n",
              "    [theme=dark] .colab-df-convert {\n",
              "      background-color: #3B4455;\n",
              "      fill: #D2E3FC;\n",
              "    }\n",
              "\n",
              "    [theme=dark] .colab-df-convert:hover {\n",
              "      background-color: #434B5C;\n",
              "      box-shadow: 0px 1px 3px 1px rgba(0, 0, 0, 0.15);\n",
              "      filter: drop-shadow(0px 1px 2px rgba(0, 0, 0, 0.3));\n",
              "      fill: #FFFFFF;\n",
              "    }\n",
              "  </style>\n",
              "\n",
              "      <script>\n",
              "        const buttonEl =\n",
              "          document.querySelector('#df-df6428a9-1d94-4709-9c2f-7eb5a6d6694b button.colab-df-convert');\n",
              "        buttonEl.style.display =\n",
              "          google.colab.kernel.accessAllowed ? 'block' : 'none';\n",
              "\n",
              "        async function convertToInteractive(key) {\n",
              "          const element = document.querySelector('#df-df6428a9-1d94-4709-9c2f-7eb5a6d6694b');\n",
              "          const dataTable =\n",
              "            await google.colab.kernel.invokeFunction('convertToInteractive',\n",
              "                                                     [key], {});\n",
              "          if (!dataTable) return;\n",
              "\n",
              "          const docLinkHtml = 'Like what you see? Visit the ' +\n",
              "            '<a target=\"_blank\" href=https://colab.research.google.com/notebooks/data_table.ipynb>data table notebook</a>'\n",
              "            + ' to learn more about interactive tables.';\n",
              "          element.innerHTML = '';\n",
              "          dataTable['output_type'] = 'display_data';\n",
              "          await google.colab.output.renderOutput(dataTable, element);\n",
              "          const docLink = document.createElement('div');\n",
              "          docLink.innerHTML = docLinkHtml;\n",
              "          element.appendChild(docLink);\n",
              "        }\n",
              "      </script>\n",
              "    </div>\n",
              "  </div>\n",
              "  "
            ]
          },
          "metadata": {}
        }
      ]
    },
    {
      "cell_type": "markdown",
      "source": [
        "Now let's use this data to construct an undirected graph and look at some of its basic statistics:"
      ],
      "metadata": {
        "id": "0QMRqIlkq4rx"
      }
    },
    {
      "cell_type": "code",
      "source": [
        "import networkx as nx\n",
        "G = nx.from_pandas_edgelist(hero_net_df,\n",
        "                            source='hero1',\n",
        "                            target='hero2',\n",
        "                            create_using=nx.Graph())\n"
      ],
      "metadata": {
        "id": "MCc-ILf3nW2l"
      },
      "execution_count": null,
      "outputs": []
    },
    {
      "cell_type": "code",
      "source": [
        "# Graph statistics\n",
        "print(\"Number of edges:\", G.size()) # alternative: nx.number_of_edges(G)\n",
        "print(\"Number of nodes:\", G.order()) # alternative: nx.number_of_nodes(G)\n",
        "# The density for undirected graphs is d = 2m / (n(n-1)), where n is\n",
        "# the number of nodes and m is the number of edges\n",
        "print(\"Network Density:\", nx.density(G))"
      ],
      "metadata": {
        "colab": {
          "base_uri": "https://localhost:8080/"
        },
        "id": "7YNhwDzQpe14",
        "outputId": "65b1e7e2-501c-4769-cf2f-13561e9a53fd"
      },
      "execution_count": null,
      "outputs": [
        {
          "output_type": "stream",
          "name": "stdout",
          "text": [
            "Number of edges: 167219\n",
            "Number of nodes: 6426\n",
            "Network Diameter: 0.00810031232553549\n"
          ]
        }
      ]
    },
    {
      "cell_type": "markdown",
      "source": [
        "As we can see out network is not quite dense but rather sparse.\n",
        "\n",
        "Let's use the graph structure to answer several questions.\n"
      ],
      "metadata": {
        "id": "CkVDzl-6uQzy"
      }
    },
    {
      "cell_type": "markdown",
      "source": [
        "### Q1. Who is the most friendly superhero?\n",
        "We can translate this question to `who is the superhero with the highest number of friends?`. If we wanted to answer this question using DataFrame, it wouldn't be trivial because for each hero we would need to count the number of distinct friends both when the hero appears in the Hero1 column and the Hero2 column. However, answering this question using a graph object is relatively easy; we simply need to find the node with the maximal degree."
      ],
      "metadata": {
        "id": "W7HYbR76ubGY"
      }
    },
    {
      "cell_type": "code",
      "source": [
        "# Getting each node's degree\n",
        "d = G.degree()\n",
        "# Sorting the nodes with highest degree. Let's take top-5\n",
        "display(sorted(d, key=lambda x: x[1], reverse=True)[:5])"
      ],
      "metadata": {
        "colab": {
          "base_uri": "https://localhost:8080/",
          "height": 104
        },
        "id": "zL9TgFkiqLIh",
        "outputId": "a1a2068d-9b3f-42bd-f98e-e42c2ffac697"
      },
      "execution_count": null,
      "outputs": [
        {
          "output_type": "display_data",
          "data": {
            "text/plain": [
              "[('CAPTAIN AMERICA', 1908),\n",
              " ('SPIDER-MAN/PETER PAR', 1737),\n",
              " ('IRON MAN/TONY STARK ', 1522),\n",
              " ('THING/BENJAMIN J. GR', 1416),\n",
              " ('MR. FANTASTIC/REED R', 1379)]"
            ]
          },
          "metadata": {}
        }
      ]
    },
    {
      "cell_type": "markdown",
      "source": [
        "So, using the degree, we discovered that the `most friendly` superhero is `Captain America` who is connected to 1908 heroes.\n",
        "\n",
        "Let's use seaborn to calculate the graph degree distribution:"
      ],
      "metadata": {
        "id": "j5g358oSvbB6"
      }
    },
    {
      "cell_type": "code",
      "source": [
        "fig, ax = plt.subplots()\n",
        "sns.set()\n",
        "sns.distplot([v for v in dict(d).values()], ax=ax)\n",
        "ax.set_title('Degrees Distribution')\n",
        "ax.set_xlabel('Degree')\n",
        "# ax_ = ax.twinx()\n",
        "# ax_.plot(range(len(nx.degree_histogram(G))), np.cumsum(nx.degree_histogram(G))/G.order())"
      ],
      "metadata": {
        "colab": {
          "base_uri": "https://localhost:8080/",
          "height": 373
        },
        "id": "27-7TFaFrrTw",
        "outputId": "aa398697-40d4-4675-a7e8-bbae5e5f2c2f"
      },
      "execution_count": null,
      "outputs": [
        {
          "output_type": "stream",
          "name": "stderr",
          "text": [
            "/usr/local/lib/python3.7/dist-packages/seaborn/distributions.py:2619: FutureWarning: `distplot` is a deprecated function and will be removed in a future version. Please adapt your code to use either `displot` (a figure-level function with similar flexibility) or `histplot` (an axes-level function for histograms).\n",
            "  warnings.warn(msg, FutureWarning)\n"
          ]
        },
        {
          "output_type": "execute_result",
          "data": {
            "text/plain": [
              "Text(0.5, 0, 'Degree')"
            ]
          },
          "metadata": {},
          "execution_count": 106
        },
        {
          "output_type": "display_data",
          "data": {
            "text/plain": [
              "<Figure size 432x288 with 1 Axes>"
            ],
            "image/png": "[encoded data removed]"
          },
          "metadata": {}
        }
      ]
    },
    {
      "cell_type": "markdown",
      "source": [
        "From the above plot, we can see that many nodes have low degrees, i.e. these heroes are connected to only a few heros. Let's create a subgraph without these nodes:"
      ],
      "metadata": {
        "id": "GcBQQ5P-vsDd"
      }
    },
    {
      "cell_type": "code",
      "source": [
        "# let's create a list with nodes that have degree > 50\n",
        "selected_nodes_list = [n for n, d in dict(d).items() if d > 50]\n",
        "# create a subgraph with only nodes from the above list\n",
        "sub_G = G.subgraph(selected_nodes_list)\n",
        "print(nx.info(sub_G))"
      ],
      "metadata": {
        "colab": {
          "base_uri": "https://localhost:8080/"
        },
        "id": "_62X0OgSvmuY",
        "outputId": "ba47cae7-2250-45d7-edcf-46b454fc1480"
      },
      "execution_count": null,
      "outputs": [
        {
          "output_type": "stream",
          "name": "stdout",
          "text": [
            "Graph with 1483 nodes and 92823 edges\n"
          ]
        }
      ]
    },
    {
      "cell_type": "markdown",
      "source": [
        "As we can see, we could reduce the size of the graph.\n",
        "### Q2: What is the largest community in the graph?\n",
        "Among the wonderful things that are useful using graphs as data structures is the ability to separate them into communities, i.e., disjoint subgraphs. Let's use [Clauset-Newman-Moore greedy modularity maximization](https://arxiv.org/abs/cond-mat/0408187) to separate the graph into communities."
      ],
      "metadata": {
        "id": "t7q5selW51vQ"
      }
    },
    {
      "cell_type": "code",
      "source": [
        "from networkx.algorithms.community import greedy_modularity_communities\n",
        "# Apply the Community Detection Algorithm [be patient this can take a while]\n",
        "cc = greedy_modularity_communities(sub_G)\n",
        "len(cc)"
      ],
      "metadata": {
        "colab": {
          "base_uri": "https://localhost:8080/"
        },
        "id": "XIh3RfKHwZvS",
        "outputId": "bb0a86b9-1750-4494-ef31-a6e3f873ec0f"
      },
      "execution_count": null,
      "outputs": [
        {
          "output_type": "execute_result",
          "data": {
            "text/plain": [
              "6"
            ]
          },
          "metadata": {},
          "execution_count": 109
        }
      ]
    },
    {
      "cell_type": "markdown",
      "source": [
        "Using the community detection algorithm, we detected 6 communities of different sizes. Let's view the size of the distribution of the community sizes:"
      ],
      "metadata": {
        "id": "gWbkifd38PAO"
      }
    },
    {
      "cell_type": "code",
      "source": [
        "community_size_list = [len(c) for c in cc]\n",
        "fig, ax = plt.subplots()\n",
        "ax.hist(community_size_list)\n",
        "ax.set_title(\"Community Sizes Distribution\")\n",
        "ax.set_xlabel(\"Community Size\")\n",
        "ax.set_ylabel(\"#Nodes\")"
      ],
      "metadata": {
        "colab": {
          "base_uri": "https://localhost:8080/",
          "height": 318
        },
        "id": "SNai5Npa59Wt",
        "outputId": "836dad33-bb4f-4bd6-f268-254e55415f72"
      },
      "execution_count": null,
      "outputs": [
        {
          "output_type": "execute_result",
          "data": {
            "text/plain": [
              "Text(0, 0.5, '#Nodes')"
            ]
          },
          "metadata": {},
          "execution_count": 114
        },
        {
          "output_type": "display_data",
          "data": {
            "text/plain": [
              "<Figure size 432x288 with 1 Axes>"
            ],
            "image/png": "[encoded data removed]"
          },
          "metadata": {}
        }
      ]
    },
    {
      "cell_type": "markdown",
      "source": [
        "We can see that 2 communities are relatively smaller than others. Let's take a look at this two communities:"
      ],
      "metadata": {
        "id": "t04VqUuO8tAx"
      }
    },
    {
      "cell_type": "code",
      "source": [
        "selected_community_list = [c for c in cc if len(c)<50]\n",
        "len(selected_community_list)"
      ],
      "metadata": {
        "colab": {
          "base_uri": "https://localhost:8080/"
        },
        "id": "gUSX9RqI8RrH",
        "outputId": "665febd9-fa8b-485d-f970-cc9fe6527ded"
      },
      "execution_count": null,
      "outputs": [
        {
          "output_type": "execute_result",
          "data": {
            "text/plain": [
              "2"
            ]
          },
          "metadata": {},
          "execution_count": 152
        }
      ]
    },
    {
      "cell_type": "markdown",
      "source": [
        "Let's plot both communities with a helper function"
      ],
      "metadata": {
        "id": "IKteFASP9C2j"
      }
    },
    {
      "cell_type": "code",
      "source": [
        "from IPython.core.display import display, HTML # We need this because of colab\n",
        "# Import pyvis\n",
        "from pyvis.network import Network\n",
        "def plot_subgraph(g, nodes_list, title):\n",
        "  sub_g = g.subgraph(nodes_list)\n",
        "  # Create vis network\n",
        "  net = Network(height=\"700px\", width=\"75%\", notebook=True)\n",
        "  # Now load the networkx graph into the vis network\n",
        "  net.force_atlas_2based()\n",
        "  net.show_buttons(filter_=['physics']) \n",
        "  net.from_nx(sub_g, default_node_size=20)\n",
        "  # Let's visualize the network using pyvis\n",
        "  net.show(f\"{title}.html\")\n",
        "  display(HTML(f\"{title}.html\"))"
      ],
      "metadata": {
        "id": "WLSTJuT084w9"
      },
      "execution_count": null,
      "outputs": []
    },
    {
      "cell_type": "code",
      "source": [
        "plot_subgraph(sub_G, selected_community_list[0], title='Community-1')"
      ],
      "metadata": {
        "colab": {
          "base_uri": "https://localhost:8080/",
          "height": 1000
        },
        "id": "vxPe3kJD9pH-",
        "outputId": "2b0953cd-f254-4bb1-9784-bc14104401e0"
      },
      "execution_count": null,
      "outputs": [
        {
          "output_type": "display_data",
          "data": {
            "text/plain": [
              "<IPython.core.display.HTML object>"
            ],
            "text/html": [
              "<html>\n",
              "<head>\n",
              "<link rel=\"stylesheet\" href=\"https://cdn.jsdelivr.net/npm/vis-network@latest/styles/vis-network.css\" type=\"text/css\" />\n",
              "<script type=\"text/javascript\" src=\"https://cdn.jsdelivr.net/npm/vis-network@latest/dist/vis-network.min.js\"> </script>\n",
              "<center>\n",
              "<h1></h1>\n",
              "</center>\n",
              "\n",
              "<!-- <link rel=\"stylesheet\" href=\"../node_modules/vis/dist/vis.min.css\" type=\"text/css\" />\n",
              "<script type=\"text/javascript\" src=\"../node_modules/vis/dist/vis.js\"> </script>-->\n",
              "\n",
              "<style type=\"text/css\">\n",
              "\n",
              "        #mynetwork {\n",
              "            width: 75%;\n",
              "            height: 700px;\n",
              "            background-color: #ffffff;\n",
              "            border: 1px solid lightgray;\n",
              "            position: relative;\n",
              "            float: left;\n",
              "        }\n",
              "\n",
              "        \n",
              "\n",
              "        \n",
              "        #config {\n",
              "            float: left;\n",
              "            width: 400px;\n",
              "            height: 600px;\n",
              "        }\n",
              "        \n",
              "\n",
              "        \n",
              "</style>\n",
              "\n",
              "</head>\n",
              "\n",
              "<body>\n",
              "<div id = \"mynetwork\"></div>\n",
              "\n",
              "\n",
              "<div id = \"config\"></div>\n",
              "\n",
              "<script type=\"text/javascript\">\n",
              "\n",
              "    // initialize global variables.\n",
              "    var edges;\n",
              "    var nodes;\n",
              "    var network; \n",
              "    var container;\n",
              "    var options, data;\n",
              "\n",
              "    \n",
              "    // This method is responsible for drawing the graph, returns the drawn network\n",
              "    function drawGraph() {\n",
              "        var container = document.getElementById('mynetwork');\n",
              "        \n",
              "        \n",
              "\n",
              "        // parsing and collecting nodes and edges from the python\n",
              "        nodes = new vis.DataSet([{\"id\": \"FALLEN | MUTANT X-VE\", \"label\": \"FALLEN | MUTANT X-VE\", \"shape\": \"dot\", \"size\": 10}, {\"id\": \"CAPTAIN AMERICA | MU\", \"label\": \"CAPTAIN AMERICA | MU\", \"shape\": \"dot\", \"size\": 10}, {\"id\": \"BRUTE | MUTANT X-VER\", \"label\": \"BRUTE | MUTANT X-VER\", \"shape\": \"dot\", \"size\": 10}, {\"id\": \"ICE-MAN | MUTANT X-V\", \"label\": \"ICE-MAN | MUTANT X-V\", \"shape\": \"dot\", \"size\": 10}, {\"id\": \"GAMBIT | MUTANT X-VE\", \"label\": \"GAMBIT | MUTANT X-VE\", \"shape\": \"dot\", \"size\": 10}, {\"id\": \"BLOODSTORM | MUTANT \", \"label\": \"BLOODSTORM | MUTANT \", \"shape\": \"dot\", \"size\": 10}, {\"id\": \"SUMMERS, SCOTT III |\", \"label\": \"SUMMERS, SCOTT III |\", \"shape\": \"dot\", \"size\": 10}, {\"id\": \"ELEKTRA | MUTANT X-V\", \"label\": \"ELEKTRA | MUTANT X-V\", \"shape\": \"dot\", \"size\": 10}, {\"id\": \"MAGNETO | MUTANT X-V\", \"label\": \"MAGNETO | MUTANT X-V\", \"shape\": \"dot\", \"size\": 10}, {\"id\": \"MARVEL WOMAN | MUTAN\", \"label\": \"MARVEL WOMAN | MUTAN\", \"shape\": \"dot\", \"size\": 10}, {\"id\": \"RICHARDS, REED | MUT\", \"label\": \"RICHARDS, REED | MUT\", \"shape\": \"dot\", \"size\": 10}, {\"id\": \"YELLOWJACKET II | MU\", \"label\": \"YELLOWJACKET II | MU\", \"shape\": \"dot\", \"size\": 10}, {\"id\": \"STINGRAY | MUTANT X-\", \"label\": \"STINGRAY | MUTANT X-\", \"shape\": \"dot\", \"size\": 10}, {\"id\": \"DR. STRANGE | MUTANT\", \"label\": \"DR. STRANGE | MUTANT\", \"shape\": \"dot\", \"size\": 10}, {\"id\": \"DRACULA | MUTANT X-V\", \"label\": \"DRACULA | MUTANT X-V\", \"shape\": \"dot\", \"size\": 10}, {\"id\": \"BEYONDER | MUTANT X-\", \"label\": \"BEYONDER | MUTANT X-\", \"shape\": \"dot\", \"size\": 10}, {\"id\": \"DR. DOOM | MUTANT X-\", \"label\": \"DR. DOOM | MUTANT X-\", \"shape\": \"dot\", \"size\": 10}, {\"id\": \"POLARIS | MUTANT X-V\", \"label\": \"POLARIS | MUTANT X-V\", \"shape\": \"dot\", \"size\": 10}, {\"id\": \"HULK | MUTANT X-VERS\", \"label\": \"HULK | MUTANT X-VERS\", \"shape\": \"dot\", \"size\": 10}, {\"id\": \"MAN-SPIDER | MUTANT \", \"label\": \"MAN-SPIDER | MUTANT \", \"shape\": \"dot\", \"size\": 10}, {\"id\": \"SUB-MARINER | MUTANT\", \"label\": \"SUB-MARINER | MUTANT\", \"shape\": \"dot\", \"size\": 10}, {\"id\": \"NIGHTCRAWLER | MUTAN\", \"label\": \"NIGHTCRAWLER | MUTAN\", \"shape\": \"dot\", \"size\": 10}, {\"id\": \"ROGUE | MUTANT X-VER\", \"label\": \"ROGUE | MUTANT X-VER\", \"shape\": \"dot\", \"size\": 10}, {\"id\": \"QUICKSILVER | MUTANT\", \"label\": \"QUICKSILVER | MUTANT\", \"shape\": \"dot\", \"size\": 10}, {\"id\": \"WOLVERINE | MUTANT X\", \"label\": \"WOLVERINE | MUTANT X\", \"shape\": \"dot\", \"size\": 10}, {\"id\": \"DAREDEVIL | MUTANT X\", \"label\": \"DAREDEVIL | MUTANT X\", \"shape\": \"dot\", \"size\": 10}, {\"id\": \"RAVEN | MUTANT X-VER\", \"label\": \"RAVEN | MUTANT X-VER\", \"shape\": \"dot\", \"size\": 10}, {\"id\": \"GREY, JEAN | MUTANT \", \"label\": \"GREY, JEAN | MUTANT \", \"shape\": \"dot\", \"size\": 10}, {\"id\": \"YASHIDA, MARIKO | MU\", \"label\": \"YASHIDA, MARIKO | MU\", \"shape\": \"dot\", \"size\": 10}, {\"id\": \"CLOAK/TYRONE JOHNSON\", \"label\": \"CLOAK/TYRONE JOHNSON\", \"shape\": \"dot\", \"size\": 10}]);\n",
              "        edges = new vis.DataSet([{\"from\": \"FALLEN | MUTANT X-VE\", \"label\": 1, \"to\": \"CAPTAIN AMERICA | MU\", \"weight\": 1}, {\"from\": \"FALLEN | MUTANT X-VE\", \"label\": 1, \"to\": \"BRUTE | MUTANT X-VER\", \"weight\": 1}, {\"from\": \"FALLEN | MUTANT X-VE\", \"label\": 1, \"to\": \"ICE-MAN | MUTANT X-V\", \"weight\": 1}, {\"from\": \"FALLEN | MUTANT X-VE\", \"label\": 1, \"to\": \"GAMBIT | MUTANT X-VE\", \"weight\": 1}, {\"from\": \"FALLEN | MUTANT X-VE\", \"label\": 1, \"to\": \"BLOODSTORM | MUTANT \", \"weight\": 1}, {\"from\": \"FALLEN | MUTANT X-VE\", \"label\": 1, \"to\": \"SUMMERS, SCOTT III |\", \"weight\": 1}, {\"from\": \"FALLEN | MUTANT X-VE\", \"label\": 1, \"to\": \"ELEKTRA | MUTANT X-V\", \"weight\": 1}, {\"from\": \"FALLEN | MUTANT X-VE\", \"label\": 1, \"to\": \"MAGNETO | MUTANT X-V\", \"weight\": 1}, {\"from\": \"FALLEN | MUTANT X-VE\", \"label\": 1, \"to\": \"MARVEL WOMAN | MUTAN\", \"weight\": 1}, {\"from\": \"FALLEN | MUTANT X-VE\", \"label\": 1, \"to\": \"RICHARDS, REED | MUT\", \"weight\": 1}, {\"from\": \"FALLEN | MUTANT X-VE\", \"label\": 1, \"to\": \"YELLOWJACKET II | MU\", \"weight\": 1}, {\"from\": \"FALLEN | MUTANT X-VE\", \"label\": 1, \"to\": \"STINGRAY | MUTANT X-\", \"weight\": 1}, {\"from\": \"FALLEN | MUTANT X-VE\", \"label\": 1, \"to\": \"DR. STRANGE | MUTANT\", \"weight\": 1}, {\"from\": \"FALLEN | MUTANT X-VE\", \"label\": 1, \"to\": \"DRACULA | MUTANT X-V\", \"weight\": 1}, {\"from\": \"FALLEN | MUTANT X-VE\", \"label\": 1, \"to\": \"BEYONDER | MUTANT X-\", \"weight\": 1}, {\"from\": \"FALLEN | MUTANT X-VE\", \"label\": 1, \"to\": \"DR. DOOM | MUTANT X-\", \"weight\": 1}, {\"from\": \"FALLEN | MUTANT X-VE\", \"label\": 1, \"to\": \"POLARIS | MUTANT X-V\", \"weight\": 1}, {\"from\": \"FALLEN | MUTANT X-VE\", \"label\": 1, \"to\": \"HULK | MUTANT X-VERS\", \"weight\": 1}, {\"from\": \"FALLEN | MUTANT X-VE\", \"label\": 1, \"to\": \"MAN-SPIDER | MUTANT \", \"weight\": 1}, {\"from\": \"FALLEN | MUTANT X-VE\", \"label\": 1, \"to\": \"SUB-MARINER | MUTANT\", \"weight\": 1}, {\"from\": \"FALLEN | MUTANT X-VE\", \"label\": 1, \"to\": \"NIGHTCRAWLER | MUTAN\", \"weight\": 1}, {\"from\": \"FALLEN | MUTANT X-VE\", \"label\": 1, \"to\": \"ROGUE | MUTANT X-VER\", \"weight\": 1}, {\"from\": \"FALLEN | MUTANT X-VE\", \"label\": 1, \"to\": \"QUICKSILVER | MUTANT\", \"weight\": 1}, {\"from\": \"FALLEN | MUTANT X-VE\", \"label\": 1, \"to\": \"WOLVERINE | MUTANT X\", \"weight\": 1}, {\"from\": \"FALLEN | MUTANT X-VE\", \"label\": 1, \"to\": \"DAREDEVIL | MUTANT X\", \"weight\": 1}, {\"from\": \"ELEKTRA | MUTANT X-V\", \"label\": 1, \"to\": \"CAPTAIN AMERICA | MU\", \"weight\": 1}, {\"from\": \"ELEKTRA | MUTANT X-V\", \"label\": 1, \"to\": \"BRUTE | MUTANT X-VER\", \"weight\": 1}, {\"from\": \"ELEKTRA | MUTANT X-V\", \"label\": 1, \"to\": \"ICE-MAN | MUTANT X-V\", \"weight\": 1}, {\"from\": \"ELEKTRA | MUTANT X-V\", \"label\": 1, \"to\": \"GAMBIT | MUTANT X-VE\", \"weight\": 1}, {\"from\": \"ELEKTRA | MUTANT X-V\", \"label\": 1, \"to\": \"BLOODSTORM | MUTANT \", \"weight\": 1}, {\"from\": \"ELEKTRA | MUTANT X-V\", \"label\": 1, \"to\": \"SUMMERS, SCOTT III |\", \"weight\": 1}, {\"from\": \"ELEKTRA | MUTANT X-V\", \"label\": 1, \"to\": \"MAGNETO | MUTANT X-V\", \"weight\": 1}, {\"from\": \"ELEKTRA | MUTANT X-V\", \"label\": 1, \"to\": \"RAVEN | MUTANT X-VER\", \"weight\": 1}, {\"from\": \"ELEKTRA | MUTANT X-V\", \"label\": 1, \"to\": \"GREY, JEAN | MUTANT \", \"weight\": 1}, {\"from\": \"ELEKTRA | MUTANT X-V\", \"label\": 1, \"to\": \"POLARIS | MUTANT X-V\", \"weight\": 1}, {\"from\": \"ELEKTRA | MUTANT X-V\", \"label\": 1, \"to\": \"ROGUE | MUTANT X-VER\", \"weight\": 1}, {\"from\": \"ELEKTRA | MUTANT X-V\", \"label\": 1, \"to\": \"NIGHTCRAWLER | MUTAN\", \"weight\": 1}, {\"from\": \"ELEKTRA | MUTANT X-V\", \"label\": 1, \"to\": \"MARVEL WOMAN | MUTAN\", \"weight\": 1}, {\"from\": \"ELEKTRA | MUTANT X-V\", \"label\": 1, \"to\": \"DR. DOOM | MUTANT X-\", \"weight\": 1}, {\"from\": \"ELEKTRA | MUTANT X-V\", \"label\": 1, \"to\": \"RICHARDS, REED | MUT\", \"weight\": 1}, {\"from\": \"ELEKTRA | MUTANT X-V\", \"label\": 1, \"to\": \"MAN-SPIDER | MUTANT \", \"weight\": 1}, {\"from\": \"ELEKTRA | MUTANT X-V\", \"label\": 1, \"to\": \"QUICKSILVER | MUTANT\", \"weight\": 1}, {\"from\": \"ELEKTRA | MUTANT X-V\", \"label\": 1, \"to\": \"DRACULA | MUTANT X-V\", \"weight\": 1}, {\"from\": \"ELEKTRA | MUTANT X-V\", \"label\": 1, \"to\": \"SUB-MARINER | MUTANT\", \"weight\": 1}, {\"from\": \"ELEKTRA | MUTANT X-V\", \"label\": 1, \"to\": \"DAREDEVIL | MUTANT X\", \"weight\": 1}, {\"from\": \"ELEKTRA | MUTANT X-V\", \"label\": 1, \"to\": \"WOLVERINE | MUTANT X\", \"weight\": 1}, {\"from\": \"ELEKTRA | MUTANT X-V\", \"label\": 1, \"to\": \"DR. STRANGE | MUTANT\", \"weight\": 1}, {\"from\": \"ELEKTRA | MUTANT X-V\", \"label\": 1, \"to\": \"HULK | MUTANT X-VERS\", \"weight\": 1}, {\"from\": \"ELEKTRA | MUTANT X-V\", \"label\": 1, \"to\": \"STINGRAY | MUTANT X-\", \"weight\": 1}, {\"from\": \"ELEKTRA | MUTANT X-V\", \"label\": 1, \"to\": \"BEYONDER | MUTANT X-\", \"weight\": 1}, {\"from\": \"ELEKTRA | MUTANT X-V\", \"label\": 1, \"to\": \"YELLOWJACKET II | MU\", \"weight\": 1}, {\"from\": \"ELEKTRA | MUTANT X-V\", \"label\": 1, \"to\": \"YASHIDA, MARIKO | MU\", \"weight\": 1}, {\"from\": \"BLOODSTORM | MUTANT \", \"label\": 1, \"to\": \"WOLVERINE | MUTANT X\", \"weight\": 1}, {\"from\": \"BLOODSTORM | MUTANT \", \"label\": 1, \"to\": \"GAMBIT | MUTANT X-VE\", \"weight\": 1}, {\"from\": \"BLOODSTORM | MUTANT \", \"label\": 1, \"to\": \"GREY, JEAN | MUTANT \", \"weight\": 1}, {\"from\": \"BLOODSTORM | MUTANT \", \"label\": 1, \"to\": \"ICE-MAN | MUTANT X-V\", \"weight\": 1}, {\"from\": \"BLOODSTORM | MUTANT \", \"label\": 1, \"to\": \"YASHIDA, MARIKO | MU\", \"weight\": 1}, {\"from\": \"BLOODSTORM | MUTANT \", \"label\": 1, \"to\": \"BRUTE | MUTANT X-VER\", \"weight\": 1}, {\"from\": \"BLOODSTORM | MUTANT \", \"label\": 1, \"to\": \"CAPTAIN AMERICA | MU\", \"weight\": 1}, {\"from\": \"BLOODSTORM | MUTANT \", \"label\": 1, \"to\": \"MAGNETO | MUTANT X-V\", \"weight\": 1}, {\"from\": \"BLOODSTORM | MUTANT \", \"label\": 1, \"to\": \"SUMMERS, SCOTT III |\", \"weight\": 1}, {\"from\": \"BLOODSTORM | MUTANT \", \"label\": 1, \"to\": \"RAVEN | MUTANT X-VER\", \"weight\": 1}, {\"from\": \"BLOODSTORM | MUTANT \", \"label\": 1, \"to\": \"DRACULA | MUTANT X-V\", \"weight\": 1}, {\"from\": \"BLOODSTORM | MUTANT \", \"label\": 1, \"to\": \"CLOAK/TYRONE JOHNSON\", \"weight\": 1}, {\"from\": \"BLOODSTORM | MUTANT \", \"label\": 1, \"to\": \"MARVEL WOMAN | MUTAN\", \"weight\": 1}, {\"from\": \"BLOODSTORM | MUTANT \", \"label\": 1, \"to\": \"RICHARDS, REED | MUT\", \"weight\": 1}, {\"from\": \"BLOODSTORM | MUTANT \", \"label\": 1, \"to\": \"YELLOWJACKET II | MU\", \"weight\": 1}, {\"from\": \"BLOODSTORM | MUTANT \", \"label\": 1, \"to\": \"STINGRAY | MUTANT X-\", \"weight\": 1}, {\"from\": \"BLOODSTORM | MUTANT \", \"label\": 1, \"to\": \"DR. STRANGE | MUTANT\", \"weight\": 1}, {\"from\": \"BLOODSTORM | MUTANT \", \"label\": 1, \"to\": \"BEYONDER | MUTANT X-\", \"weight\": 1}, {\"from\": \"BLOODSTORM | MUTANT \", \"label\": 1, \"to\": \"MAN-SPIDER | MUTANT \", \"weight\": 1}, {\"from\": \"BLOODSTORM | MUTANT \", \"label\": 1, \"to\": \"HULK | MUTANT X-VERS\", \"weight\": 1}, {\"from\": \"BLOODSTORM | MUTANT \", \"label\": 1, \"to\": \"POLARIS | MUTANT X-V\", \"weight\": 1}, {\"from\": \"BLOODSTORM | MUTANT \", \"label\": 1, \"to\": \"DR. DOOM | MUTANT X-\", \"weight\": 1}, {\"from\": \"BLOODSTORM | MUTANT \", \"label\": 1, \"to\": \"ROGUE | MUTANT X-VER\", \"weight\": 1}, {\"from\": \"BLOODSTORM | MUTANT \", \"label\": 1, \"to\": \"NIGHTCRAWLER | MUTAN\", \"weight\": 1}, {\"from\": \"BLOODSTORM | MUTANT \", \"label\": 1, \"to\": \"SUB-MARINER | MUTANT\", \"weight\": 1}, {\"from\": \"BLOODSTORM | MUTANT \", \"label\": 1, \"to\": \"QUICKSILVER | MUTANT\", \"weight\": 1}, {\"from\": \"BLOODSTORM | MUTANT \", \"label\": 1, \"to\": \"DAREDEVIL | MUTANT X\", \"weight\": 1}, {\"from\": \"CAPTAIN AMERICA | MU\", \"label\": 1, \"to\": \"WOLVERINE | MUTANT X\", \"weight\": 1}, {\"from\": \"CAPTAIN AMERICA | MU\", \"label\": 1, \"to\": \"GAMBIT | MUTANT X-VE\", \"weight\": 1}, {\"from\": \"CAPTAIN AMERICA | MU\", \"label\": 1, \"to\": \"GREY, JEAN | MUTANT \", \"weight\": 1}, {\"from\": \"CAPTAIN AMERICA | MU\", \"label\": 1, \"to\": \"ICE-MAN | MUTANT X-V\", \"weight\": 1}, {\"from\": \"CAPTAIN AMERICA | MU\", \"label\": 1, \"to\": \"YASHIDA, MARIKO | MU\", \"weight\": 1}, {\"from\": \"CAPTAIN AMERICA | MU\", \"label\": 1, \"to\": \"BRUTE | MUTANT X-VER\", \"weight\": 1}, {\"from\": \"CAPTAIN AMERICA | MU\", \"label\": 1, \"to\": \"MAGNETO | MUTANT X-V\", \"weight\": 1}, {\"from\": \"CAPTAIN AMERICA | MU\", \"label\": 1, \"to\": \"SUMMERS, SCOTT III |\", \"weight\": 1}, {\"from\": \"CAPTAIN AMERICA | MU\", \"label\": 1, \"to\": \"RAVEN | MUTANT X-VER\", \"weight\": 1}, {\"from\": \"CAPTAIN AMERICA | MU\", \"label\": 1, \"to\": \"DRACULA | MUTANT X-V\", \"weight\": 1}, {\"from\": \"CAPTAIN AMERICA | MU\", \"label\": 1, \"to\": \"CLOAK/TYRONE JOHNSON\", \"weight\": 1}, {\"from\": \"CAPTAIN AMERICA | MU\", \"label\": 1, \"to\": \"POLARIS | MUTANT X-V\", \"weight\": 1}, {\"from\": \"CAPTAIN AMERICA | MU\", \"label\": 1, \"to\": \"NIGHTCRAWLER | MUTAN\", \"weight\": 1}, {\"from\": \"CAPTAIN AMERICA | MU\", \"label\": 1, \"to\": \"ROGUE | MUTANT X-VER\", \"weight\": 1}, {\"from\": \"CAPTAIN AMERICA | MU\", \"label\": 1, \"to\": \"DR. DOOM | MUTANT X-\", \"weight\": 1}, {\"from\": \"CAPTAIN AMERICA | MU\", \"label\": 1, \"to\": \"QUICKSILVER | MUTANT\", \"weight\": 1}, {\"from\": \"CAPTAIN AMERICA | MU\", \"label\": 1, \"to\": \"YELLOWJACKET II | MU\", \"weight\": 1}, {\"from\": \"CAPTAIN AMERICA | MU\", \"label\": 1, \"to\": \"BEYONDER | MUTANT X-\", \"weight\": 1}, {\"from\": \"CAPTAIN AMERICA | MU\", \"label\": 1, \"to\": \"RICHARDS, REED | MUT\", \"weight\": 1}, {\"from\": \"CAPTAIN AMERICA | MU\", \"label\": 1, \"to\": \"DR. STRANGE | MUTANT\", \"weight\": 1}, {\"from\": \"CAPTAIN AMERICA | MU\", \"label\": 1, \"to\": \"DAREDEVIL | MUTANT X\", \"weight\": 1}, {\"from\": \"CAPTAIN AMERICA | MU\", \"label\": 1, \"to\": \"MAN-SPIDER | MUTANT \", \"weight\": 1}, {\"from\": \"CAPTAIN AMERICA | MU\", \"label\": 1, \"to\": \"SUB-MARINER | MUTANT\", \"weight\": 1}, {\"from\": \"CAPTAIN AMERICA | MU\", \"label\": 1, \"to\": \"HULK | MUTANT X-VERS\", \"weight\": 1}, {\"from\": \"CAPTAIN AMERICA | MU\", \"label\": 1, \"to\": \"STINGRAY | MUTANT X-\", \"weight\": 1}, {\"from\": \"YASHIDA, MARIKO | MU\", \"label\": 1, \"to\": \"WOLVERINE | MUTANT X\", \"weight\": 1}, {\"from\": \"YASHIDA, MARIKO | MU\", \"label\": 1, \"to\": \"BRUTE | MUTANT X-VER\", \"weight\": 1}, {\"from\": \"YASHIDA, MARIKO | MU\", \"label\": 1, \"to\": \"GAMBIT | MUTANT X-VE\", \"weight\": 1}, {\"from\": \"YASHIDA, MARIKO | MU\", \"label\": 1, \"to\": \"GREY, JEAN | MUTANT \", \"weight\": 1}, {\"from\": \"YASHIDA, MARIKO | MU\", \"label\": 1, \"to\": \"ICE-MAN | MUTANT X-V\", \"weight\": 1}, {\"from\": \"YASHIDA, MARIKO | MU\", \"label\": 1, \"to\": \"DRACULA | MUTANT X-V\", \"weight\": 1}, {\"from\": \"YASHIDA, MARIKO | MU\", \"label\": 1, \"to\": \"DR. DOOM | MUTANT X-\", \"weight\": 1}, {\"from\": \"YASHIDA, MARIKO | MU\", \"label\": 1, \"to\": \"DR. STRANGE | MUTANT\", \"weight\": 1}, {\"from\": \"YASHIDA, MARIKO | MU\", \"label\": 1, \"to\": \"DAREDEVIL | MUTANT X\", \"weight\": 1}, {\"from\": \"YASHIDA, MARIKO | MU\", \"label\": 1, \"to\": \"MAN-SPIDER | MUTANT \", \"weight\": 1}, {\"from\": \"YASHIDA, MARIKO | MU\", \"label\": 1, \"to\": \"POLARIS | MUTANT X-V\", \"weight\": 1}, {\"from\": \"YASHIDA, MARIKO | MU\", \"label\": 1, \"to\": \"RAVEN | MUTANT X-VER\", \"weight\": 1}, {\"from\": \"YASHIDA, MARIKO | MU\", \"label\": 1, \"to\": \"SUMMERS, SCOTT III |\", \"weight\": 1}, {\"from\": \"YASHIDA, MARIKO | MU\", \"label\": 1, \"to\": \"SUB-MARINER | MUTANT\", \"weight\": 1}, {\"from\": \"YASHIDA, MARIKO | MU\", \"label\": 1, \"to\": \"HULK | MUTANT X-VERS\", \"weight\": 1}, {\"from\": \"YASHIDA, MARIKO | MU\", \"label\": 1, \"to\": \"STINGRAY | MUTANT X-\", \"weight\": 1}, {\"from\": \"YASHIDA, MARIKO | MU\", \"label\": 1, \"to\": \"ROGUE | MUTANT X-VER\", \"weight\": 1}, {\"from\": \"YASHIDA, MARIKO | MU\", \"label\": 1, \"to\": \"RICHARDS, REED | MUT\", \"weight\": 1}, {\"from\": \"YASHIDA, MARIKO | MU\", \"label\": 1, \"to\": \"NIGHTCRAWLER | MUTAN\", \"weight\": 1}, {\"from\": \"YASHIDA, MARIKO | MU\", \"label\": 1, \"to\": \"BEYONDER | MUTANT X-\", \"weight\": 1}, {\"from\": \"YASHIDA, MARIKO | MU\", \"label\": 1, \"to\": \"YELLOWJACKET II | MU\", \"weight\": 1}, {\"from\": \"YASHIDA, MARIKO | MU\", \"label\": 1, \"to\": \"QUICKSILVER | MUTANT\", \"weight\": 1}, {\"from\": \"YASHIDA, MARIKO | MU\", \"label\": 1, \"to\": \"MAGNETO | MUTANT X-V\", \"weight\": 1}, {\"from\": \"DR. STRANGE | MUTANT\", \"label\": 1, \"to\": \"MARVEL WOMAN | MUTAN\", \"weight\": 1}, {\"from\": \"DR. STRANGE | MUTANT\", \"label\": 1, \"to\": \"RICHARDS, REED | MUT\", \"weight\": 1}, {\"from\": \"DR. STRANGE | MUTANT\", \"label\": 1, \"to\": \"YELLOWJACKET II | MU\", \"weight\": 1}, {\"from\": \"DR. STRANGE | MUTANT\", \"label\": 1, \"to\": \"STINGRAY | MUTANT X-\", \"weight\": 1}, {\"from\": \"DR. STRANGE | MUTANT\", \"label\": 1, \"to\": \"ICE-MAN | MUTANT X-V\", \"weight\": 1}, {\"from\": \"DR. STRANGE | MUTANT\", \"label\": 1, \"to\": \"BRUTE | MUTANT X-VER\", \"weight\": 1}, {\"from\": \"DR. STRANGE | MUTANT\", \"label\": 1, \"to\": \"MAGNETO | MUTANT X-V\", \"weight\": 1}, {\"from\": \"DR. STRANGE | MUTANT\", \"label\": 1, \"to\": \"SUMMERS, SCOTT III |\", \"weight\": 1}, {\"from\": \"DR. STRANGE | MUTANT\", \"label\": 1, \"to\": \"DRACULA | MUTANT X-V\", \"weight\": 1}, {\"from\": \"DR. STRANGE | MUTANT\", \"label\": 1, \"to\": \"BEYONDER | MUTANT X-\", \"weight\": 1}, {\"from\": \"DR. STRANGE | MUTANT\", \"label\": 1, \"to\": \"DR. DOOM | MUTANT X-\", \"weight\": 1}, {\"from\": \"DR. STRANGE | MUTANT\", \"label\": 1, \"to\": \"POLARIS | MUTANT X-V\", \"weight\": 1}, {\"from\": \"DR. STRANGE | MUTANT\", \"label\": 1, \"to\": \"HULK | MUTANT X-VERS\", \"weight\": 1}, {\"from\": \"DR. STRANGE | MUTANT\", \"label\": 1, \"to\": \"MAN-SPIDER | MUTANT \", \"weight\": 1}, {\"from\": \"DR. STRANGE | MUTANT\", \"label\": 1, \"to\": \"GREY, JEAN | MUTANT \", \"weight\": 1}, {\"from\": \"DR. STRANGE | MUTANT\", \"label\": 1, \"to\": \"QUICKSILVER | MUTANT\", \"weight\": 1}, {\"from\": \"DR. STRANGE | MUTANT\", \"label\": 1, \"to\": \"NIGHTCRAWLER | MUTAN\", \"weight\": 1}, {\"from\": \"DR. STRANGE | MUTANT\", \"label\": 1, \"to\": \"GAMBIT | MUTANT X-VE\", \"weight\": 1}, {\"from\": \"DR. STRANGE | MUTANT\", \"label\": 1, \"to\": \"ROGUE | MUTANT X-VER\", \"weight\": 1}, {\"from\": \"DR. STRANGE | MUTANT\", \"label\": 1, \"to\": \"SUB-MARINER | MUTANT\", \"weight\": 1}, {\"from\": \"DR. STRANGE | MUTANT\", \"label\": 1, \"to\": \"RAVEN | MUTANT X-VER\", \"weight\": 1}, {\"from\": \"DR. STRANGE | MUTANT\", \"label\": 1, \"to\": \"DAREDEVIL | MUTANT X\", \"weight\": 1}, {\"from\": \"DR. STRANGE | MUTANT\", \"label\": 1, \"to\": \"WOLVERINE | MUTANT X\", \"weight\": 1}, {\"from\": \"SUMMERS, SCOTT III |\", \"label\": 1, \"to\": \"BRUTE | MUTANT X-VER\", \"weight\": 1}, {\"from\": \"SUMMERS, SCOTT III |\", \"label\": 1, \"to\": \"ICE-MAN | MUTANT X-V\", \"weight\": 1}, {\"from\": \"SUMMERS, SCOTT III |\", \"label\": 1, \"to\": \"GAMBIT | MUTANT X-VE\", \"weight\": 1}, {\"from\": \"SUMMERS, SCOTT III |\", \"label\": 1, \"to\": \"MAGNETO | MUTANT X-V\", \"weight\": 1}, {\"from\": \"SUMMERS, SCOTT III |\", \"label\": 1, \"to\": \"RAVEN | MUTANT X-VER\", \"weight\": 1}, {\"from\": \"SUMMERS, SCOTT III |\", \"label\": 1, \"to\": \"GREY, JEAN | MUTANT \", \"weight\": 1}, {\"from\": \"SUMMERS, SCOTT III |\", \"label\": 1, \"to\": \"RICHARDS, REED | MUT\", \"weight\": 1}, {\"from\": \"SUMMERS, SCOTT III |\", \"label\": 1, \"to\": \"MARVEL WOMAN | MUTAN\", \"weight\": 1}, {\"from\": \"SUMMERS, SCOTT III |\", \"label\": 1, \"to\": \"DR. DOOM | MUTANT X-\", \"weight\": 1}, {\"from\": \"SUMMERS, SCOTT III |\", \"label\": 1, \"to\": \"POLARIS | MUTANT X-V\", \"weight\": 1}, {\"from\": \"SUMMERS, SCOTT III |\", \"label\": 1, \"to\": \"HULK | MUTANT X-VERS\", \"weight\": 1}, {\"from\": \"SUMMERS, SCOTT III |\", \"label\": 1, \"to\": \"MAN-SPIDER | MUTANT \", \"weight\": 1}, {\"from\": \"SUMMERS, SCOTT III |\", \"label\": 1, \"to\": \"BEYONDER | MUTANT X-\", \"weight\": 1}, {\"from\": \"SUMMERS, SCOTT III |\", \"label\": 1, \"to\": \"STINGRAY | MUTANT X-\", \"weight\": 1}, {\"from\": \"SUMMERS, SCOTT III |\", \"label\": 1, \"to\": \"DRACULA | MUTANT X-V\", \"weight\": 1}, {\"from\": \"SUMMERS, SCOTT III |\", \"label\": 1, \"to\": \"YELLOWJACKET II | MU\", \"weight\": 1}, {\"from\": \"SUMMERS, SCOTT III |\", \"label\": 1, \"to\": \"NIGHTCRAWLER | MUTAN\", \"weight\": 1}, {\"from\": \"SUMMERS, SCOTT III |\", \"label\": 1, \"to\": \"ROGUE | MUTANT X-VER\", \"weight\": 1}, {\"from\": \"SUMMERS, SCOTT III |\", \"label\": 1, \"to\": \"SUB-MARINER | MUTANT\", \"weight\": 1}, {\"from\": \"SUMMERS, SCOTT III |\", \"label\": 1, \"to\": \"QUICKSILVER | MUTANT\", \"weight\": 1}, {\"from\": \"SUMMERS, SCOTT III |\", \"label\": 1, \"to\": \"DAREDEVIL | MUTANT X\", \"weight\": 1}, {\"from\": \"SUMMERS, SCOTT III |\", \"label\": 1, \"to\": \"WOLVERINE | MUTANT X\", \"weight\": 1}, {\"from\": \"QUICKSILVER | MUTANT\", \"label\": 1, \"to\": \"SUB-MARINER | MUTANT\", \"weight\": 1}, {\"from\": \"QUICKSILVER | MUTANT\", \"label\": 1, \"to\": \"DRACULA | MUTANT X-V\", \"weight\": 1}, {\"from\": \"QUICKSILVER | MUTANT\", \"label\": 1, \"to\": \"POLARIS | MUTANT X-V\", \"weight\": 1}, {\"from\": \"QUICKSILVER | MUTANT\", \"label\": 1, \"to\": \"MAGNETO | MUTANT X-V\", \"weight\": 1}, {\"from\": \"QUICKSILVER | MUTANT\", \"label\": 1, \"to\": \"BRUTE | MUTANT X-VER\", \"weight\": 1}, {\"from\": \"QUICKSILVER | MUTANT\", \"label\": 1, \"to\": \"MARVEL WOMAN | MUTAN\", \"weight\": 1}, {\"from\": \"QUICKSILVER | MUTANT\", \"label\": 1, \"to\": \"DR. DOOM | MUTANT X-\", \"weight\": 1}, {\"from\": \"QUICKSILVER | MUTANT\", \"label\": 1, \"to\": \"NIGHTCRAWLER | MUTAN\", \"weight\": 1}, {\"from\": \"QUICKSILVER | MUTANT\", \"label\": 1, \"to\": \"ROGUE | MUTANT X-VER\", \"weight\": 1}, {\"from\": \"QUICKSILVER | MUTANT\", \"label\": 1, \"to\": \"RICHARDS, REED | MUT\", \"weight\": 1}, {\"from\": \"QUICKSILVER | MUTANT\", \"label\": 1, \"to\": \"MAN-SPIDER | MUTANT \", \"weight\": 1}, {\"from\": \"QUICKSILVER | MUTANT\", \"label\": 1, \"to\": \"ICE-MAN | MUTANT X-V\", \"weight\": 1}, {\"from\": \"QUICKSILVER | MUTANT\", \"label\": 1, \"to\": \"GREY, JEAN | MUTANT \", \"weight\": 1}, {\"from\": \"QUICKSILVER | MUTANT\", \"label\": 1, \"to\": \"WOLVERINE | MUTANT X\", \"weight\": 1}, {\"from\": \"QUICKSILVER | MUTANT\", \"label\": 1, \"to\": \"DAREDEVIL | MUTANT X\", \"weight\": 1}, {\"from\": \"QUICKSILVER | MUTANT\", \"label\": 1, \"to\": \"RAVEN | MUTANT X-VER\", \"weight\": 1}, {\"from\": \"QUICKSILVER | MUTANT\", \"label\": 1, \"to\": \"HULK | MUTANT X-VERS\", \"weight\": 1}, {\"from\": \"QUICKSILVER | MUTANT\", \"label\": 1, \"to\": \"STINGRAY | MUTANT X-\", \"weight\": 1}, {\"from\": \"QUICKSILVER | MUTANT\", \"label\": 1, \"to\": \"GAMBIT | MUTANT X-VE\", \"weight\": 1}, {\"from\": \"QUICKSILVER | MUTANT\", \"label\": 1, \"to\": \"BEYONDER | MUTANT X-\", \"weight\": 1}, {\"from\": \"QUICKSILVER | MUTANT\", \"label\": 1, \"to\": \"YELLOWJACKET II | MU\", \"weight\": 1}, {\"from\": \"RAVEN | MUTANT X-VER\", \"label\": 1, \"to\": \"MAGNETO | MUTANT X-V\", \"weight\": 1}, {\"from\": \"RAVEN | MUTANT X-VER\", \"label\": 1, \"to\": \"GREY, JEAN | MUTANT \", \"weight\": 1}, {\"from\": \"RAVEN | MUTANT X-VER\", \"label\": 1, \"to\": \"BRUTE | MUTANT X-VER\", \"weight\": 1}, {\"from\": \"RAVEN | MUTANT X-VER\", \"label\": 1, \"to\": \"GAMBIT | MUTANT X-VE\", \"weight\": 1}, {\"from\": \"RAVEN | MUTANT X-VER\", \"label\": 1, \"to\": \"ICE-MAN | MUTANT X-V\", \"weight\": 1}, {\"from\": \"RAVEN | MUTANT X-VER\", \"label\": 1, \"to\": \"DR. DOOM | MUTANT X-\", \"weight\": 1}, {\"from\": \"RAVEN | MUTANT X-VER\", \"label\": 1, \"to\": \"YELLOWJACKET II | MU\", \"weight\": 1}, {\"from\": \"RAVEN | MUTANT X-VER\", \"label\": 1, \"to\": \"BEYONDER | MUTANT X-\", \"weight\": 1}, {\"from\": \"RAVEN | MUTANT X-VER\", \"label\": 1, \"to\": \"NIGHTCRAWLER | MUTAN\", \"weight\": 1}, {\"from\": \"RAVEN | MUTANT X-VER\", \"label\": 1, \"to\": \"RICHARDS, REED | MUT\", \"weight\": 1}, {\"from\": \"RAVEN | MUTANT X-VER\", \"label\": 1, \"to\": \"ROGUE | MUTANT X-VER\", \"weight\": 1}, {\"from\": \"RAVEN | MUTANT X-VER\", \"label\": 1, \"to\": \"STINGRAY | MUTANT X-\", \"weight\": 1}, {\"from\": \"RAVEN | MUTANT X-VER\", \"label\": 1, \"to\": \"HULK | MUTANT X-VERS\", \"weight\": 1}, {\"from\": \"RAVEN | MUTANT X-VER\", \"label\": 1, \"to\": \"DRACULA | MUTANT X-V\", \"weight\": 1}, {\"from\": \"RAVEN | MUTANT X-VER\", \"label\": 1, \"to\": \"SUB-MARINER | MUTANT\", \"weight\": 1}, {\"from\": \"RAVEN | MUTANT X-VER\", \"label\": 1, \"to\": \"WOLVERINE | MUTANT X\", \"weight\": 1}, {\"from\": \"RAVEN | MUTANT X-VER\", \"label\": 1, \"to\": \"DAREDEVIL | MUTANT X\", \"weight\": 1}, {\"from\": \"RAVEN | MUTANT X-VER\", \"label\": 1, \"to\": \"MAN-SPIDER | MUTANT \", \"weight\": 1}, {\"from\": \"RAVEN | MUTANT X-VER\", \"label\": 1, \"to\": \"POLARIS | MUTANT X-V\", \"weight\": 1}, {\"from\": \"MARVEL WOMAN | MUTAN\", \"label\": 1, \"to\": \"BRUTE | MUTANT X-VER\", \"weight\": 1}, {\"from\": \"MARVEL WOMAN | MUTAN\", \"label\": 1, \"to\": \"ICE-MAN | MUTANT X-V\", \"weight\": 1}, {\"from\": \"MARVEL WOMAN | MUTAN\", \"label\": 1, \"to\": \"STINGRAY | MUTANT X-\", \"weight\": 1}, {\"from\": \"MARVEL WOMAN | MUTAN\", \"label\": 1, \"to\": \"YELLOWJACKET II | MU\", \"weight\": 1}, {\"from\": \"MARVEL WOMAN | MUTAN\", \"label\": 1, \"to\": \"RICHARDS, REED | MUT\", \"weight\": 1}, {\"from\": \"MARVEL WOMAN | MUTAN\", \"label\": 1, \"to\": \"MAGNETO | MUTANT X-V\", \"weight\": 1}, {\"from\": \"MARVEL WOMAN | MUTAN\", \"label\": 1, \"to\": \"DR. DOOM | MUTANT X-\", \"weight\": 1}, {\"from\": \"MARVEL WOMAN | MUTAN\", \"label\": 1, \"to\": \"POLARIS | MUTANT X-V\", \"weight\": 1}, {\"from\": \"MARVEL WOMAN | MUTAN\", \"label\": 1, \"to\": \"HULK | MUTANT X-VERS\", \"weight\": 1}, {\"from\": \"MARVEL WOMAN | MUTAN\", \"label\": 1, \"to\": \"MAN-SPIDER | MUTANT \", \"weight\": 1}, {\"from\": \"MARVEL WOMAN | MUTAN\", \"label\": 1, \"to\": \"BEYONDER | MUTANT X-\", \"weight\": 1}, {\"from\": \"MARVEL WOMAN | MUTAN\", \"label\": 1, \"to\": \"DRACULA | MUTANT X-V\", \"weight\": 1}, {\"from\": \"MARVEL WOMAN | MUTAN\", \"label\": 1, \"to\": \"SUB-MARINER | MUTANT\", \"weight\": 1}, {\"from\": \"MARVEL WOMAN | MUTAN\", \"label\": 1, \"to\": \"ROGUE | MUTANT X-VER\", \"weight\": 1}, {\"from\": \"MARVEL WOMAN | MUTAN\", \"label\": 1, \"to\": \"NIGHTCRAWLER | MUTAN\", \"weight\": 1}, {\"from\": \"MARVEL WOMAN | MUTAN\", \"label\": 1, \"to\": \"WOLVERINE | MUTANT X\", \"weight\": 1}, {\"from\": \"MARVEL WOMAN | MUTAN\", \"label\": 1, \"to\": \"DAREDEVIL | MUTANT X\", \"weight\": 1}, {\"from\": \"ROGUE | MUTANT X-VER\", \"label\": 1, \"to\": \"POLARIS | MUTANT X-V\", \"weight\": 1}, {\"from\": \"ROGUE | MUTANT X-VER\", \"label\": 1, \"to\": \"MAGNETO | MUTANT X-V\", \"weight\": 1}, {\"from\": \"ROGUE | MUTANT X-VER\", \"label\": 1, \"to\": \"NIGHTCRAWLER | MUTAN\", \"weight\": 1}, {\"from\": \"ROGUE | MUTANT X-VER\", \"label\": 1, \"to\": \"ICE-MAN | MUTANT X-V\", \"weight\": 1}, {\"from\": \"ROGUE | MUTANT X-VER\", \"label\": 1, \"to\": \"BRUTE | MUTANT X-VER\", \"weight\": 1}, {\"from\": \"ROGUE | MUTANT X-VER\", \"label\": 1, \"to\": \"SUB-MARINER | MUTANT\", \"weight\": 1}, {\"from\": \"ROGUE | MUTANT X-VER\", \"label\": 1, \"to\": \"DRACULA | MUTANT X-V\", \"weight\": 1}, {\"from\": \"ROGUE | MUTANT X-VER\", \"label\": 1, \"to\": \"MAN-SPIDER | MUTANT \", \"weight\": 1}, {\"from\": \"ROGUE | MUTANT X-VER\", \"label\": 1, \"to\": \"RICHARDS, REED | MUT\", \"weight\": 1}, {\"from\": \"ROGUE | MUTANT X-VER\", \"label\": 1, \"to\": \"DR. DOOM | MUTANT X-\", \"weight\": 1}, {\"from\": \"ROGUE | MUTANT X-VER\", \"label\": 1, \"to\": \"GREY, JEAN | MUTANT \", \"weight\": 1}, {\"from\": \"ROGUE | MUTANT X-VER\", \"label\": 1, \"to\": \"YELLOWJACKET II | MU\", \"weight\": 1}, {\"from\": \"ROGUE | MUTANT X-VER\", \"label\": 1, \"to\": \"BEYONDER | MUTANT X-\", \"weight\": 1}, {\"from\": \"ROGUE | MUTANT X-VER\", \"label\": 1, \"to\": \"GAMBIT | MUTANT X-VE\", \"weight\": 1}, {\"from\": \"ROGUE | MUTANT X-VER\", \"label\": 1, \"to\": \"WOLVERINE | MUTANT X\", \"weight\": 1}, {\"from\": \"ROGUE | MUTANT X-VER\", \"label\": 1, \"to\": \"DAREDEVIL | MUTANT X\", \"weight\": 1}, {\"from\": \"ROGUE | MUTANT X-VER\", \"label\": 1, \"to\": \"HULK | MUTANT X-VERS\", \"weight\": 1}, {\"from\": \"ROGUE | MUTANT X-VER\", \"label\": 1, \"to\": \"STINGRAY | MUTANT X-\", \"weight\": 1}, {\"from\": \"NIGHTCRAWLER | MUTAN\", \"label\": 1, \"to\": \"POLARIS | MUTANT X-V\", \"weight\": 1}, {\"from\": \"NIGHTCRAWLER | MUTAN\", \"label\": 1, \"to\": \"MAGNETO | MUTANT X-V\", \"weight\": 1}, {\"from\": \"NIGHTCRAWLER | MUTAN\", \"label\": 1, \"to\": \"ICE-MAN | MUTANT X-V\", \"weight\": 1}, {\"from\": \"NIGHTCRAWLER | MUTAN\", \"label\": 1, \"to\": \"BRUTE | MUTANT X-VER\", \"weight\": 1}, {\"from\": \"NIGHTCRAWLER | MUTAN\", \"label\": 1, \"to\": \"SUB-MARINER | MUTANT\", \"weight\": 1}, {\"from\": \"NIGHTCRAWLER | MUTAN\", \"label\": 1, \"to\": \"DRACULA | MUTANT X-V\", \"weight\": 1}, {\"from\": \"NIGHTCRAWLER | MUTAN\", \"label\": 1, \"to\": \"MAN-SPIDER | MUTANT \", \"weight\": 1}, {\"from\": \"NIGHTCRAWLER | MUTAN\", \"label\": 1, \"to\": \"RICHARDS, REED | MUT\", \"weight\": 1}, {\"from\": \"NIGHTCRAWLER | MUTAN\", \"label\": 1, \"to\": \"DR. DOOM | MUTANT X-\", \"weight\": 1}, {\"from\": \"NIGHTCRAWLER | MUTAN\", \"label\": 1, \"to\": \"GAMBIT | MUTANT X-VE\", \"weight\": 1}, {\"from\": \"NIGHTCRAWLER | MUTAN\", \"label\": 1, \"to\": \"GREY, JEAN | MUTANT \", \"weight\": 1}, {\"from\": \"NIGHTCRAWLER | MUTAN\", \"label\": 1, \"to\": \"YELLOWJACKET II | MU\", \"weight\": 1}, {\"from\": \"NIGHTCRAWLER | MUTAN\", \"label\": 1, \"to\": \"BEYONDER | MUTANT X-\", \"weight\": 1}, {\"from\": \"NIGHTCRAWLER | MUTAN\", \"label\": 1, \"to\": \"WOLVERINE | MUTANT X\", \"weight\": 1}, {\"from\": \"NIGHTCRAWLER | MUTAN\", \"label\": 1, \"to\": \"DAREDEVIL | MUTANT X\", \"weight\": 1}, {\"from\": \"NIGHTCRAWLER | MUTAN\", \"label\": 1, \"to\": \"HULK | MUTANT X-VERS\", \"weight\": 1}, {\"from\": \"NIGHTCRAWLER | MUTAN\", \"label\": 1, \"to\": \"STINGRAY | MUTANT X-\", \"weight\": 1}, {\"from\": \"DR. DOOM | MUTANT X-\", \"label\": 1, \"to\": \"RICHARDS, REED | MUT\", \"weight\": 1}, {\"from\": \"DR. DOOM | MUTANT X-\", \"label\": 1, \"to\": \"MAGNETO | MUTANT X-V\", \"weight\": 1}, {\"from\": \"DR. DOOM | MUTANT X-\", \"label\": 1, \"to\": \"YELLOWJACKET II | MU\", \"weight\": 1}, {\"from\": \"DR. DOOM | MUTANT X-\", \"label\": 1, \"to\": \"DRACULA | MUTANT X-V\", \"weight\": 1}, {\"from\": \"DR. DOOM | MUTANT X-\", \"label\": 1, \"to\": \"STINGRAY | MUTANT X-\", \"weight\": 1}, {\"from\": \"DR. DOOM | MUTANT X-\", \"label\": 1, \"to\": \"BEYONDER | MUTANT X-\", \"weight\": 1}, {\"from\": \"DR. DOOM | MUTANT X-\", \"label\": 1, \"to\": \"MAN-SPIDER | MUTANT \", \"weight\": 1}, {\"from\": \"DR. DOOM | MUTANT X-\", \"label\": 1, \"to\": \"HULK | MUTANT X-VERS\", \"weight\": 1}, {\"from\": \"DR. DOOM | MUTANT X-\", \"label\": 1, \"to\": \"ICE-MAN | MUTANT X-V\", \"weight\": 1}, {\"from\": \"DR. DOOM | MUTANT X-\", \"label\": 1, \"to\": \"BRUTE | MUTANT X-VER\", \"weight\": 1}, {\"from\": \"DR. DOOM | MUTANT X-\", \"label\": 1, \"to\": \"POLARIS | MUTANT X-V\", \"weight\": 1}, {\"from\": \"DR. DOOM | MUTANT X-\", \"label\": 1, \"to\": \"SUB-MARINER | MUTANT\", \"weight\": 1}, {\"from\": \"DR. DOOM | MUTANT X-\", \"label\": 1, \"to\": \"GREY, JEAN | MUTANT \", \"weight\": 1}, {\"from\": \"DR. DOOM | MUTANT X-\", \"label\": 1, \"to\": \"WOLVERINE | MUTANT X\", \"weight\": 1}, {\"from\": \"DR. DOOM | MUTANT X-\", \"label\": 1, \"to\": \"DAREDEVIL | MUTANT X\", \"weight\": 1}, {\"from\": \"DR. DOOM | MUTANT X-\", \"label\": 1, \"to\": \"GAMBIT | MUTANT X-VE\", \"weight\": 1}, {\"from\": \"YELLOWJACKET II | MU\", \"label\": 1, \"to\": \"RICHARDS, REED | MUT\", \"weight\": 1}, {\"from\": \"YELLOWJACKET II | MU\", \"label\": 1, \"to\": \"BRUTE | MUTANT X-VER\", \"weight\": 1}, {\"from\": \"YELLOWJACKET II | MU\", \"label\": 1, \"to\": \"ICE-MAN | MUTANT X-V\", \"weight\": 1}, {\"from\": \"YELLOWJACKET II | MU\", \"label\": 1, \"to\": \"STINGRAY | MUTANT X-\", \"weight\": 1}, {\"from\": \"YELLOWJACKET II | MU\", \"label\": 1, \"to\": \"MAGNETO | MUTANT X-V\", \"weight\": 1}, {\"from\": \"YELLOWJACKET II | MU\", \"label\": 1, \"to\": \"POLARIS | MUTANT X-V\", \"weight\": 1}, {\"from\": \"YELLOWJACKET II | MU\", \"label\": 1, \"to\": \"HULK | MUTANT X-VERS\", \"weight\": 1}, {\"from\": \"YELLOWJACKET II | MU\", \"label\": 1, \"to\": \"MAN-SPIDER | MUTANT \", \"weight\": 1}, {\"from\": \"YELLOWJACKET II | MU\", \"label\": 1, \"to\": \"BEYONDER | MUTANT X-\", \"weight\": 1}, {\"from\": \"YELLOWJACKET II | MU\", \"label\": 1, \"to\": \"DRACULA | MUTANT X-V\", \"weight\": 1}, {\"from\": \"YELLOWJACKET II | MU\", \"label\": 1, \"to\": \"GREY, JEAN | MUTANT \", \"weight\": 1}, {\"from\": \"YELLOWJACKET II | MU\", \"label\": 1, \"to\": \"WOLVERINE | MUTANT X\", \"weight\": 1}, {\"from\": \"YELLOWJACKET II | MU\", \"label\": 1, \"to\": \"DAREDEVIL | MUTANT X\", \"weight\": 1}, {\"from\": \"YELLOWJACKET II | MU\", \"label\": 1, \"to\": \"SUB-MARINER | MUTANT\", \"weight\": 1}, {\"from\": \"YELLOWJACKET II | MU\", \"label\": 1, \"to\": \"GAMBIT | MUTANT X-VE\", \"weight\": 1}, {\"from\": \"GAMBIT | MUTANT X-VE\", \"label\": 1, \"to\": \"WOLVERINE | MUTANT X\", \"weight\": 1}, {\"from\": \"GAMBIT | MUTANT X-VE\", \"label\": 1, \"to\": \"BRUTE | MUTANT X-VER\", \"weight\": 1}, {\"from\": \"GAMBIT | MUTANT X-VE\", \"label\": 1, \"to\": \"ICE-MAN | MUTANT X-V\", \"weight\": 1}, {\"from\": \"GAMBIT | MUTANT X-VE\", \"label\": 1, \"to\": \"GREY, JEAN | MUTANT \", \"weight\": 1}, {\"from\": \"GAMBIT | MUTANT X-VE\", \"label\": 1, \"to\": \"MAGNETO | MUTANT X-V\", \"weight\": 1}, {\"from\": \"GAMBIT | MUTANT X-VE\", \"label\": 1, \"to\": \"DRACULA | MUTANT X-V\", \"weight\": 1}, {\"from\": \"GAMBIT | MUTANT X-VE\", \"label\": 1, \"to\": \"CLOAK/TYRONE JOHNSON\", \"weight\": 1}, {\"from\": \"GAMBIT | MUTANT X-VE\", \"label\": 1, \"to\": \"BEYONDER | MUTANT X-\", \"weight\": 1}, {\"from\": \"GAMBIT | MUTANT X-VE\", \"label\": 1, \"to\": \"DAREDEVIL | MUTANT X\", \"weight\": 1}, {\"from\": \"GAMBIT | MUTANT X-VE\", \"label\": 1, \"to\": \"MAN-SPIDER | MUTANT \", \"weight\": 1}, {\"from\": \"GAMBIT | MUTANT X-VE\", \"label\": 1, \"to\": \"POLARIS | MUTANT X-V\", \"weight\": 1}, {\"from\": \"GAMBIT | MUTANT X-VE\", \"label\": 1, \"to\": \"SUB-MARINER | MUTANT\", \"weight\": 1}, {\"from\": \"GAMBIT | MUTANT X-VE\", \"label\": 1, \"to\": \"HULK | MUTANT X-VERS\", \"weight\": 1}, {\"from\": \"GAMBIT | MUTANT X-VE\", \"label\": 1, \"to\": \"STINGRAY | MUTANT X-\", \"weight\": 1}, {\"from\": \"GAMBIT | MUTANT X-VE\", \"label\": 1, \"to\": \"RICHARDS, REED | MUT\", \"weight\": 1}, {\"from\": \"CLOAK/TYRONE JOHNSON\", \"label\": 1, \"to\": \"GREY, JEAN | MUTANT \", \"weight\": 1}, {\"from\": \"CLOAK/TYRONE JOHNSON\", \"label\": 1, \"to\": \"ICE-MAN | MUTANT X-V\", \"weight\": 1}, {\"from\": \"CLOAK/TYRONE JOHNSON\", \"label\": 1, \"to\": \"DRACULA | MUTANT X-V\", \"weight\": 1}, {\"from\": \"CLOAK/TYRONE JOHNSON\", \"label\": 1, \"to\": \"BRUTE | MUTANT X-VER\", \"weight\": 1}, {\"from\": \"GREY, JEAN | MUTANT \", \"label\": 1, \"to\": \"WOLVERINE | MUTANT X\", \"weight\": 1}, {\"from\": \"GREY, JEAN | MUTANT \", \"label\": 1, \"to\": \"BRUTE | MUTANT X-VER\", \"weight\": 1}, {\"from\": \"GREY, JEAN | MUTANT \", \"label\": 1, \"to\": \"ICE-MAN | MUTANT X-V\", \"weight\": 1}, {\"from\": \"GREY, JEAN | MUTANT \", \"label\": 1, \"to\": \"MAGNETO | MUTANT X-V\", \"weight\": 1}, {\"from\": \"GREY, JEAN | MUTANT \", \"label\": 1, \"to\": \"DRACULA | MUTANT X-V\", \"weight\": 1}, {\"from\": \"GREY, JEAN | MUTANT \", \"label\": 1, \"to\": \"DAREDEVIL | MUTANT X\", \"weight\": 1}, {\"from\": \"GREY, JEAN | MUTANT \", \"label\": 1, \"to\": \"MAN-SPIDER | MUTANT \", \"weight\": 1}, {\"from\": \"GREY, JEAN | MUTANT \", \"label\": 1, \"to\": \"POLARIS | MUTANT X-V\", \"weight\": 1}, {\"from\": \"GREY, JEAN | MUTANT \", \"label\": 1, \"to\": \"SUB-MARINER | MUTANT\", \"weight\": 1}, {\"from\": \"GREY, JEAN | MUTANT \", \"label\": 1, \"to\": \"HULK | MUTANT X-VERS\", \"weight\": 1}, {\"from\": \"GREY, JEAN | MUTANT \", \"label\": 1, \"to\": \"STINGRAY | MUTANT X-\", \"weight\": 1}, {\"from\": \"GREY, JEAN | MUTANT \", \"label\": 1, \"to\": \"RICHARDS, REED | MUT\", \"weight\": 1}, {\"from\": \"GREY, JEAN | MUTANT \", \"label\": 1, \"to\": \"BEYONDER | MUTANT X-\", \"weight\": 1}, {\"from\": \"MAN-SPIDER | MUTANT \", \"label\": 1, \"to\": \"RICHARDS, REED | MUT\", \"weight\": 1}, {\"from\": \"MAN-SPIDER | MUTANT \", \"label\": 1, \"to\": \"MAGNETO | MUTANT X-V\", \"weight\": 1}, {\"from\": \"MAN-SPIDER | MUTANT \", \"label\": 1, \"to\": \"DRACULA | MUTANT X-V\", \"weight\": 1}, {\"from\": \"MAN-SPIDER | MUTANT \", \"label\": 1, \"to\": \"STINGRAY | MUTANT X-\", \"weight\": 1}, {\"from\": \"MAN-SPIDER | MUTANT \", \"label\": 1, \"to\": \"BEYONDER | MUTANT X-\", \"weight\": 1}, {\"from\": \"MAN-SPIDER | MUTANT \", \"label\": 1, \"to\": \"POLARIS | MUTANT X-V\", \"weight\": 1}, {\"from\": \"MAN-SPIDER | MUTANT \", \"label\": 1, \"to\": \"BRUTE | MUTANT X-VER\", \"weight\": 1}, {\"from\": \"MAN-SPIDER | MUTANT \", \"label\": 1, \"to\": \"ICE-MAN | MUTANT X-V\", \"weight\": 1}, {\"from\": \"MAN-SPIDER | MUTANT \", \"label\": 1, \"to\": \"HULK | MUTANT X-VERS\", \"weight\": 1}, {\"from\": \"MAN-SPIDER | MUTANT \", \"label\": 1, \"to\": \"SUB-MARINER | MUTANT\", \"weight\": 1}, {\"from\": \"MAN-SPIDER | MUTANT \", \"label\": 1, \"to\": \"DAREDEVIL | MUTANT X\", \"weight\": 1}, {\"from\": \"MAN-SPIDER | MUTANT \", \"label\": 1, \"to\": \"WOLVERINE | MUTANT X\", \"weight\": 1}, {\"from\": \"RICHARDS, REED | MUT\", \"label\": 1, \"to\": \"BRUTE | MUTANT X-VER\", \"weight\": 1}, {\"from\": \"RICHARDS, REED | MUT\", \"label\": 1, \"to\": \"ICE-MAN | MUTANT X-V\", \"weight\": 1}, {\"from\": \"RICHARDS, REED | MUT\", \"label\": 1, \"to\": \"STINGRAY | MUTANT X-\", \"weight\": 1}, {\"from\": \"RICHARDS, REED | MUT\", \"label\": 1, \"to\": \"POLARIS | MUTANT X-V\", \"weight\": 1}, {\"from\": \"RICHARDS, REED | MUT\", \"label\": 1, \"to\": \"HULK | MUTANT X-VERS\", \"weight\": 1}, {\"from\": \"RICHARDS, REED | MUT\", \"label\": 1, \"to\": \"BEYONDER | MUTANT X-\", \"weight\": 1}, {\"from\": \"RICHARDS, REED | MUT\", \"label\": 1, \"to\": \"DRACULA | MUTANT X-V\", \"weight\": 1}, {\"from\": \"RICHARDS, REED | MUT\", \"label\": 1, \"to\": \"MAGNETO | MUTANT X-V\", \"weight\": 1}, {\"from\": \"RICHARDS, REED | MUT\", \"label\": 1, \"to\": \"SUB-MARINER | MUTANT\", \"weight\": 1}, {\"from\": \"RICHARDS, REED | MUT\", \"label\": 1, \"to\": \"WOLVERINE | MUTANT X\", \"weight\": 1}, {\"from\": \"RICHARDS, REED | MUT\", \"label\": 1, \"to\": \"DAREDEVIL | MUTANT X\", \"weight\": 1}, {\"from\": \"MAGNETO | MUTANT X-V\", \"label\": 1, \"to\": \"BRUTE | MUTANT X-VER\", \"weight\": 1}, {\"from\": \"MAGNETO | MUTANT X-V\", \"label\": 1, \"to\": \"ICE-MAN | MUTANT X-V\", \"weight\": 1}, {\"from\": \"MAGNETO | MUTANT X-V\", \"label\": 1, \"to\": \"POLARIS | MUTANT X-V\", \"weight\": 1}, {\"from\": \"MAGNETO | MUTANT X-V\", \"label\": 1, \"to\": \"HULK | MUTANT X-VERS\", \"weight\": 1}, {\"from\": \"MAGNETO | MUTANT X-V\", \"label\": 1, \"to\": \"BEYONDER | MUTANT X-\", \"weight\": 1}, {\"from\": \"MAGNETO | MUTANT X-V\", \"label\": 1, \"to\": \"STINGRAY | MUTANT X-\", \"weight\": 1}, {\"from\": \"MAGNETO | MUTANT X-V\", \"label\": 1, \"to\": \"DRACULA | MUTANT X-V\", \"weight\": 1}, {\"from\": \"MAGNETO | MUTANT X-V\", \"label\": 1, \"to\": \"SUB-MARINER | MUTANT\", \"weight\": 1}, {\"from\": \"MAGNETO | MUTANT X-V\", \"label\": 1, \"to\": \"WOLVERINE | MUTANT X\", \"weight\": 1}, {\"from\": \"MAGNETO | MUTANT X-V\", \"label\": 1, \"to\": \"DAREDEVIL | MUTANT X\", \"weight\": 1}, {\"from\": \"DAREDEVIL | MUTANT X\", \"label\": 1, \"to\": \"ICE-MAN | MUTANT X-V\", \"weight\": 1}, {\"from\": \"DAREDEVIL | MUTANT X\", \"label\": 1, \"to\": \"BRUTE | MUTANT X-VER\", \"weight\": 1}, {\"from\": \"DAREDEVIL | MUTANT X\", \"label\": 1, \"to\": \"BEYONDER | MUTANT X-\", \"weight\": 1}, {\"from\": \"DAREDEVIL | MUTANT X\", \"label\": 1, \"to\": \"STINGRAY | MUTANT X-\", \"weight\": 1}, {\"from\": \"DAREDEVIL | MUTANT X\", \"label\": 1, \"to\": \"HULK | MUTANT X-VERS\", \"weight\": 1}, {\"from\": \"DAREDEVIL | MUTANT X\", \"label\": 1, \"to\": \"DRACULA | MUTANT X-V\", \"weight\": 1}, {\"from\": \"DAREDEVIL | MUTANT X\", \"label\": 1, \"to\": \"SUB-MARINER | MUTANT\", \"weight\": 1}, {\"from\": \"DAREDEVIL | MUTANT X\", \"label\": 1, \"to\": \"POLARIS | MUTANT X-V\", \"weight\": 1}, {\"from\": \"DAREDEVIL | MUTANT X\", \"label\": 1, \"to\": \"WOLVERINE | MUTANT X\", \"weight\": 1}, {\"from\": \"POLARIS | MUTANT X-V\", \"label\": 1, \"to\": \"DRACULA | MUTANT X-V\", \"weight\": 1}, {\"from\": \"POLARIS | MUTANT X-V\", \"label\": 1, \"to\": \"STINGRAY | MUTANT X-\", \"weight\": 1}, {\"from\": \"POLARIS | MUTANT X-V\", \"label\": 1, \"to\": \"BEYONDER | MUTANT X-\", \"weight\": 1}, {\"from\": \"POLARIS | MUTANT X-V\", \"label\": 1, \"to\": \"HULK | MUTANT X-VERS\", \"weight\": 1}, {\"from\": \"POLARIS | MUTANT X-V\", \"label\": 1, \"to\": \"ICE-MAN | MUTANT X-V\", \"weight\": 1}, {\"from\": \"POLARIS | MUTANT X-V\", \"label\": 1, \"to\": \"BRUTE | MUTANT X-VER\", \"weight\": 1}, {\"from\": \"POLARIS | MUTANT X-V\", \"label\": 1, \"to\": \"SUB-MARINER | MUTANT\", \"weight\": 1}, {\"from\": \"POLARIS | MUTANT X-V\", \"label\": 1, \"to\": \"WOLVERINE | MUTANT X\", \"weight\": 1}, {\"from\": \"HULK | MUTANT X-VERS\", \"label\": 1, \"to\": \"DRACULA | MUTANT X-V\", \"weight\": 1}, {\"from\": \"HULK | MUTANT X-VERS\", \"label\": 1, \"to\": \"STINGRAY | MUTANT X-\", \"weight\": 1}, {\"from\": \"HULK | MUTANT X-VERS\", \"label\": 1, \"to\": \"BEYONDER | MUTANT X-\", \"weight\": 1}, {\"from\": \"HULK | MUTANT X-VERS\", \"label\": 1, \"to\": \"BRUTE | MUTANT X-VER\", \"weight\": 1}, {\"from\": \"HULK | MUTANT X-VERS\", \"label\": 1, \"to\": \"ICE-MAN | MUTANT X-V\", \"weight\": 1}, {\"from\": \"HULK | MUTANT X-VERS\", \"label\": 1, \"to\": \"WOLVERINE | MUTANT X\", \"weight\": 1}, {\"from\": \"HULK | MUTANT X-VERS\", \"label\": 1, \"to\": \"SUB-MARINER | MUTANT\", \"weight\": 1}, {\"from\": \"ICE-MAN | MUTANT X-V\", \"label\": 1, \"to\": \"WOLVERINE | MUTANT X\", \"weight\": 1}, {\"from\": \"ICE-MAN | MUTANT X-V\", \"label\": 1, \"to\": \"BRUTE | MUTANT X-VER\", \"weight\": 1}, {\"from\": \"ICE-MAN | MUTANT X-V\", \"label\": 1, \"to\": \"DRACULA | MUTANT X-V\", \"weight\": 1}, {\"from\": \"ICE-MAN | MUTANT X-V\", \"label\": 1, \"to\": \"STINGRAY | MUTANT X-\", \"weight\": 1}, {\"from\": \"ICE-MAN | MUTANT X-V\", \"label\": 1, \"to\": \"BEYONDER | MUTANT X-\", \"weight\": 1}, {\"from\": \"ICE-MAN | MUTANT X-V\", \"label\": 1, \"to\": \"SUB-MARINER | MUTANT\", \"weight\": 1}, {\"from\": \"DRACULA | MUTANT X-V\", \"label\": 1, \"to\": \"BRUTE | MUTANT X-VER\", \"weight\": 1}, {\"from\": \"DRACULA | MUTANT X-V\", \"label\": 1, \"to\": \"WOLVERINE | MUTANT X\", \"weight\": 1}, {\"from\": \"DRACULA | MUTANT X-V\", \"label\": 1, \"to\": \"BEYONDER | MUTANT X-\", \"weight\": 1}, {\"from\": \"DRACULA | MUTANT X-V\", \"label\": 1, \"to\": \"STINGRAY | MUTANT X-\", \"weight\": 1}, {\"from\": \"DRACULA | MUTANT X-V\", \"label\": 1, \"to\": \"SUB-MARINER | MUTANT\", \"weight\": 1}, {\"from\": \"WOLVERINE | MUTANT X\", \"label\": 1, \"to\": \"BRUTE | MUTANT X-VER\", \"weight\": 1}, {\"from\": \"WOLVERINE | MUTANT X\", \"label\": 1, \"to\": \"BEYONDER | MUTANT X-\", \"weight\": 1}, {\"from\": \"WOLVERINE | MUTANT X\", \"label\": 1, \"to\": \"STINGRAY | MUTANT X-\", \"weight\": 1}, {\"from\": \"WOLVERINE | MUTANT X\", \"label\": 1, \"to\": \"SUB-MARINER | MUTANT\", \"weight\": 1}, {\"from\": \"BRUTE | MUTANT X-VER\", \"label\": 1, \"to\": \"STINGRAY | MUTANT X-\", \"weight\": 1}, {\"from\": \"BRUTE | MUTANT X-VER\", \"label\": 1, \"to\": \"BEYONDER | MUTANT X-\", \"weight\": 1}, {\"from\": \"BRUTE | MUTANT X-VER\", \"label\": 1, \"to\": \"SUB-MARINER | MUTANT\", \"weight\": 1}, {\"from\": \"SUB-MARINER | MUTANT\", \"label\": 1, \"to\": \"BEYONDER | MUTANT X-\", \"weight\": 1}, {\"from\": \"SUB-MARINER | MUTANT\", \"label\": 1, \"to\": \"STINGRAY | MUTANT X-\", \"weight\": 1}, {\"from\": \"BEYONDER | MUTANT X-\", \"label\": 1, \"to\": \"STINGRAY | MUTANT X-\", \"weight\": 1}]);\n",
              "\n",
              "        // adding nodes and edges to the graph\n",
              "        data = {nodes: nodes, edges: edges};\n",
              "\n",
              "        var options = {\n",
              "    \"configure\": {\n",
              "        \"enabled\": true,\n",
              "        \"filter\": [\n",
              "            \"physics\"\n",
              "        ]\n",
              "    },\n",
              "    \"edges\": {\n",
              "        \"color\": {\n",
              "            \"inherit\": true\n",
              "        },\n",
              "        \"smooth\": {\n",
              "            \"enabled\": true,\n",
              "            \"type\": \"dynamic\"\n",
              "        }\n",
              "    },\n",
              "    \"interaction\": {\n",
              "        \"dragNodes\": true,\n",
              "        \"hideEdgesOnDrag\": false,\n",
              "        \"hideNodesOnDrag\": false\n",
              "    },\n",
              "    \"physics\": {\n",
              "        \"enabled\": true,\n",
              "        \"forceAtlas2Based\": {\n",
              "            \"avoidOverlap\": 0,\n",
              "            \"centralGravity\": 0.01,\n",
              "            \"damping\": 0.4,\n",
              "            \"gravitationalConstant\": -50,\n",
              "            \"springConstant\": 0.08,\n",
              "            \"springLength\": 100\n",
              "        },\n",
              "        \"solver\": \"forceAtlas2Based\",\n",
              "        \"stabilization\": {\n",
              "            \"enabled\": true,\n",
              "            \"fit\": true,\n",
              "            \"iterations\": 1000,\n",
              "            \"onlyDynamicEdges\": false,\n",
              "            \"updateInterval\": 50\n",
              "        }\n",
              "    }\n",
              "};\n",
              "        \n",
              "        \n",
              "\n",
              "        \n",
              "        // if this network requires displaying the configure window,\n",
              "        // put it in its div\n",
              "        options.configure[\"container\"] = document.getElementById(\"config\");\n",
              "        \n",
              "\n",
              "        network = new vis.Network(container, data, options);\n",
              "\t \n",
              "        \n",
              "\n",
              "\n",
              "        \n",
              "\n",
              "        return network;\n",
              "\n",
              "    }\n",
              "\n",
              "    drawGraph();\n",
              "\n",
              "</script>\n",
              "</body>\n",
              "</html>"
            ]
          },
          "metadata": {}
        }
      ]
    },
    {
      "cell_type": "code",
      "source": [
        ""
      ],
      "metadata": {
        "id": "uJQOTQSd9pwk"
      },
      "execution_count": null,
      "outputs": []
    }
  ]
}