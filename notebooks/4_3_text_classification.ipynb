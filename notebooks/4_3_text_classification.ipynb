{
  "nbformat": 4,
  "nbformat_minor": 0,
  "metadata": {
    "colab": {
      "name": "4_3_text_classification.ipynb",
      "provenance": [],
      "collapsed_sections": [],
      "authorship_tag": "ABX9TyMyBC3+D5vUqYeH2qwFNouh",
      "include_colab_link": true
    },
    "kernelspec": {
      "name": "python3",
      "display_name": "Python 3"
    },
    "language_info": {
      "name": "python"
    }
  },
  "cells": [
    {
      "cell_type": "markdown",
      "metadata": {
        "id": "view-in-github",
        "colab_type": "text"
      },
      "source": [
        "<a href=\"https://colab.research.google.com/github/Advanced-Data-Science-TU-Berlin/Part-2/blob/main/notebooks/4_3_text_classification.ipynb\" target=\"_parent\"><img src=\"https://colab.research.google.com/assets/colab-badge.svg\" alt=\"Open In Colab\"/></a>"
      ]
    },
    {
      "cell_type": "markdown",
      "source": [
        "# Text Classification\n",
        "Text classification also known as text tagging or text categorization is the process of categorizing text into organized groups. By using Natural Language Processing (NLP), text classifiers can automatically analyze text and then assign a set of pre-defined tags or categories based on its content.\n",
        "\n",
        "In this exercise we are using the data from one of the Kaggle competitions named “Toxic Comment Classification Challenge”. In this competition, we’re challenged to build a multi-headed model that’s capable of detecting different types of toxicity like threats, obscenity, insults, and identity-based hate. The dataset contains comments from Wikipedia’s talk page edits. (So, along with text classification we will also be learning how to implement multi-output/multi-label classification)\n",
        "\n",
        "> The dataset for this competition contains text that may be considered profane, vulgar, or offensive. We do not encourage such words and this is only for experiment purposes.\n",
        "\n",
        "Let's start with loading the data and look at its structure:\n",
        "\n"
      ],
      "metadata": {
        "id": "6VL-6XAULLhY"
      }
    },
    {
      "cell_type": "code",
      "execution_count": null,
      "metadata": {
        "colab": {
          "base_uri": "https://localhost:8080/"
        },
        "id": "k0U2A-CgKxvH",
        "outputId": "75c886f7-735a-42fd-ae3c-2f25b1c86345"
      },
      "outputs": [
        {
          "output_type": "stream",
          "name": "stdout",
          "text": [
            "Looking in indexes: https://pypi.org/simple, https://us-python.pkg.dev/colab-wheels/public/simple/\n",
            "Collecting opendatasets\n",
            "  Downloading opendatasets-0.1.22-py3-none-any.whl (15 kB)\n",
            "Requirement already satisfied: click in /usr/local/lib/python3.7/dist-packages (from opendatasets) (7.1.2)\n",
            "Requirement already satisfied: tqdm in /usr/local/lib/python3.7/dist-packages (from opendatasets) (4.64.0)\n",
            "Requirement already satisfied: kaggle in /usr/local/lib/python3.7/dist-packages (from opendatasets) (1.5.12)\n",
            "Requirement already satisfied: certifi in /usr/local/lib/python3.7/dist-packages (from kaggle->opendatasets) (2022.5.18.1)\n",
            "Requirement already satisfied: requests in /usr/local/lib/python3.7/dist-packages (from kaggle->opendatasets) (2.23.0)\n",
            "Requirement already satisfied: python-slugify in /usr/local/lib/python3.7/dist-packages (from kaggle->opendatasets) (6.1.2)\n",
            "Requirement already satisfied: urllib3 in /usr/local/lib/python3.7/dist-packages (from kaggle->opendatasets) (1.24.3)\n",
            "Requirement already satisfied: python-dateutil in /usr/local/lib/python3.7/dist-packages (from kaggle->opendatasets) (2.8.2)\n",
            "Requirement already satisfied: six>=1.10 in /usr/local/lib/python3.7/dist-packages (from kaggle->opendatasets) (1.15.0)\n",
            "Requirement already satisfied: text-unidecode>=1.3 in /usr/local/lib/python3.7/dist-packages (from python-slugify->kaggle->opendatasets) (1.3)\n",
            "Requirement already satisfied: idna<3,>=2.5 in /usr/local/lib/python3.7/dist-packages (from requests->kaggle->opendatasets) (2.10)\n",
            "Requirement already satisfied: chardet<4,>=3.0.2 in /usr/local/lib/python3.7/dist-packages (from requests->kaggle->opendatasets) (3.0.4)\n",
            "Installing collected packages: opendatasets\n",
            "Successfully installed opendatasets-0.1.22\n"
          ]
        }
      ],
      "source": [
        "!pip install opendatasets"
      ]
    },
    {
      "cell_type": "code",
      "source": [
        "import opendatasets as od\n",
        "od.download(\"https://www.kaggle.com/datasets/julian3833/jigsaw-toxic-comment-classification-challenge\", force=True)"
      ],
      "metadata": {
        "colab": {
          "base_uri": "https://localhost:8080/"
        },
        "id": "ER66kHEfL6V-",
        "outputId": "19c6ea22-e3ee-46a5-9134-236f7cac6fd0"
      },
      "execution_count": null,
      "outputs": [
        {
          "output_type": "stream",
          "name": "stdout",
          "text": [
            "Please provide your Kaggle credentials to download this dataset. Learn more: http://bit.ly/kaggle-creds\n",
            "Your Kaggle username: mahnaznmz\n",
            "Your Kaggle Key: ··········\n",
            "Downloading jigsaw-toxic-comment-classification-challenge.zip to ./jigsaw-toxic-comment-classification-challenge\n"
          ]
        },
        {
          "output_type": "stream",
          "name": "stderr",
          "text": [
            "100%|██████████| 53.4M/53.4M [00:00<00:00, 59.9MB/s]\n"
          ]
        },
        {
          "output_type": "stream",
          "name": "stdout",
          "text": [
            "\n"
          ]
        }
      ]
    },
    {
      "cell_type": "code",
      "source": [
        "import matplotlib.pyplot as plt\n",
        "import numpy as np\n",
        "import pandas as pd\n",
        "import seaborn as sns\n",
        "% matplotlib inline\n",
        "\n",
        "train_df = pd.read_csv(\"/content/jigsaw-toxic-comment-classification-challenge/train.csv\")\n",
        "test_df = pd.read_csv(\"/content/jigsaw-toxic-comment-classification-challenge/test.csv\")\n",
        "test_labels = pd.read_csv(\"/content/jigsaw-toxic-comment-classification-challenge/test_labels.csv\")\n",
        "train_df.head()"
      ],
      "metadata": {
        "colab": {
          "base_uri": "https://localhost:8080/",
          "height": 206
        },
        "id": "1ZQimasfMZzV",
        "outputId": "47fd7f26-d195-4b36-d345-217e609ea27b"
      },
      "execution_count": null,
      "outputs": [
        {
          "output_type": "execute_result",
          "data": {
            "text/plain": [
              "                 id                                       comment_text  toxic  \\\n",
              "0  0000997932d777bf  Explanation\\nWhy the edits made under my usern...      0   \n",
              "1  000103f0d9cfb60f  D'aww! He matches this background colour I'm s...      0   \n",
              "2  000113f07ec002fd  Hey man, I'm really not trying to edit war. It...      0   \n",
              "3  0001b41b1c6bb37e  \"\\nMore\\nI can't make any real suggestions on ...      0   \n",
              "4  0001d958c54c6e35  You, sir, are my hero. Any chance you remember...      0   \n",
              "\n",
              "   severe_toxic  obscene  threat  insult  identity_hate  \n",
              "0             0        0       0       0              0  \n",
              "1             0        0       0       0              0  \n",
              "2             0        0       0       0              0  \n",
              "3             0        0       0       0              0  \n",
              "4             0        0       0       0              0  "
            ],
            "text/html": [
              "\n",
              "  <div id=\"df-a6ffce55-43b4-4d60-b030-0c5b86d7191c\">\n",
              "    <div class=\"colab-df-container\">\n",
              "      <div>\n",
              "<style scoped>\n",
              "    .dataframe tbody tr th:only-of-type {\n",
              "        vertical-align: middle;\n",
              "    }\n",
              "\n",
              "    .dataframe tbody tr th {\n",
              "        vertical-align: top;\n",
              "    }\n",
              "\n",
              "    .dataframe thead th {\n",
              "        text-align: right;\n",
              "    }\n",
              "</style>\n",
              "<table border=\"1\" class=\"dataframe\">\n",
              "  <thead>\n",
              "    <tr style=\"text-align: right;\">\n",
              "      <th></th>\n",
              "      <th>id</th>\n",
              "      <th>comment_text</th>\n",
              "      <th>toxic</th>\n",
              "      <th>severe_toxic</th>\n",
              "      <th>obscene</th>\n",
              "      <th>threat</th>\n",
              "      <th>insult</th>\n",
              "      <th>identity_hate</th>\n",
              "    </tr>\n",
              "  </thead>\n",
              "  <tbody>\n",
              "    <tr>\n",
              "      <th>0</th>\n",
              "      <td>0000997932d777bf</td>\n",
              "      <td>Explanation\\nWhy the edits made under my usern...</td>\n",
              "      <td>0</td>\n",
              "      <td>0</td>\n",
              "      <td>0</td>\n",
              "      <td>0</td>\n",
              "      <td>0</td>\n",
              "      <td>0</td>\n",
              "    </tr>\n",
              "    <tr>\n",
              "      <th>1</th>\n",
              "      <td>000103f0d9cfb60f</td>\n",
              "      <td>D'aww! He matches this background colour I'm s...</td>\n",
              "      <td>0</td>\n",
              "      <td>0</td>\n",
              "      <td>0</td>\n",
              "      <td>0</td>\n",
              "      <td>0</td>\n",
              "      <td>0</td>\n",
              "    </tr>\n",
              "    <tr>\n",
              "      <th>2</th>\n",
              "      <td>000113f07ec002fd</td>\n",
              "      <td>Hey man, I'm really not trying to edit war. It...</td>\n",
              "      <td>0</td>\n",
              "      <td>0</td>\n",
              "      <td>0</td>\n",
              "      <td>0</td>\n",
              "      <td>0</td>\n",
              "      <td>0</td>\n",
              "    </tr>\n",
              "    <tr>\n",
              "      <th>3</th>\n",
              "      <td>0001b41b1c6bb37e</td>\n",
              "      <td>\"\\nMore\\nI can't make any real suggestions on ...</td>\n",
              "      <td>0</td>\n",
              "      <td>0</td>\n",
              "      <td>0</td>\n",
              "      <td>0</td>\n",
              "      <td>0</td>\n",
              "      <td>0</td>\n",
              "    </tr>\n",
              "    <tr>\n",
              "      <th>4</th>\n",
              "      <td>0001d958c54c6e35</td>\n",
              "      <td>You, sir, are my hero. Any chance you remember...</td>\n",
              "      <td>0</td>\n",
              "      <td>0</td>\n",
              "      <td>0</td>\n",
              "      <td>0</td>\n",
              "      <td>0</td>\n",
              "      <td>0</td>\n",
              "    </tr>\n",
              "  </tbody>\n",
              "</table>\n",
              "</div>\n",
              "      <button class=\"colab-df-convert\" onclick=\"convertToInteractive('df-a6ffce55-43b4-4d60-b030-0c5b86d7191c')\"\n",
              "              title=\"Convert this dataframe to an interactive table.\"\n",
              "              style=\"display:none;\">\n",
              "        \n",
              "  <svg xmlns=\"http://www.w3.org/2000/svg\" height=\"24px\"viewBox=\"0 0 24 24\"\n",
              "       width=\"24px\">\n",
              "    <path d=\"M0 0h24v24H0V0z\" fill=\"none\"/>\n",
              "    <path d=\"M18.56 5.44l.94 2.06.94-2.06 2.06-.94-2.06-.94-.94-2.06-.94 2.06-2.06.94zm-11 1L8.5 8.5l.94-2.06 2.06-.94-2.06-.94L8.5 2.5l-.94 2.06-2.06.94zm10 10l.94 2.06.94-2.06 2.06-.94-2.06-.94-.94-2.06-.94 2.06-2.06.94z\"/><path d=\"M17.41 7.96l-1.37-1.37c-.4-.4-.92-.59-1.43-.59-.52 0-1.04.2-1.43.59L10.3 9.45l-7.72 7.72c-.78.78-.78 2.05 0 2.83L4 21.41c.39.39.9.59 1.41.59.51 0 1.02-.2 1.41-.59l7.78-7.78 2.81-2.81c.8-.78.8-2.07 0-2.86zM5.41 20L4 18.59l7.72-7.72 1.47 1.35L5.41 20z\"/>\n",
              "  </svg>\n",
              "      </button>\n",
              "      \n",
              "  <style>\n",
              "    .colab-df-container {\n",
              "      display:flex;\n",
              "      flex-wrap:wrap;\n",
              "      gap: 12px;\n",
              "    }\n",
              "\n",
              "    .colab-df-convert {\n",
              "      background-color: #E8F0FE;\n",
              "      border: none;\n",
              "      border-radius: 50%;\n",
              "      cursor: pointer;\n",
              "      display: none;\n",
              "      fill: #1967D2;\n",
              "      height: 32px;\n",
              "      padding: 0 0 0 0;\n",
              "      width: 32px;\n",
              "    }\n",
              "\n",
              "    .colab-df-convert:hover {\n",
              "      background-color: #E2EBFA;\n",
              "      box-shadow: 0px 1px 2px rgba(60, 64, 67, 0.3), 0px 1px 3px 1px rgba(60, 64, 67, 0.15);\n",
              "      fill: #174EA6;\n",
              "    }\n",
              "\n",
              "    [theme=dark] .colab-df-convert {\n",
              "      background-color: #3B4455;\n",
              "      fill: #D2E3FC;\n",
              "    }\n",
              "\n",
              "    [theme=dark] .colab-df-convert:hover {\n",
              "      background-color: #434B5C;\n",
              "      box-shadow: 0px 1px 3px 1px rgba(0, 0, 0, 0.15);\n",
              "      filter: drop-shadow(0px 1px 2px rgba(0, 0, 0, 0.3));\n",
              "      fill: #FFFFFF;\n",
              "    }\n",
              "  </style>\n",
              "\n",
              "      <script>\n",
              "        const buttonEl =\n",
              "          document.querySelector('#df-a6ffce55-43b4-4d60-b030-0c5b86d7191c button.colab-df-convert');\n",
              "        buttonEl.style.display =\n",
              "          google.colab.kernel.accessAllowed ? 'block' : 'none';\n",
              "\n",
              "        async function convertToInteractive(key) {\n",
              "          const element = document.querySelector('#df-a6ffce55-43b4-4d60-b030-0c5b86d7191c');\n",
              "          const dataTable =\n",
              "            await google.colab.kernel.invokeFunction('convertToInteractive',\n",
              "                                                     [key], {});\n",
              "          if (!dataTable) return;\n",
              "\n",
              "          const docLinkHtml = 'Like what you see? Visit the ' +\n",
              "            '<a target=\"_blank\" href=https://colab.research.google.com/notebooks/data_table.ipynb>data table notebook</a>'\n",
              "            + ' to learn more about interactive tables.';\n",
              "          element.innerHTML = '';\n",
              "          dataTable['output_type'] = 'display_data';\n",
              "          await google.colab.output.renderOutput(dataTable, element);\n",
              "          const docLink = document.createElement('div');\n",
              "          docLink.innerHTML = docLinkHtml;\n",
              "          element.appendChild(docLink);\n",
              "        }\n",
              "      </script>\n",
              "    </div>\n",
              "  </div>\n",
              "  "
            ]
          },
          "metadata": {},
          "execution_count": 4
        }
      ]
    },
    {
      "cell_type": "markdown",
      "source": [
        "Let's take a look at some statistics from the data:"
      ],
      "metadata": {
        "id": "wu-SbcRpPJjK"
      }
    },
    {
      "cell_type": "code",
      "source": [
        "print(\"Train Size:\\t\", len(train_df))\n",
        "print(\"Test Size:\\t\", len(test_df))\n",
        "#Looking at the distribution of traget variables\n",
        "display(train_df.iloc[:,2:].apply(pd.Series.value_counts, args = (True, True, False, None, False))) # value_counts args: [normalize, sort, ascending, bins, dropna]\n"
      ],
      "metadata": {
        "colab": {
          "base_uri": "https://localhost:8080/",
          "height": 147
        },
        "id": "NF-Z5XjFPNhO",
        "outputId": "cad0eb05-a64b-410a-9241-e160800a6a50"
      },
      "execution_count": null,
      "outputs": [
        {
          "output_type": "stream",
          "name": "stdout",
          "text": [
            "Train Size:\t 159571\n",
            "Test Size:\t 153164\n"
          ]
        },
        {
          "output_type": "display_data",
          "data": {
            "text/plain": [
              "      toxic  severe_toxic   obscene    threat    insult  identity_hate\n",
              "0  0.904156      0.990004  0.947052  0.997004  0.950636       0.991195\n",
              "1  0.095844      0.009996  0.052948  0.002996  0.049364       0.008805"
            ],
            "text/html": [
              "\n",
              "  <div id=\"df-e3245b0c-30e2-412d-b3e5-fed191c0659f\">\n",
              "    <div class=\"colab-df-container\">\n",
              "      <div>\n",
              "<style scoped>\n",
              "    .dataframe tbody tr th:only-of-type {\n",
              "        vertical-align: middle;\n",
              "    }\n",
              "\n",
              "    .dataframe tbody tr th {\n",
              "        vertical-align: top;\n",
              "    }\n",
              "\n",
              "    .dataframe thead th {\n",
              "        text-align: right;\n",
              "    }\n",
              "</style>\n",
              "<table border=\"1\" class=\"dataframe\">\n",
              "  <thead>\n",
              "    <tr style=\"text-align: right;\">\n",
              "      <th></th>\n",
              "      <th>toxic</th>\n",
              "      <th>severe_toxic</th>\n",
              "      <th>obscene</th>\n",
              "      <th>threat</th>\n",
              "      <th>insult</th>\n",
              "      <th>identity_hate</th>\n",
              "    </tr>\n",
              "  </thead>\n",
              "  <tbody>\n",
              "    <tr>\n",
              "      <th>0</th>\n",
              "      <td>0.904156</td>\n",
              "      <td>0.990004</td>\n",
              "      <td>0.947052</td>\n",
              "      <td>0.997004</td>\n",
              "      <td>0.950636</td>\n",
              "      <td>0.991195</td>\n",
              "    </tr>\n",
              "    <tr>\n",
              "      <th>1</th>\n",
              "      <td>0.095844</td>\n",
              "      <td>0.009996</td>\n",
              "      <td>0.052948</td>\n",
              "      <td>0.002996</td>\n",
              "      <td>0.049364</td>\n",
              "      <td>0.008805</td>\n",
              "    </tr>\n",
              "  </tbody>\n",
              "</table>\n",
              "</div>\n",
              "      <button class=\"colab-df-convert\" onclick=\"convertToInteractive('df-e3245b0c-30e2-412d-b3e5-fed191c0659f')\"\n",
              "              title=\"Convert this dataframe to an interactive table.\"\n",
              "              style=\"display:none;\">\n",
              "        \n",
              "  <svg xmlns=\"http://www.w3.org/2000/svg\" height=\"24px\"viewBox=\"0 0 24 24\"\n",
              "       width=\"24px\">\n",
              "    <path d=\"M0 0h24v24H0V0z\" fill=\"none\"/>\n",
              "    <path d=\"M18.56 5.44l.94 2.06.94-2.06 2.06-.94-2.06-.94-.94-2.06-.94 2.06-2.06.94zm-11 1L8.5 8.5l.94-2.06 2.06-.94-2.06-.94L8.5 2.5l-.94 2.06-2.06.94zm10 10l.94 2.06.94-2.06 2.06-.94-2.06-.94-.94-2.06-.94 2.06-2.06.94z\"/><path d=\"M17.41 7.96l-1.37-1.37c-.4-.4-.92-.59-1.43-.59-.52 0-1.04.2-1.43.59L10.3 9.45l-7.72 7.72c-.78.78-.78 2.05 0 2.83L4 21.41c.39.39.9.59 1.41.59.51 0 1.02-.2 1.41-.59l7.78-7.78 2.81-2.81c.8-.78.8-2.07 0-2.86zM5.41 20L4 18.59l7.72-7.72 1.47 1.35L5.41 20z\"/>\n",
              "  </svg>\n",
              "      </button>\n",
              "      \n",
              "  <style>\n",
              "    .colab-df-container {\n",
              "      display:flex;\n",
              "      flex-wrap:wrap;\n",
              "      gap: 12px;\n",
              "    }\n",
              "\n",
              "    .colab-df-convert {\n",
              "      background-color: #E8F0FE;\n",
              "      border: none;\n",
              "      border-radius: 50%;\n",
              "      cursor: pointer;\n",
              "      display: none;\n",
              "      fill: #1967D2;\n",
              "      height: 32px;\n",
              "      padding: 0 0 0 0;\n",
              "      width: 32px;\n",
              "    }\n",
              "\n",
              "    .colab-df-convert:hover {\n",
              "      background-color: #E2EBFA;\n",
              "      box-shadow: 0px 1px 2px rgba(60, 64, 67, 0.3), 0px 1px 3px 1px rgba(60, 64, 67, 0.15);\n",
              "      fill: #174EA6;\n",
              "    }\n",
              "\n",
              "    [theme=dark] .colab-df-convert {\n",
              "      background-color: #3B4455;\n",
              "      fill: #D2E3FC;\n",
              "    }\n",
              "\n",
              "    [theme=dark] .colab-df-convert:hover {\n",
              "      background-color: #434B5C;\n",
              "      box-shadow: 0px 1px 3px 1px rgba(0, 0, 0, 0.15);\n",
              "      filter: drop-shadow(0px 1px 2px rgba(0, 0, 0, 0.3));\n",
              "      fill: #FFFFFF;\n",
              "    }\n",
              "  </style>\n",
              "\n",
              "      <script>\n",
              "        const buttonEl =\n",
              "          document.querySelector('#df-e3245b0c-30e2-412d-b3e5-fed191c0659f button.colab-df-convert');\n",
              "        buttonEl.style.display =\n",
              "          google.colab.kernel.accessAllowed ? 'block' : 'none';\n",
              "\n",
              "        async function convertToInteractive(key) {\n",
              "          const element = document.querySelector('#df-e3245b0c-30e2-412d-b3e5-fed191c0659f');\n",
              "          const dataTable =\n",
              "            await google.colab.kernel.invokeFunction('convertToInteractive',\n",
              "                                                     [key], {});\n",
              "          if (!dataTable) return;\n",
              "\n",
              "          const docLinkHtml = 'Like what you see? Visit the ' +\n",
              "            '<a target=\"_blank\" href=https://colab.research.google.com/notebooks/data_table.ipynb>data table notebook</a>'\n",
              "            + ' to learn more about interactive tables.';\n",
              "          element.innerHTML = '';\n",
              "          dataTable['output_type'] = 'display_data';\n",
              "          await google.colab.output.renderOutput(dataTable, element);\n",
              "          const docLink = document.createElement('div');\n",
              "          docLink.innerHTML = docLinkHtml;\n",
              "          element.appendChild(docLink);\n",
              "        }\n",
              "      </script>\n",
              "    </div>\n",
              "  </div>\n",
              "  "
            ]
          },
          "metadata": {}
        }
      ]
    },
    {
      "cell_type": "markdown",
      "source": [
        "As we can see we have a class imbalance in almost all the training target variables.\n",
        "\n",
        "Here we also have multiple independent variables.\n",
        "\n",
        "Let's split train dataset into training and validation sets:"
      ],
      "metadata": {
        "id": "NTdlOh6RQ1KN"
      }
    },
    {
      "cell_type": "code",
      "source": [
        "from sklearn.model_selection import train_test_split\n",
        "#Dependent Variable\n",
        "X = train_df.comment_text\n",
        "#Independent Variables\n",
        "y = train_df[[\"toxic\",\"severe_toxic\",\"obscene\",\"threat\",\"insult\",\"identity_hate\"]]\n",
        "#Splitting for checking the performance of the models on a holdout dataset\n",
        "X_train, X_val, y_train, y_val = train_test_split(X, y, shuffle = True, random_state = 123)"
      ],
      "metadata": {
        "id": "fcblXrY5RE1O"
      },
      "execution_count": null,
      "outputs": []
    },
    {
      "cell_type": "markdown",
      "source": [
        "## Preprocessing\n",
        "Preprocessing is one of the vital steps in NLP like any other ML task. In NLP, it helps to get rid of unhelpful parts of the data, or noise, by converting all characters to lowercase, removing punctuation marks, and removing stop words and typos. In this case, `punctuations` and `numbers` are removed along with `stopwords` like in, the, of so that these can be removed from texts as these words don't help in determining the classes (Whether a sentence is toxic or not)\n",
        "\n",
        "> In this exercise we are also using NLTK which is a leading platform for building Python programs to work with human language data. To ream more check [here](https://www.nltk.org/). \n",
        "\n",
        "\n",
        "Let's create a preprocessing function we can then pass it to our CountVectorizer model."
      ],
      "metadata": {
        "id": "WlvC_J0NLLfH"
      }
    },
    {
      "cell_type": "code",
      "source": [
        "from pandas.core.arrays.numeric import T\n",
        "import nltk\n",
        "import string\n",
        "nltk.download('stopwords') # Download the stop-words\n",
        "from nltk.corpus import stopwords\n",
        "\n",
        "en_stopwords = set(stopwords.words('english')) # Getting stop-words for english\n",
        "print(\"EN Stopwords:\", en_stopwords)\n",
        "\n",
        "#Function for basic cleaning/preprocessing texts\n",
        "def clean(doc, stop_words=en_stopwords):\n",
        "    # Removal of punctuation marks (.,/\\][{} etc) and numbers\n",
        "    doc = \"\".join([char for char in doc if char not in string.punctuation and not char.isdigit()])\n",
        "    # Removal of stopwords\n",
        "    doc = \" \".join([token for token in doc.split() if token not in stop_words])\n",
        "    return doc.lower()"
      ],
      "metadata": {
        "colab": {
          "base_uri": "https://localhost:8080/"
        },
        "id": "MV9PHT3rNGyC",
        "outputId": "2dc66112-3e71-49a5-b676-b0398357be3d"
      },
      "execution_count": null,
      "outputs": [
        {
          "output_type": "stream",
          "name": "stdout",
          "text": [
            "[nltk_data] Downloading package stopwords to /root/nltk_data...\n",
            "[nltk_data]   Unzipping corpora/stopwords.zip.\n",
            "EN Stopwords: {'is', 'each', 'mightn', 'having', 'here', 'not', 'such', 'itself', 'his', 'under', 'own', \"should've\", 'other', 'my', 'those', 'more', 'shouldn', 'out', 'again', 'who', 'between', \"shan't\", 'isn', \"she's\", 'wouldn', 'shan', 'had', 'when', 'll', \"mustn't\", 'them', 'what', 'aren', 'don', 'me', \"mightn't\", 'she', 'doing', 'does', 'after', 'down', 'wasn', 't', 'which', 'where', 'we', 'himself', 'haven', 'too', 're', 'at', 'but', 'into', 'and', 'if', 'he', \"weren't\", 'd', 'nor', 'him', 'on', 'all', 'will', 'mustn', 'you', 'didn', \"hasn't\", \"shouldn't\", 'won', 'these', 's', 'just', 'yourselves', 'themselves', 'only', 'some', 'few', 'up', 'y', \"it's\", \"couldn't\", 'being', 'ourselves', 'yourself', 'the', 've', 'her', \"needn't\", 'whom', 'now', 'it', \"wouldn't\", 'was', 'while', \"haven't\", 'because', 'in', 'ours', \"isn't\", 'been', 'your', 'most', 'theirs', \"you'll\", 'this', 'or', 'i', 'our', 'below', 'off', 'myself', 'they', 'through', 'once', 'there', \"you're\", 'doesn', 'were', 'has', 'from', 'their', 'm', 'before', 'are', 'over', 'be', 'couldn', 'against', 'how', 'herself', 'can', 'to', 'hasn', 'why', \"that'll\", 'any', \"hadn't\", 'both', 'o', 'its', 'until', \"won't\", 'an', 'ma', \"you'd\", \"you've\", 'weren', 'did', 'as', 'ain', 'needn', 'for', 'during', \"don't\", 'that', 'a', 'further', 'than', 'same', 'am', 'of', 'then', \"didn't\", 'very', 'hers', 'with', 'have', 'above', 'do', \"doesn't\", \"wasn't\", 'by', \"aren't\", 'hadn', 'so', 'yours', 'should', 'no', 'about'}\n"
          ]
        }
      ]
    },
    {
      "cell_type": "markdown",
      "source": [
        "## Bag Of Words\n",
        "Creating a bag of words model with a maximum of 5000 most-frequent words (as including all the words will make the dataset sparse and will only add noise).Also, Clean the dataset when creating the dataset using bag of words"
      ],
      "metadata": {
        "id": "w-nPFkl0STvy"
      }
    },
    {
      "cell_type": "code",
      "source": [
        "from sklearn.feature_extraction.text import CountVectorizer\n",
        "\n",
        "vectorizer = CountVectorizer(max_features= 5000, preprocessor=clean)\n",
        "X_train_dtm = vectorizer.fit_transform(X_train)\n",
        "X_val_dtm = vectorizer.transform(X_val)\n",
        "\n",
        "print(X_train_dtm.shape, X_val_dtm.shape)"
      ],
      "metadata": {
        "colab": {
          "base_uri": "https://localhost:8080/"
        },
        "id": "BQcEaygyNhfH",
        "outputId": "8f5238c3-24cf-40f5-f45c-2fcdec9655c4"
      },
      "execution_count": null,
      "outputs": [
        {
          "output_type": "stream",
          "name": "stdout",
          "text": [
            "(119678, 5000) (39893, 5000)\n"
          ]
        }
      ]
    },
    {
      "cell_type": "markdown",
      "source": [
        "As we can see the same number of rows in train and validation datasets are 5000 columns which are essentially number of occurences of the 5000 most common words in each sentence.\n",
        "Let's look at the 5 samples of bag of words vector:"
      ],
      "metadata": {
        "id": "cLHRoBGiShBB"
      }
    },
    {
      "cell_type": "code",
      "source": [
        "pd.DataFrame(X_train_dtm.A[:5], columns = vectorizer.get_feature_names())"
      ],
      "metadata": {
        "colab": {
          "base_uri": "https://localhost:8080/",
          "height": 290
        },
        "id": "aOtgOMhCNp-Q",
        "outputId": "8519650d-a9ce-42bb-895d-1e306f5b104f"
      },
      "execution_count": null,
      "outputs": [
        {
          "output_type": "stream",
          "name": "stderr",
          "text": [
            "/usr/local/lib/python3.7/dist-packages/sklearn/utils/deprecation.py:87: FutureWarning: Function get_feature_names is deprecated; get_feature_names is deprecated in 1.0 and will be removed in 1.2. Please use get_feature_names_out instead.\n",
            "  warnings.warn(msg, category=FutureWarning)\n"
          ]
        },
        {
          "output_type": "execute_result",
          "data": {
            "text/plain": [
              "   abc  abide  ability  able  abortion  about  absence  absolute  absolutely  \\\n",
              "0    0      0        0     0         0      0        0         0           0   \n",
              "1    0      0        0     0         0      0        0         0           0   \n",
              "2    0      0        0     0         0      0        0         0           0   \n",
              "3    0      0        0     0         0      0        0         0           0   \n",
              "4    0      0        0     0         0      0        0         0           0   \n",
              "\n",
              "   absurd  ...  yourselfgo  youth  youtube  youve  ytmndin  yugoslavia  \\\n",
              "0       0  ...           0      0        0      0        0           0   \n",
              "1       0  ...           0      0        0      0        0           0   \n",
              "2       0  ...           0      0        0      0        0           0   \n",
              "3       0  ...           0      0        0      0        0           0   \n",
              "4       0  ...           0      0        0      0        0           0   \n",
              "\n",
              "   zealand  zero  zionist  zone  \n",
              "0        0     0        0     0  \n",
              "1        0     0        0     0  \n",
              "2        0     0        0     0  \n",
              "3        0     0        0     0  \n",
              "4        0     0        0     0  \n",
              "\n",
              "[5 rows x 5000 columns]"
            ],
            "text/html": [
              "\n",
              "  <div id=\"df-00fd1a2a-571c-4ec7-87e3-5951b8382ea3\">\n",
              "    <div class=\"colab-df-container\">\n",
              "      <div>\n",
              "<style scoped>\n",
              "    .dataframe tbody tr th:only-of-type {\n",
              "        vertical-align: middle;\n",
              "    }\n",
              "\n",
              "    .dataframe tbody tr th {\n",
              "        vertical-align: top;\n",
              "    }\n",
              "\n",
              "    .dataframe thead th {\n",
              "        text-align: right;\n",
              "    }\n",
              "</style>\n",
              "<table border=\"1\" class=\"dataframe\">\n",
              "  <thead>\n",
              "    <tr style=\"text-align: right;\">\n",
              "      <th></th>\n",
              "      <th>abc</th>\n",
              "      <th>abide</th>\n",
              "      <th>ability</th>\n",
              "      <th>able</th>\n",
              "      <th>abortion</th>\n",
              "      <th>about</th>\n",
              "      <th>absence</th>\n",
              "      <th>absolute</th>\n",
              "      <th>absolutely</th>\n",
              "      <th>absurd</th>\n",
              "      <th>...</th>\n",
              "      <th>yourselfgo</th>\n",
              "      <th>youth</th>\n",
              "      <th>youtube</th>\n",
              "      <th>youve</th>\n",
              "      <th>ytmndin</th>\n",
              "      <th>yugoslavia</th>\n",
              "      <th>zealand</th>\n",
              "      <th>zero</th>\n",
              "      <th>zionist</th>\n",
              "      <th>zone</th>\n",
              "    </tr>\n",
              "  </thead>\n",
              "  <tbody>\n",
              "    <tr>\n",
              "      <th>0</th>\n",
              "      <td>0</td>\n",
              "      <td>0</td>\n",
              "      <td>0</td>\n",
              "      <td>0</td>\n",
              "      <td>0</td>\n",
              "      <td>0</td>\n",
              "      <td>0</td>\n",
              "      <td>0</td>\n",
              "      <td>0</td>\n",
              "      <td>0</td>\n",
              "      <td>...</td>\n",
              "      <td>0</td>\n",
              "      <td>0</td>\n",
              "      <td>0</td>\n",
              "      <td>0</td>\n",
              "      <td>0</td>\n",
              "      <td>0</td>\n",
              "      <td>0</td>\n",
              "      <td>0</td>\n",
              "      <td>0</td>\n",
              "      <td>0</td>\n",
              "    </tr>\n",
              "    <tr>\n",
              "      <th>1</th>\n",
              "      <td>0</td>\n",
              "      <td>0</td>\n",
              "      <td>0</td>\n",
              "      <td>0</td>\n",
              "      <td>0</td>\n",
              "      <td>0</td>\n",
              "      <td>0</td>\n",
              "      <td>0</td>\n",
              "      <td>0</td>\n",
              "      <td>0</td>\n",
              "      <td>...</td>\n",
              "      <td>0</td>\n",
              "      <td>0</td>\n",
              "      <td>0</td>\n",
              "      <td>0</td>\n",
              "      <td>0</td>\n",
              "      <td>0</td>\n",
              "      <td>0</td>\n",
              "      <td>0</td>\n",
              "      <td>0</td>\n",
              "      <td>0</td>\n",
              "    </tr>\n",
              "    <tr>\n",
              "      <th>2</th>\n",
              "      <td>0</td>\n",
              "      <td>0</td>\n",
              "      <td>0</td>\n",
              "      <td>0</td>\n",
              "      <td>0</td>\n",
              "      <td>0</td>\n",
              "      <td>0</td>\n",
              "      <td>0</td>\n",
              "      <td>0</td>\n",
              "      <td>0</td>\n",
              "      <td>...</td>\n",
              "      <td>0</td>\n",
              "      <td>0</td>\n",
              "      <td>0</td>\n",
              "      <td>0</td>\n",
              "      <td>0</td>\n",
              "      <td>0</td>\n",
              "      <td>0</td>\n",
              "      <td>0</td>\n",
              "      <td>0</td>\n",
              "      <td>0</td>\n",
              "    </tr>\n",
              "    <tr>\n",
              "      <th>3</th>\n",
              "      <td>0</td>\n",
              "      <td>0</td>\n",
              "      <td>0</td>\n",
              "      <td>0</td>\n",
              "      <td>0</td>\n",
              "      <td>0</td>\n",
              "      <td>0</td>\n",
              "      <td>0</td>\n",
              "      <td>0</td>\n",
              "      <td>0</td>\n",
              "      <td>...</td>\n",
              "      <td>0</td>\n",
              "      <td>0</td>\n",
              "      <td>0</td>\n",
              "      <td>0</td>\n",
              "      <td>0</td>\n",
              "      <td>0</td>\n",
              "      <td>0</td>\n",
              "      <td>0</td>\n",
              "      <td>0</td>\n",
              "      <td>0</td>\n",
              "    </tr>\n",
              "    <tr>\n",
              "      <th>4</th>\n",
              "      <td>0</td>\n",
              "      <td>0</td>\n",
              "      <td>0</td>\n",
              "      <td>0</td>\n",
              "      <td>0</td>\n",
              "      <td>0</td>\n",
              "      <td>0</td>\n",
              "      <td>0</td>\n",
              "      <td>0</td>\n",
              "      <td>0</td>\n",
              "      <td>...</td>\n",
              "      <td>0</td>\n",
              "      <td>0</td>\n",
              "      <td>0</td>\n",
              "      <td>0</td>\n",
              "      <td>0</td>\n",
              "      <td>0</td>\n",
              "      <td>0</td>\n",
              "      <td>0</td>\n",
              "      <td>0</td>\n",
              "      <td>0</td>\n",
              "    </tr>\n",
              "  </tbody>\n",
              "</table>\n",
              "<p>5 rows × 5000 columns</p>\n",
              "</div>\n",
              "      <button class=\"colab-df-convert\" onclick=\"convertToInteractive('df-00fd1a2a-571c-4ec7-87e3-5951b8382ea3')\"\n",
              "              title=\"Convert this dataframe to an interactive table.\"\n",
              "              style=\"display:none;\">\n",
              "        \n",
              "  <svg xmlns=\"http://www.w3.org/2000/svg\" height=\"24px\"viewBox=\"0 0 24 24\"\n",
              "       width=\"24px\">\n",
              "    <path d=\"M0 0h24v24H0V0z\" fill=\"none\"/>\n",
              "    <path d=\"M18.56 5.44l.94 2.06.94-2.06 2.06-.94-2.06-.94-.94-2.06-.94 2.06-2.06.94zm-11 1L8.5 8.5l.94-2.06 2.06-.94-2.06-.94L8.5 2.5l-.94 2.06-2.06.94zm10 10l.94 2.06.94-2.06 2.06-.94-2.06-.94-.94-2.06-.94 2.06-2.06.94z\"/><path d=\"M17.41 7.96l-1.37-1.37c-.4-.4-.92-.59-1.43-.59-.52 0-1.04.2-1.43.59L10.3 9.45l-7.72 7.72c-.78.78-.78 2.05 0 2.83L4 21.41c.39.39.9.59 1.41.59.51 0 1.02-.2 1.41-.59l7.78-7.78 2.81-2.81c.8-.78.8-2.07 0-2.86zM5.41 20L4 18.59l7.72-7.72 1.47 1.35L5.41 20z\"/>\n",
              "  </svg>\n",
              "      </button>\n",
              "      \n",
              "  <style>\n",
              "    .colab-df-container {\n",
              "      display:flex;\n",
              "      flex-wrap:wrap;\n",
              "      gap: 12px;\n",
              "    }\n",
              "\n",
              "    .colab-df-convert {\n",
              "      background-color: #E8F0FE;\n",
              "      border: none;\n",
              "      border-radius: 50%;\n",
              "      cursor: pointer;\n",
              "      display: none;\n",
              "      fill: #1967D2;\n",
              "      height: 32px;\n",
              "      padding: 0 0 0 0;\n",
              "      width: 32px;\n",
              "    }\n",
              "\n",
              "    .colab-df-convert:hover {\n",
              "      background-color: #E2EBFA;\n",
              "      box-shadow: 0px 1px 2px rgba(60, 64, 67, 0.3), 0px 1px 3px 1px rgba(60, 64, 67, 0.15);\n",
              "      fill: #174EA6;\n",
              "    }\n",
              "\n",
              "    [theme=dark] .colab-df-convert {\n",
              "      background-color: #3B4455;\n",
              "      fill: #D2E3FC;\n",
              "    }\n",
              "\n",
              "    [theme=dark] .colab-df-convert:hover {\n",
              "      background-color: #434B5C;\n",
              "      box-shadow: 0px 1px 3px 1px rgba(0, 0, 0, 0.15);\n",
              "      filter: drop-shadow(0px 1px 2px rgba(0, 0, 0, 0.3));\n",
              "      fill: #FFFFFF;\n",
              "    }\n",
              "  </style>\n",
              "\n",
              "      <script>\n",
              "        const buttonEl =\n",
              "          document.querySelector('#df-00fd1a2a-571c-4ec7-87e3-5951b8382ea3 button.colab-df-convert');\n",
              "        buttonEl.style.display =\n",
              "          google.colab.kernel.accessAllowed ? 'block' : 'none';\n",
              "\n",
              "        async function convertToInteractive(key) {\n",
              "          const element = document.querySelector('#df-00fd1a2a-571c-4ec7-87e3-5951b8382ea3');\n",
              "          const dataTable =\n",
              "            await google.colab.kernel.invokeFunction('convertToInteractive',\n",
              "                                                     [key], {});\n",
              "          if (!dataTable) return;\n",
              "\n",
              "          const docLinkHtml = 'Like what you see? Visit the ' +\n",
              "            '<a target=\"_blank\" href=https://colab.research.google.com/notebooks/data_table.ipynb>data table notebook</a>'\n",
              "            + ' to learn more about interactive tables.';\n",
              "          element.innerHTML = '';\n",
              "          dataTable['output_type'] = 'display_data';\n",
              "          await google.colab.output.renderOutput(dataTable, element);\n",
              "          const docLink = document.createElement('div');\n",
              "          docLink.innerHTML = docLinkHtml;\n",
              "          element.appendChild(docLink);\n",
              "        }\n",
              "      </script>\n",
              "    </div>\n",
              "  </div>\n",
              "  "
            ]
          },
          "metadata": {},
          "execution_count": 9
        }
      ]
    },
    {
      "cell_type": "markdown",
      "source": [
        "As we can see, in this vector whenever the word is present in the comment it will be >1 otherwise 0 (showing the number of occurance).\n",
        "\n",
        "The Bag of words is pretty much sparse (we can further reduce the max_features if required). This will be the input for a Machine Learning Classifier."
      ],
      "metadata": {
        "id": "550XjCMVTBjD"
      }
    },
    {
      "cell_type": "markdown",
      "source": [
        "## Multi-Output Classification\n",
        "Since we need to classify each sentence as toxic or not, severe_toxic or not, obscene or not, threat or not, insult or not, and identity_hate or not, we need to classify the sentence against 6 output variables (This is called Multi-Label Classification which is different from multi-class classification where a target variable has more than 2 options e.g. a sentence can be positive, negative and neutral)\n",
        "\n",
        "We will be using MultiOutputClassifier from sklearn which as mentioned earlier is a wrapper. This strategy consists of fitting one classifier per target.\n",
        "\n",
        "### Logistic (Logit) Model\n",
        "The logistic model (or logit model) is used to model the probability of a certain class or event existing such as pass/fail, win/lose, alive/dead or healthy/sick. This can be extended to model several classes of events such as determining whether an image contains a cat, dog, lion, etc. Each object being detected in the image would be assigned a probability between 0 and 1, with a sum of one.\n",
        "\n",
        "<img src=\"https://www.saedsayad.com/images/LogReg_1.png\">"
      ],
      "metadata": {
        "id": "T1u7cAtxTZsC"
      }
    },
    {
      "cell_type": "code",
      "source": [
        "from sklearn.multioutput import MultiOutputClassifier\n",
        "from sklearn.naive_bayes import MultinomialNB\n",
        "from sklearn.linear_model import LogisticRegression\n",
        "#Initializing and fitting models on Training Data\n",
        "#Naive Bayes Model\n",
        "nb = MultiOutputClassifier(MultinomialNB()).fit(X_train_dtm, y_train)\n",
        "#Logistic Regression Model (As we have unbalanced dataset, we use class_weight which will use inverse\n",
        "#of counts of that class. It penalizes mistakes in samples of class[i] with class_weight[i] instead of 1)\n",
        "lr = MultiOutputClassifier(LogisticRegression(class_weight='balanced', max_iter=3000)) \\\n",
        "                    .fit(X_train_dtm, y_train)"
      ],
      "metadata": {
        "id": "1u6KT8pDSzJ2"
      },
      "execution_count": null,
      "outputs": []
    },
    {
      "cell_type": "markdown",
      "source": [
        "## Measuring Performance\n",
        "### ROC - AUC\n",
        "ROC (Receiver Operating Characteristic) Curve tells us about how good the model can distinguish between two things (e.g If a comment is toxic or not). Better models can accurately distinguish between the two. Whereas, a poor model will have difficulties in distinguishing between the two.\n",
        "\n",
        "Let's see how does the ROC curves look like for the `toxic` label for both of our trained models:"
      ],
      "metadata": {
        "id": "Xctmfgh-UYK1"
      }
    },
    {
      "cell_type": "code",
      "source": [
        "from sklearn.metrics import roc_curve\n",
        "\n",
        "# A helper function for plotting ROC curve for a model and a given label\n",
        "def plot_roc_auc(model, model_name, label_name, ax):\n",
        "  label_id = list(y_val.columns).index(label_name)\n",
        "  y_vals = y_val[label_name].to_numpy()\n",
        "  y_pred_proba = model.predict_proba(X_val_dtm)[label_id][:,1]\n",
        "  fpr, tpr, thresholds = roc_curve(y_vals, y_pred_proba)\n",
        "  # Plot ROC\n",
        "  ax.plot([0,1],[0,1],'k--')\n",
        "  ax.plot(fpr,tpr, label=model_name)\n",
        "  ax.set_xlabel('fpr')\n",
        "  ax.set_ylabel('tpr')\n",
        "  ax.set_title(f'{model_name} ROC curve for `{label_name}` Label')\n",
        "\n",
        "fig, ax = plt.subplots(1, 2, figsize=(20,6))\n",
        "plot_roc_auc(nb, 'Naive Bayes', 'toxic', ax[0])\n",
        "plot_roc_auc(lr, 'Logistic Regression', 'toxic', ax[1])"
      ],
      "metadata": {
        "colab": {
          "base_uri": "https://localhost:8080/",
          "height": 405
        },
        "id": "A6Yoj2lgB96s",
        "outputId": "912a9dc2-28ae-4a7d-9cdc-32209be10a2c"
      },
      "execution_count": null,
      "outputs": [
        {
          "output_type": "display_data",
          "data": {
            "text/plain": [
              "<Figure size 1440x432 with 2 Axes>"
            ],
            "image/png": "[encoded data removed]"
          },
          "metadata": {
            "needs_background": "light"
          }
        }
      ]
    },
    {
      "cell_type": "markdown",
      "source": [
        "\n",
        "Let's compare the mean ROC-AUC across both models we have trained as the aggregated measurement of their performances. We will be using the predict_proba function of models instead of predict which gives us the probability scores instead of predicted value based on a threshold of 0.5, as it is used by the roc_auc_measure.\n",
        "\n",
        "Let's write a function for calculating the roc_auc:"
      ],
      "metadata": {
        "id": "ecDS8JedHDVp"
      }
    },
    {
      "cell_type": "code",
      "source": [
        "from sklearn.metrics import roc_auc_score\n",
        "#Function for calculating roc auc with given actual binary values across target variables and the probability score made by the model\n",
        "def calculate_roc_auc(y_test, y_pred):\n",
        "    aucs = []\n",
        "    #Calculate the ROC-AUC for each of the target column\n",
        "    for col in range(y_test.shape[1]):\n",
        "        aucs.append(roc_auc_score(y_test[:,col],y_pred[:,col]))\n",
        "    return aucs"
      ],
      "metadata": {
        "id": "lmSDIfADUI3z"
      },
      "execution_count": null,
      "outputs": []
    },
    {
      "cell_type": "markdown",
      "source": [
        "Given the performance metrics let’s run the models on the validation dataset"
      ],
      "metadata": {
        "id": "L2L-kQM6U7VI"
      }
    },
    {
      "cell_type": "code",
      "source": [
        "from statistics import mean \n",
        "#Creating an empty list of results\n",
        "results = []\n",
        "#Making predictions from all the trained models and measure performance for each\n",
        "for model in [nb,lr]:\n",
        "    #Extracting name of the model\n",
        "    est = type(model.estimator).__name__\n",
        "    #Actual output variables\n",
        "    y_vals = y_val.to_numpy()\n",
        "    #Model Probabilities for class 1 of each of the target variables\n",
        "    y_preds = np.transpose(np.array(model.predict_proba(X_val_dtm))[:,:,1])\n",
        "    #Calculate Mean of the ROC-AUC\n",
        "    mean_auc = mean(calculate_roc_auc(y_vals,y_preds))\n",
        "    #Append the name of the model and the mean_roc_auc into the results list\n",
        "    results.append([est, mean_auc])\n",
        "\n",
        "#Output the results as a table\n",
        "pd.DataFrame(results, columns = [\"Model\",\"Mean AUC\"])"
      ],
      "metadata": {
        "colab": {
          "base_uri": "https://localhost:8080/",
          "height": 112
        },
        "id": "AB9KmlhkUzUa",
        "outputId": "4cc6350b-0cbe-4b0c-e40b-9ad62c620b29"
      },
      "execution_count": null,
      "outputs": [
        {
          "output_type": "execute_result",
          "data": {
            "text/plain": [
              "                Model  Mean AUC\n",
              "0       MultinomialNB  0.935594\n",
              "1  LogisticRegression  0.936710"
            ],
            "text/html": [
              "\n",
              "  <div id=\"df-6df167b4-f92d-42ab-978f-61b3c83d1d1a\">\n",
              "    <div class=\"colab-df-container\">\n",
              "      <div>\n",
              "<style scoped>\n",
              "    .dataframe tbody tr th:only-of-type {\n",
              "        vertical-align: middle;\n",
              "    }\n",
              "\n",
              "    .dataframe tbody tr th {\n",
              "        vertical-align: top;\n",
              "    }\n",
              "\n",
              "    .dataframe thead th {\n",
              "        text-align: right;\n",
              "    }\n",
              "</style>\n",
              "<table border=\"1\" class=\"dataframe\">\n",
              "  <thead>\n",
              "    <tr style=\"text-align: right;\">\n",
              "      <th></th>\n",
              "      <th>Model</th>\n",
              "      <th>Mean AUC</th>\n",
              "    </tr>\n",
              "  </thead>\n",
              "  <tbody>\n",
              "    <tr>\n",
              "      <th>0</th>\n",
              "      <td>MultinomialNB</td>\n",
              "      <td>0.935594</td>\n",
              "    </tr>\n",
              "    <tr>\n",
              "      <th>1</th>\n",
              "      <td>LogisticRegression</td>\n",
              "      <td>0.936710</td>\n",
              "    </tr>\n",
              "  </tbody>\n",
              "</table>\n",
              "</div>\n",
              "      <button class=\"colab-df-convert\" onclick=\"convertToInteractive('df-6df167b4-f92d-42ab-978f-61b3c83d1d1a')\"\n",
              "              title=\"Convert this dataframe to an interactive table.\"\n",
              "              style=\"display:none;\">\n",
              "        \n",
              "  <svg xmlns=\"http://www.w3.org/2000/svg\" height=\"24px\"viewBox=\"0 0 24 24\"\n",
              "       width=\"24px\">\n",
              "    <path d=\"M0 0h24v24H0V0z\" fill=\"none\"/>\n",
              "    <path d=\"M18.56 5.44l.94 2.06.94-2.06 2.06-.94-2.06-.94-.94-2.06-.94 2.06-2.06.94zm-11 1L8.5 8.5l.94-2.06 2.06-.94-2.06-.94L8.5 2.5l-.94 2.06-2.06.94zm10 10l.94 2.06.94-2.06 2.06-.94-2.06-.94-.94-2.06-.94 2.06-2.06.94z\"/><path d=\"M17.41 7.96l-1.37-1.37c-.4-.4-.92-.59-1.43-.59-.52 0-1.04.2-1.43.59L10.3 9.45l-7.72 7.72c-.78.78-.78 2.05 0 2.83L4 21.41c.39.39.9.59 1.41.59.51 0 1.02-.2 1.41-.59l7.78-7.78 2.81-2.81c.8-.78.8-2.07 0-2.86zM5.41 20L4 18.59l7.72-7.72 1.47 1.35L5.41 20z\"/>\n",
              "  </svg>\n",
              "      </button>\n",
              "      \n",
              "  <style>\n",
              "    .colab-df-container {\n",
              "      display:flex;\n",
              "      flex-wrap:wrap;\n",
              "      gap: 12px;\n",
              "    }\n",
              "\n",
              "    .colab-df-convert {\n",
              "      background-color: #E8F0FE;\n",
              "      border: none;\n",
              "      border-radius: 50%;\n",
              "      cursor: pointer;\n",
              "      display: none;\n",
              "      fill: #1967D2;\n",
              "      height: 32px;\n",
              "      padding: 0 0 0 0;\n",
              "      width: 32px;\n",
              "    }\n",
              "\n",
              "    .colab-df-convert:hover {\n",
              "      background-color: #E2EBFA;\n",
              "      box-shadow: 0px 1px 2px rgba(60, 64, 67, 0.3), 0px 1px 3px 1px rgba(60, 64, 67, 0.15);\n",
              "      fill: #174EA6;\n",
              "    }\n",
              "\n",
              "    [theme=dark] .colab-df-convert {\n",
              "      background-color: #3B4455;\n",
              "      fill: #D2E3FC;\n",
              "    }\n",
              "\n",
              "    [theme=dark] .colab-df-convert:hover {\n",
              "      background-color: #434B5C;\n",
              "      box-shadow: 0px 1px 3px 1px rgba(0, 0, 0, 0.15);\n",
              "      filter: drop-shadow(0px 1px 2px rgba(0, 0, 0, 0.3));\n",
              "      fill: #FFFFFF;\n",
              "    }\n",
              "  </style>\n",
              "\n",
              "      <script>\n",
              "        const buttonEl =\n",
              "          document.querySelector('#df-6df167b4-f92d-42ab-978f-61b3c83d1d1a button.colab-df-convert');\n",
              "        buttonEl.style.display =\n",
              "          google.colab.kernel.accessAllowed ? 'block' : 'none';\n",
              "\n",
              "        async function convertToInteractive(key) {\n",
              "          const element = document.querySelector('#df-6df167b4-f92d-42ab-978f-61b3c83d1d1a');\n",
              "          const dataTable =\n",
              "            await google.colab.kernel.invokeFunction('convertToInteractive',\n",
              "                                                     [key], {});\n",
              "          if (!dataTable) return;\n",
              "\n",
              "          const docLinkHtml = 'Like what you see? Visit the ' +\n",
              "            '<a target=\"_blank\" href=https://colab.research.google.com/notebooks/data_table.ipynb>data table notebook</a>'\n",
              "            + ' to learn more about interactive tables.';\n",
              "          element.innerHTML = '';\n",
              "          dataTable['output_type'] = 'display_data';\n",
              "          await google.colab.output.renderOutput(dataTable, element);\n",
              "          const docLink = document.createElement('div');\n",
              "          docLink.innerHTML = docLinkHtml;\n",
              "          element.appendChild(docLink);\n",
              "        }\n",
              "      </script>\n",
              "    </div>\n",
              "  </div>\n",
              "  "
            ]
          },
          "metadata": {},
          "execution_count": 32
        }
      ]
    },
    {
      "cell_type": "markdown",
      "source": [
        "As we can see, Both the models perform really good with LR performing slightly better. So, we will use it as the final model to submit the predictions for the test data. Also, these simple models give pretty good results without much of a hassle or technical know-how, that is why they are still used widely."
      ],
      "metadata": {
        "id": "R9WM94A4VSpJ"
      }
    },
    {
      "cell_type": "markdown",
      "source": [
        "## Predicting Target Values for Test Data\n",
        "test_df"
      ],
      "metadata": {
        "id": "S4_qNNGwWQUm"
      }
    },
    {
      "cell_type": "code",
      "source": [
        "#Transform the test dataset as well based on Bag of Words/ Count Vectorizer as the Logistic model would \n",
        "X_test_dtm = vectorizer.transform(test_df['comment_text'])\n",
        "#Use the Logistic Regression model to output probabilities and take the probability for class 1\n",
        "y_preds = np.transpose(np.array(lr.predict_proba(X_test_dtm))[:,:,1])\n",
        "#Add predicted labels to the test data\n",
        "test_pred_labels = test_df.assign(**pd.DataFrame(y_preds, columns=train_df.iloc[:,2:].columns))\n",
        "#Calculate avg roc_auc on test data\n",
        "print(\"Mean AUC on Test:\", mean(calculate_roc_auc(test_labels.iloc[:,1:].replace(-1, 0).to_numpy(), y_preds)))"
      ],
      "metadata": {
        "colab": {
          "base_uri": "https://localhost:8080/"
        },
        "id": "JLdBZlA2VI7m",
        "outputId": "b7386975-025b-449a-e2b9-68bda1bf4641"
      },
      "execution_count": null,
      "outputs": [
        {
          "output_type": "stream",
          "name": "stdout",
          "text": [
            "Mean AUC on Test: 0.9020280915716352\n"
          ]
        }
      ]
    },
    {
      "cell_type": "markdown",
      "source": [
        "As we can see we are still having a rather good performance on unseen data ~90%"
      ],
      "metadata": {
        "id": "cgivM4GXcESk"
      }
    },
    {
      "cell_type": "markdown",
      "source": [
        "## Model Interpretation\n",
        "This is the most exciting part. Since, we are just using a simple Logistic Regression model, we can directly use the coefficient values of the model to get an understanding of the predictions made. By doing so, which feature is importance or which word makes a sentence toxic. If we would use a complex model, we could go for SHAP or LIME. Also, since we have 6 output variables, we will have 6 feature importances which will be interesting to see"
      ],
      "metadata": {
        "id": "eLmS7YmhcVLo"
      }
    },
    {
      "cell_type": "code",
      "source": [
        "#Assigning the feature names to an empty list\n",
        "feat_impts = [vectorizer.get_feature_names()]\n",
        "#For all the models save the feature importances in the list.estimators_ would give the internal models used by the multioutput regressor\n",
        "for clf in lr.estimators_:\n",
        "    feat_impts.append(clf.coef_.flatten())\n",
        "#Saving the results in a dataframe\n",
        "df_feats_impts = pd.DataFrame(np.transpose(np.array(feat_impts)), columns = [\"word\",\"toxic\",\"severe_toxic\",\"obscene\",\"threat\",\"insult\",\"identity_hate\"])\n",
        "#Converting Feature Importance Columns from string to float\n",
        "df_feats_impts.iloc[:,1:] = df_feats_impts.iloc[:,1:].astype(\"float32\")\n",
        "df_feats_impts.head()"
      ],
      "metadata": {
        "colab": {
          "base_uri": "https://localhost:8080/",
          "height": 261
        },
        "id": "9_IImACwWe-h",
        "outputId": "cd87c77c-8a5d-47be-9a58-3095484e8263"
      },
      "execution_count": null,
      "outputs": [
        {
          "output_type": "stream",
          "name": "stderr",
          "text": [
            "/usr/local/lib/python3.7/dist-packages/sklearn/utils/deprecation.py:87: FutureWarning: Function get_feature_names is deprecated; get_feature_names is deprecated in 1.0 and will be removed in 1.2. Please use get_feature_names_out instead.\n",
            "  warnings.warn(msg, category=FutureWarning)\n"
          ]
        },
        {
          "output_type": "execute_result",
          "data": {
            "text/plain": [
              "       word     toxic severe_toxic   obscene    threat    insult identity_hate\n",
              "0       abc -1.054371     -0.33688  -0.79903 -1.293537  0.124339     -0.812871\n",
              "1     abide -0.562431    -0.024591  0.284508 -0.174758 -0.325062     -0.144911\n",
              "2   ability  0.422333    -0.318053 -0.160442 -0.363774 -0.347794     -0.645233\n",
              "3      able  -0.43884    -0.241395  0.148765 -1.463267 -0.859282     -0.789607\n",
              "4  abortion -1.271754    -0.054597  0.592756 -0.012501  0.531256      0.692981"
            ],
            "text/html": [
              "\n",
              "  <div id=\"df-5fb6b476-9730-41b3-af0e-0f8b2df647b0\">\n",
              "    <div class=\"colab-df-container\">\n",
              "      <div>\n",
              "<style scoped>\n",
              "    .dataframe tbody tr th:only-of-type {\n",
              "        vertical-align: middle;\n",
              "    }\n",
              "\n",
              "    .dataframe tbody tr th {\n",
              "        vertical-align: top;\n",
              "    }\n",
              "\n",
              "    .dataframe thead th {\n",
              "        text-align: right;\n",
              "    }\n",
              "</style>\n",
              "<table border=\"1\" class=\"dataframe\">\n",
              "  <thead>\n",
              "    <tr style=\"text-align: right;\">\n",
              "      <th></th>\n",
              "      <th>word</th>\n",
              "      <th>toxic</th>\n",
              "      <th>severe_toxic</th>\n",
              "      <th>obscene</th>\n",
              "      <th>threat</th>\n",
              "      <th>insult</th>\n",
              "      <th>identity_hate</th>\n",
              "    </tr>\n",
              "  </thead>\n",
              "  <tbody>\n",
              "    <tr>\n",
              "      <th>0</th>\n",
              "      <td>abc</td>\n",
              "      <td>-1.054371</td>\n",
              "      <td>-0.33688</td>\n",
              "      <td>-0.79903</td>\n",
              "      <td>-1.293537</td>\n",
              "      <td>0.124339</td>\n",
              "      <td>-0.812871</td>\n",
              "    </tr>\n",
              "    <tr>\n",
              "      <th>1</th>\n",
              "      <td>abide</td>\n",
              "      <td>-0.562431</td>\n",
              "      <td>-0.024591</td>\n",
              "      <td>0.284508</td>\n",
              "      <td>-0.174758</td>\n",
              "      <td>-0.325062</td>\n",
              "      <td>-0.144911</td>\n",
              "    </tr>\n",
              "    <tr>\n",
              "      <th>2</th>\n",
              "      <td>ability</td>\n",
              "      <td>0.422333</td>\n",
              "      <td>-0.318053</td>\n",
              "      <td>-0.160442</td>\n",
              "      <td>-0.363774</td>\n",
              "      <td>-0.347794</td>\n",
              "      <td>-0.645233</td>\n",
              "    </tr>\n",
              "    <tr>\n",
              "      <th>3</th>\n",
              "      <td>able</td>\n",
              "      <td>-0.43884</td>\n",
              "      <td>-0.241395</td>\n",
              "      <td>0.148765</td>\n",
              "      <td>-1.463267</td>\n",
              "      <td>-0.859282</td>\n",
              "      <td>-0.789607</td>\n",
              "    </tr>\n",
              "    <tr>\n",
              "      <th>4</th>\n",
              "      <td>abortion</td>\n",
              "      <td>-1.271754</td>\n",
              "      <td>-0.054597</td>\n",
              "      <td>0.592756</td>\n",
              "      <td>-0.012501</td>\n",
              "      <td>0.531256</td>\n",
              "      <td>0.692981</td>\n",
              "    </tr>\n",
              "  </tbody>\n",
              "</table>\n",
              "</div>\n",
              "      <button class=\"colab-df-convert\" onclick=\"convertToInteractive('df-5fb6b476-9730-41b3-af0e-0f8b2df647b0')\"\n",
              "              title=\"Convert this dataframe to an interactive table.\"\n",
              "              style=\"display:none;\">\n",
              "        \n",
              "  <svg xmlns=\"http://www.w3.org/2000/svg\" height=\"24px\"viewBox=\"0 0 24 24\"\n",
              "       width=\"24px\">\n",
              "    <path d=\"M0 0h24v24H0V0z\" fill=\"none\"/>\n",
              "    <path d=\"M18.56 5.44l.94 2.06.94-2.06 2.06-.94-2.06-.94-.94-2.06-.94 2.06-2.06.94zm-11 1L8.5 8.5l.94-2.06 2.06-.94-2.06-.94L8.5 2.5l-.94 2.06-2.06.94zm10 10l.94 2.06.94-2.06 2.06-.94-2.06-.94-.94-2.06-.94 2.06-2.06.94z\"/><path d=\"M17.41 7.96l-1.37-1.37c-.4-.4-.92-.59-1.43-.59-.52 0-1.04.2-1.43.59L10.3 9.45l-7.72 7.72c-.78.78-.78 2.05 0 2.83L4 21.41c.39.39.9.59 1.41.59.51 0 1.02-.2 1.41-.59l7.78-7.78 2.81-2.81c.8-.78.8-2.07 0-2.86zM5.41 20L4 18.59l7.72-7.72 1.47 1.35L5.41 20z\"/>\n",
              "  </svg>\n",
              "      </button>\n",
              "      \n",
              "  <style>\n",
              "    .colab-df-container {\n",
              "      display:flex;\n",
              "      flex-wrap:wrap;\n",
              "      gap: 12px;\n",
              "    }\n",
              "\n",
              "    .colab-df-convert {\n",
              "      background-color: #E8F0FE;\n",
              "      border: none;\n",
              "      border-radius: 50%;\n",
              "      cursor: pointer;\n",
              "      display: none;\n",
              "      fill: #1967D2;\n",
              "      height: 32px;\n",
              "      padding: 0 0 0 0;\n",
              "      width: 32px;\n",
              "    }\n",
              "\n",
              "    .colab-df-convert:hover {\n",
              "      background-color: #E2EBFA;\n",
              "      box-shadow: 0px 1px 2px rgba(60, 64, 67, 0.3), 0px 1px 3px 1px rgba(60, 64, 67, 0.15);\n",
              "      fill: #174EA6;\n",
              "    }\n",
              "\n",
              "    [theme=dark] .colab-df-convert {\n",
              "      background-color: #3B4455;\n",
              "      fill: #D2E3FC;\n",
              "    }\n",
              "\n",
              "    [theme=dark] .colab-df-convert:hover {\n",
              "      background-color: #434B5C;\n",
              "      box-shadow: 0px 1px 3px 1px rgba(0, 0, 0, 0.15);\n",
              "      filter: drop-shadow(0px 1px 2px rgba(0, 0, 0, 0.3));\n",
              "      fill: #FFFFFF;\n",
              "    }\n",
              "  </style>\n",
              "\n",
              "      <script>\n",
              "        const buttonEl =\n",
              "          document.querySelector('#df-5fb6b476-9730-41b3-af0e-0f8b2df647b0 button.colab-df-convert');\n",
              "        buttonEl.style.display =\n",
              "          google.colab.kernel.accessAllowed ? 'block' : 'none';\n",
              "\n",
              "        async function convertToInteractive(key) {\n",
              "          const element = document.querySelector('#df-5fb6b476-9730-41b3-af0e-0f8b2df647b0');\n",
              "          const dataTable =\n",
              "            await google.colab.kernel.invokeFunction('convertToInteractive',\n",
              "                                                     [key], {});\n",
              "          if (!dataTable) return;\n",
              "\n",
              "          const docLinkHtml = 'Like what you see? Visit the ' +\n",
              "            '<a target=\"_blank\" href=https://colab.research.google.com/notebooks/data_table.ipynb>data table notebook</a>'\n",
              "            + ' to learn more about interactive tables.';\n",
              "          element.innerHTML = '';\n",
              "          dataTable['output_type'] = 'display_data';\n",
              "          await google.colab.output.renderOutput(dataTable, element);\n",
              "          const docLink = document.createElement('div');\n",
              "          docLink.innerHTML = docLinkHtml;\n",
              "          element.appendChild(docLink);\n",
              "        }\n",
              "      </script>\n",
              "    </div>\n",
              "  </div>\n",
              "  "
            ]
          },
          "metadata": {},
          "execution_count": 90
        }
      ]
    },
    {
      "cell_type": "markdown",
      "source": [
        "We will look at Top 5 words which determine if the sentence is a toxic-type or not according to the model."
      ],
      "metadata": {
        "id": "TLwQBDnkc38i"
      }
    },
    {
      "cell_type": "code",
      "source": [
        "#Creating Individual Feature Importance table by sorting on specific toxic-type column and selecting top 5 words\n",
        "toxic_fi = df_feats_impts[[\"word\",\"toxic\"]].sort_values(by = \"toxic\", ascending = False).head()\n",
        "severe_toxic_fi = df_feats_impts[[\"word\",\"severe_toxic\"]].sort_values(by = \"severe_toxic\", ascending = False).head()\n",
        "obscene_fi = df_feats_impts[[\"word\",\"obscene\"]].sort_values(by = \"obscene\", ascending = False).head()\n",
        "threat_fi = df_feats_impts[[\"word\",\"threat\"]].sort_values(by = \"threat\", ascending = False).head()\n",
        "insult_fi = df_feats_impts[[\"word\",\"insult\"]].sort_values(by = \"insult\", ascending = False).head()\n",
        "identity_hate_fi = df_feats_impts[[\"word\",\"identity_hate\"]].sort_values(by = \"identity_hate\", ascending = False).head()\n",
        "\n",
        "#Plotting top 5 words based on coefficient values from the LR model\n",
        "fig,(ax1, ax2) =  plt.subplots(2,3,figsize=(15,5))\n",
        "sns.barplot(x = \"toxic\", y = \"word\", ax = ax1[0], data = toxic_fi)\n",
        "sns.barplot(x = \"severe_toxic\", y = \"word\", ax = ax1[1], data = severe_toxic_fi)\n",
        "sns.barplot(x = \"obscene\", y = \"word\", ax = ax1[2], data = obscene_fi)\n",
        "sns.barplot(x = \"threat\", y = \"word\", ax = ax2[0], data = threat_fi)\n",
        "sns.barplot(x = \"insult\", y = \"word\", ax = ax2[1], data = insult_fi)\n",
        "sns.barplot(x = \"identity_hate\", y = \"word\", ax = ax2[2], data = identity_hate_fi)\n",
        "plt.suptitle(\"Feature Importance\")\n",
        "fig.tight_layout(rect=[0, 0.03, 1, 0.95])\n",
        "plt.show()"
      ],
      "metadata": {
        "colab": {
          "base_uri": "https://localhost:8080/",
          "height": 362
        },
        "id": "l8vYy1qsWxha",
        "outputId": "17a1b5e8-9354-4e4a-ac09-4c7b4cdcc231"
      },
      "execution_count": null,
      "outputs": [
        {
          "output_type": "display_data",
          "data": {
            "text/plain": [
              "<Figure size 1080x360 with 6 Axes>"
            ],
            "image/png": "[encoded data removed]"
          },
          "metadata": {
            "needs_background": "light"
          }
        }
      ]
    },
    {
      "cell_type": "markdown",
      "source": [
        "We can see that the models are quite rightly selecting the most important features and it makes complete sense\n",
        "\n",
        "For e.g. for threats - words like kill, shoot, destroy etc are most important\n",
        "\n",
        "for identity hate - words like nigger, nigga, homosexual, faggot\n",
        "\n",
        "most important words for toxic are less extreme than most important words for severe toxic."
      ],
      "metadata": {
        "id": "jTKM5wSidDZH"
      }
    },
    {
      "cell_type": "markdown",
      "source": [
        "## TODOs:\n",
        "1. Try TF-IDF instead of CountVectorizer\n",
        "TF-IDF tend to perform better than CountVectorizer in some cases\n",
        "2. Try ensemble models instead of Vanilla ML models\n",
        "Bagging and Boosting models give better results than classic ML techniques in most cases\n",
        "3. Better Text Preprocessing\n",
        "Typo correction, Lemmatization, etc can be done to further improve the model"
      ],
      "metadata": {
        "id": "_8Kuwe8WdvEU"
      }
    },
    {
      "cell_type": "markdown",
      "source": [
        "Useful Links:\n",
        "- https://medium.com/analytics-vidhya/text-classification-from-bag-of-words-to-bert-1e628a2dd4c9\n",
        "- https://towardsdatascience.com/text-classification-using-naive-bayes-theory-a-working-example-2ef4b7eb7d5a#:~:text=1.-,Introduction,is%20independent%20of%20each%20other"
      ],
      "metadata": {
        "id": "i3dCcUhBdVAG"
      }
    },
    {
      "cell_type": "code",
      "source": [
        ""
      ],
      "metadata": {
        "id": "CvF2Zz5XdgRm"
      },
      "execution_count": null,
      "outputs": []
    }
  ]
}