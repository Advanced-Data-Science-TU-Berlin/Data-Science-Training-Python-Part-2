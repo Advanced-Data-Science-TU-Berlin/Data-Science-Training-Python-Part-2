{
  "nbformat": 4,
  "nbformat_minor": 0,
  "metadata": {
    "colab": {
      "provenance": [],
      "authorship_tag": "ABX9TyMxy5+431swISCCpPNrpnmZ",
      "include_colab_link": true
    },
    "kernelspec": {
      "name": "python3",
      "display_name": "Python 3"
    },
    "language_info": {
      "name": "python"
    }
  },
  "cells": [
    {
      "cell_type": "markdown",
      "metadata": {
        "id": "view-in-github",
        "colab_type": "text"
      },
      "source": [
        "<a href=\"https://colab.research.google.com/github/Advanced-Data-Science-TU-Berlin/Data-Science-Training-Python-Part-2/blob/main/interactive_notebooks/bank_marketing.ipynb\" target=\"_parent\"><img src=\"https://colab.research.google.com/assets/colab-badge.svg\" alt=\"Open In Colab\"/></a>"
      ]
    },
    {
      "cell_type": "markdown",
      "source": [
        "# Bank Marketing Dataset\n",
        "![picture](https://www.socialtoaster.com/wp-content/uploads/2018/10/Finance-and-Retail-Banking-Blog-Post.jpg)\n",
        "\n",
        "Today, organizations hiring data scientists express a keen interest in a job candidate's portfolio. Analyzing an organization's marketing data stands out as one of the most common applications of data science and machine learning. Including such an analysis in your portfolio can significantly enhance its value.\n",
        "\n",
        "In essence, datasets containing marketing data serve two distinct business objectives:\n",
        "\n",
        "**1) Predicting Marketing Campaign Results:**\n",
        "\n",
        "Forecasting the outcomes of marketing campaigns for individual customers and gaining insights into the factors influencing these results.\n",
        "This analysis aids in discovering strategies to enhance the efficiency of marketing campaigns.\n",
        "\n",
        "**2) Segmenting Customers:**\n",
        "\n",
        "Identifying customer segments by utilizing data from those who subscribed to a term deposit.\n",
        "This segmentation helps in profiling customers more likely to acquire the product, facilitating the development of targeted and effective marketing campaigns.\n",
        "\n",
        "## About this Dataset\n",
        "\n",
        "<img src=\"https://datascientest.com/en/wp-content/uploads/sites/9/2023/08/power-bi-dashboard.webp\">\n",
        "\n",
        "This is the classic marketing bank dataset uploaded originally in the UCI Machine Learning Repository. The dataset gives you information about a marketing campaign of a financial institution in which you will have to analyze in order to find ways to look for future strategies in order to improve future marketing campaigns for the bank.\n",
        "\n",
        "To read more check [here](https://www.kaggle.com/datasets/janiobachmann/bank-marketing-dataset/data)\n",
        "\n",
        "Features related with bank clients:\n",
        "\n",
        "| Features | Description |\n",
        "| -- | -- |\n",
        "| Age | age of customer |\n",
        "| Job | type of job |\n",
        "| Marital | marital status |\n",
        "| Education | education (primary, secondary, tertiary and unknown)|\n",
        "| default | has credit in default?|\n",
        "| housing | has housing loan? ('no','yes','unknown') |\n",
        "| loan | has personal loan? ('no','yes','unknown') |\n",
        "| balance |Balance of the individual. |\n",
        "\n",
        "Features related with the last contact of the current campaign:\n",
        "\n",
        "| Features | Description |\n",
        "| -- | -- |\n",
        "|contact | contact communication type ('cellular','telephone')|\n",
        "|month | last contact month of year ('jan', 'feb', 'mar', ..., 'nov', 'dec')|\n",
        "|day | last contact day of the week ('mon','tue','wed','thu','fri') |\n",
        "| duration | last contact duration, in seconds (numeric) |\n",
        "\n",
        "> Important note: this attribute highly affects the output target (if duration=0 then y=no)\n",
        "\n",
        "Other Attributes:\n",
        "\n",
        "| Features | Description |\n",
        "| -- | -- |\n",
        "| campaign| number of contacts performed during this campaign and for this client (numeric, includes last contact) |\n",
        "| pdays| number of days that passed by after the client was last contacted from a previous campaign (numeric; 999 means client was not previously contacted)|\n",
        "| previous| number of contacts performed before this campaign and for this client (numeric)|\n",
        "| poutcome| outcome of the previous marketing campaign (categorical: 'failure','nonexistent','success')|\n",
        "\n",
        "# Your Assignment\n",
        "\n",
        "<img src=\"https://t3.ftcdn.net/jpg/01/27/17/00/360_F_127170057_T8TeGnPWtYX24uTpSjeIT0500sUxi9M1.jpg\">\n",
        "\n",
        "\n",
        "** Part 1. Exploratory Data Analysis (EDA) **\n",
        "Explore the dataset thoroughly through Exploratory Data Analysis (EDA). In this phase, analyze and visualize key aspects of the data to gain insights into its structure, patterns, and potential relationships. EDA sets the foundation for a deeper understanding of the dataset.\n",
        "\n",
        "** Part 2. Classification **\n",
        "In this section, delve into the realm of classification algorithms such as KNN and Decision Tree (DT). Implement and evaluate models that categorize data into distinct classes or groups. Understand the principles behind classification, assess model performance, and fine-tune parameters to achieve accurate predictions.\n",
        "\n",
        "** Part 3. Clustering **\n",
        "Enter the world of clustering, where the goal is to group similar data points together. Explore KMeans clustering algorithm, try to find the best value for K for your data using both elbow-method and silhouette analysis.\n",
        "\n"
      ],
      "metadata": {
        "id": "wCh1bnK0cW6G"
      }
    },
    {
      "cell_type": "code",
      "source": [
        "# We need this to get the data from Kaggle\n",
        "!pip install opendatasets"
      ],
      "metadata": {
        "id": "qLzLNMz54Jvd"
      },
      "execution_count": null,
      "outputs": []
    },
    {
      "cell_type": "code",
      "source": [
        "# Let's begin by importing the essential Python libraries.\n",
        "# Start by importing pandas, numpy, and matplotlib and opendatasets\n",
        "import pandas as pd\n",
        "import numpy as np\n",
        "import matplotlib.pyplot as plt\n",
        "import seaborn as sns\n",
        "import opendatasets as od\n"
      ],
      "metadata": {
        "id": "XD0Y7miHhz3r"
      },
      "execution_count": null,
      "outputs": []
    },
    {
      "cell_type": "code",
      "source": [
        "# Retrieve your dataset from Kaggle.\n",
        "url = \"https://www.kaggle.com/datasets/janiobachmann/bank-marketing-dataset/data\"\n",
        "od.download(url)"
      ],
      "metadata": {
        "id": "3pNEjRmy4V4U"
      },
      "execution_count": null,
      "outputs": []
    },
    {
      "cell_type": "markdown",
      "source": [
        "# Part 0. Read The Data\n",
        "\n",
        "<img src=\"https://user.oc-static.com/upload/2020/11/23/16061415667329_3C3.png\">"
      ],
      "metadata": {
        "id": "YqujcSLCheJ5"
      }
    },
    {
      "cell_type": "code",
      "source": [
        "# Let's load the data into pandas\n",
        "# If you need a refresher on how to do this, you can refer to the previous notebooks on text classification or decision trees.\n",
        "# The data should be here /content/bank-marketing-dataset/bank.csv\n",
        "\n"
      ],
      "metadata": {
        "id": "ARiY4gk5hyOT"
      },
      "execution_count": 8,
      "outputs": []
    },
    {
      "cell_type": "markdown",
      "source": [
        "# Part 1) Exploratory Data Analysis (EDA)\n",
        "<img src=\"https://d2o2utebsixu4k.cloudfront.net/media/images/3a2daf59-b87d-453e-871c-070e4656267e.jpg\">\n",
        "\n",
        "Here are some hints for this section:\n",
        "- Data Overview:\n",
        "Display the first few rows of the dataset to understand its structure.\n",
        "\n",
        "- Check the data types of each column.\n",
        "\n",
        "- Summary Statistics:\n",
        "Use statistical methods to summarize the main characteristics of the dataset.\n",
        "summary statistics such as mean, median, standard deviation, etc.\n",
        "\n",
        "- Missing Values:\n",
        "Identify and handle missing values if any.\n",
        "Decide whether to drop missing values or fill them using median.\n",
        "\n",
        "- Data Visualization:\n",
        "Create a Point-wise Correlation Pairplot only for your numerical features:\n",
        "Age, balance, duration\n",
        "Use target value to color differentiate the data points\n",
        "\n",
        "\n",
        "```\n",
        "Only if you had time and want to go extra miles:\n",
        "\n",
        "- Distribution Analysis:\n",
        "Examine the distribution of numerical features.\n",
        "Use histograms, box plots, or other visualizations to understand the data distribution.\n",
        "\n",
        "- Categorical Variables:\n",
        "Explore the distribution of categorical variables.\n",
        "Use bar charts to visualize the frequency of each category.\n",
        "\n",
        "- Correlation Analysis:\n",
        "Investigate the relationships between numerical features.\n",
        "Create a correlation matrix and visualize it using a heatmap.\n",
        "\n",
        "- Outlier Detection:\n",
        "Identify and handle potential outliers in the dataset.\n",
        "Use visualizations like box plots to identify extreme values.\n",
        "Data Visualization:\n",
        "\n",
        "- Additional visualization\n",
        "Create additional visualizations (scatter plots, pair plots, etc.) to gain insights into relationships between variables.\n",
        "\n",
        "- Feature Engineering:\n",
        "If necessary, create new features that might be relevant for classification.\n",
        "Feature scaling or normalization may be required.\n",
        "\n",
        "- Data Insights:\n",
        "Summarize key findings and insights from the EDA process.\n",
        "```\n",
        "\n",
        "\n"
      ],
      "metadata": {
        "id": "CPzBOi8GgdQP"
      }
    },
    {
      "cell_type": "code",
      "source": [
        "# Start by looking at few lines of the code and explore your data as you can\n",
        "# Use the hints that were mentioned above and get inspired by the previous notebooks we practiced in the class\n",
        "\n",
        "\n",
        "\n",
        "\n"
      ],
      "metadata": {
        "id": "d5F8icdkcNme"
      },
      "execution_count": 9,
      "outputs": []
    },
    {
      "cell_type": "markdown",
      "source": [
        "# Part 2) Classification\n",
        "\n",
        "The objective of classification in this dataset is to predict the target variable \"Deposit.\" By employing machine learning classification algorithms, the goal is to build a model that can effectively differentiate between instances where a customer subscribed to a term deposit (\"Deposit\" equals yes) and instances where they did not subscribe (\"Deposit\" equals no). This predictive model can provide valuable insights into the factors influencing customers' decisions to subscribe to term deposits, enabling businesses to tailor their marketing strategies and allocate resources more efficiently. The classification task aims to create a robust model capable of making accurate predictions on whether a customer is likely to make a term deposit based on various features in the dataset.\n",
        "\n",
        "## What is a Term Deposit?\n",
        "A Term deposit is a deposit that a bank or a financial institurion offers with a fixed rate (often better than just opening deposit account) in which your money will be returned back at a specific maturity time. For more information with regards to Term Deposits please click on this link from Investopedia: https://www.investopedia.com/terms/t/termdeposit.asp\n",
        "\n",
        "\n",
        "<img src=\"https://static.wixstatic.com/media/a4a427_5a12d4912c124348b616a571caa9c817~mv2.png/v1/fill/w_445,h_223,al_c,lg_1,q_85/a4a427_5a12d4912c124348b616a571caa9c817~mv2.png\">\n",
        "\n",
        "\n",
        "## Preprocessing\n",
        "- What is your target value?\n",
        "- What features do you want to use here? It's up to you to decide what features to use.\n",
        "- Do you need scaling your data? Feel free to do it on numerical features\n",
        "- Do you need encoding for categorical features?\n",
        "- Split your data into features and target values (X, y)\n",
        "- Visualize your target value\n",
        "- Is it balanced or imbalance?\n",
        "- Select an evaluation metric and to measure the model performance if you are not sure use accuracy.\n",
        "- Select a metric\n",
        "- Split your data into train and test\n",
        "- Let's scale our dat\n",
        "\n",
        "\n",
        "## Decision Tree\n",
        "\n",
        "- Try to use decision tree to classify your data\n",
        "- Train your model on train data and test it on test data\n",
        "- Evaluate your model performance both on train and test data\n",
        "- If you have time try to do HyperParameterTuning and use GridSearch to find the best parameters for \"max_depth\" and \"criterion\"\n",
        "- Can you visualizr the tree using graphvis\n",
        "\n",
        "## KNN\n",
        "\n",
        "- Try to use KNN to classify your data\n",
        "- Use k=5 for start\n",
        "- Remember that you have to work with numerical features here so make sure to select numerical features or encode categoricals to numerical before running KNN.\n",
        "- Can you find the best K looking at the train and test error plot?\n",
        "- Train your model with besk K if it was not 5\n",
        "- Evaluate your model performance both on train and test data\n"
      ],
      "metadata": {
        "id": "JX32cw9cktVv"
      }
    },
    {
      "cell_type": "code",
      "source": [
        "# Importing some of the usefull functions for this part\n",
        "from sklearn.preprocessing import StandardScaler\n",
        "from sklearn.model_selection import train_test_split\n",
        "from sklearn.neighbors import KNeighborsClassifier\n",
        "from sklearn.tree import DecisionTreeClassifier\n",
        "from sklearn import metrics"
      ],
      "metadata": {
        "id": "zG6jdkobCoC5"
      },
      "execution_count": null,
      "outputs": []
    },
    {
      "cell_type": "code",
      "execution_count": 10,
      "metadata": {
        "id": "WNiUwtBmXrzm"
      },
      "outputs": [],
      "source": [
        "# Preprocess your data here, take a look at the preprocessing steps in the previous notebooks to be inspired"
      ]
    },
    {
      "cell_type": "code",
      "source": [
        "# Train your Decision Tree model and evaluate it"
      ],
      "metadata": {
        "id": "YX9RkG2znnHI"
      },
      "execution_count": 11,
      "outputs": []
    },
    {
      "cell_type": "code",
      "source": [
        "# Train your KNN model and evaluate it"
      ],
      "metadata": {
        "id": "TDmWF7uaoGkN"
      },
      "execution_count": 12,
      "outputs": []
    },
    {
      "cell_type": "markdown",
      "source": [
        "# Part 3) Clustering\n",
        "\n",
        "<img src=\"https://miro.medium.com/v2/resize:fit:906/1*Aczgwp5UkCIIO7nf9ItLiA.png\">\n",
        "\n",
        "The goal is to identify meaningful customer segments that share similar attributes, allowing businesses to gain insights into the diverse profiles within their customer base. By analyzing these segments, organizations can uncover patterns and trends related to customers who have shown an interest in term deposits.\n",
        "\n",
        "## KMeans\n",
        "\n",
        "- Select any features you want to work with, remember they should be numerical.\n",
        "- Implement the KMeans clustering algorithm on the dataset.\n",
        "- Explore different values of K to identify optimal clusters using the elbow method and silhouette analysis.\n",
        "- Visualize the clustered data using scatter plots or other appropriate visualizations for two of your features.\n",
        "- Analyze and interpret the characteristics of each cluster to gain insights into customer segments.\n",
        "- Discuss potential business strategies or marketing approaches based on the identified clusters."
      ],
      "metadata": {
        "id": "IUtXJD_LcUDY"
      }
    },
    {
      "cell_type": "code",
      "source": [],
      "metadata": {
        "id": "uVJSwRv1z-Yz"
      },
      "execution_count": null,
      "outputs": []
    }
  ]
}