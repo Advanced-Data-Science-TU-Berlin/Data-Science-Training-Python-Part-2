{
  "nbformat": 4,
  "nbformat_minor": 0,
  "metadata": {
    "colab": {
      "provenance": [],
      "authorship_tag": "ABX9TyMHsFQUgFNUcyQT1P5eT6K7",
      "include_colab_link": true
    },
    "kernelspec": {
      "name": "python3",
      "display_name": "Python 3"
    },
    "language_info": {
      "name": "python"
    }
  },
  "cells": [
    {
      "cell_type": "markdown",
      "metadata": {
        "id": "view-in-github",
        "colab_type": "text"
      },
      "source": [
        "<a href=\"https://colab.research.google.com/github/Advanced-Data-Science-TU-Berlin/Data-Science-Training-Python-Part-2/blob/main/interactive_notebooks/2_1_2_Mall_Customer_Segmentation_KMeans.ipynb\" target=\"_parent\"><img src=\"https://colab.research.google.com/assets/colab-badge.svg\" alt=\"Open In Colab\"/></a>"
      ]
    },
    {
      "cell_type": "markdown",
      "source": [
        "# Mall Customer Segmentation\n",
        "![picture](https://www.aimtechnologies.co/wp-content/uploads/2023/09/customer-segmentation-social.png)\n",
        "The dataset used in this example is the \"Mall Customer Segmentation\" dataset. This dataset is commonly used for customer segmentation analysis, a task where the goal is to divide customers into groups based on certain characteristics.\n",
        "\n",
        "Here's more information about the columns in the dataset:\n",
        "\n",
        "*   **CustomerID**: A unique identifier for each customer.\n",
        "*   **Gender**: The gender of the customer (e.g., Male or Female).\n",
        "*   **Age**: The age of the customer.\n",
        "*   **Annual Income (k$)**: The annual income of the customer in thousands of dollars.\n",
        "*   **Spending Score (1-100)**: A score assigned to the customer by the mall based on their spending behavior and various parameters."
      ],
      "metadata": {
        "id": "l2BG8OptH2bm"
      }
    },
    {
      "cell_type": "code",
      "execution_count": null,
      "metadata": {
        "id": "lpWPDQo_EGq2"
      },
      "outputs": [],
      "source": [
        "# Yellowbrick extends the Scikit-Learn API to make model selection and hyperparameter tuning easier. Under the hood, it’s using Matplotlib.\n",
        "!pip install yellowbrick"
      ]
    },
    {
      "cell_type": "code",
      "source": [
        "# Import\n",
        "import numpy as np\n",
        "import pandas as pd\n",
        "import matplotlib.pyplot as plt"
      ],
      "metadata": {
        "id": "r1NYZ5HtEIZH"
      },
      "execution_count": 2,
      "outputs": []
    },
    {
      "cell_type": "code",
      "source": [
        "url = \"https://raw.githubusercontent.com/rileypredum/mall_customer_segmentation/master/Mall_Customers.csv\"\n",
        "\n",
        "# Read the data from the url\n",
        "# Hint: use pd.read_csv and pass the url\n",
        "<your-code-here>\n",
        "\n",
        "# Look at few rows of data\n",
        "display(df.head())"
      ],
      "metadata": {
        "id": "2u2tXEzvEbED"
      },
      "execution_count": null,
      "outputs": []
    },
    {
      "cell_type": "markdown",
      "source": [
        "## Exploratory Data Analysis (EDA)\n",
        "As the first step, let's explore the dataset."
      ],
      "metadata": {
        "id": "IV_ZO55XGZwi"
      }
    },
    {
      "cell_type": "code",
      "source": [
        "# Add code for basic statistics, missing values, data types, etc.\n",
        "\n",
        "# Display basic statistics\n",
        "# Hint: use df.describe()\n",
        "display(<your-code-here>)\n",
        "\n",
        "# Display the data types\n",
        "# Hint: use df.dtypes\n",
        "display(<your-code-here>)\n",
        "\n",
        "# Check for missing values\n",
        "# Hint: use df.isnull().sum()\n",
        "<your-code-here>"
      ],
      "metadata": {
        "id": "zKEvIy3jGKzs"
      },
      "execution_count": null,
      "outputs": []
    },
    {
      "cell_type": "markdown",
      "source": [
        "### Pairwise Correlation Plot\n",
        "A pairwise correlation plot is a graphical representation that allows us to explore the relationships between pairs of numerical variables in a dataset. This type of plot is particularly useful in understanding how different features interact with each other and whether there are any discernible patterns or trends.\n",
        "\n",
        "**Interpretation:**\n",
        "- *Positive Correlation:* Points on the scatterplot tend to follow an upward trend. When one variable increases, the other variable also tends to increase.\n",
        "\n",
        "- *Negative Correlation:* Points on the scatterplot tend to follow a downward trend. When one variable increases, the other variable tends to decrease.\n",
        "\n",
        "- *No Correlation:* Points on the scatterplot appear randomly distributed, indicating a lack of a clear relationship between the variables.\n"
      ],
      "metadata": {
        "id": "2ZmLThIxM1IU"
      }
    },
    {
      "cell_type": "code",
      "source": [
        "import seaborn as sns\n",
        "\n",
        "# Select numerical columns for correlation plot.\n",
        "numerical_cols = list(df.select_dtypes(include=[np.number]).columns)\n",
        "\n",
        "# Should we include CustomerID?\n",
        "# CustomerID is considered as an identifier and doesn't provide meaningful information for clustering, as it is likely to be unique for each customer.\n",
        "# Hint use numerical_cols.remove and pass 'CustomerID' as input\n",
        "<your-code-here>\n",
        "\n",
        "# Create a pairwise correlation plot\n",
        "# Hint use sns.pairplot and pass df[numerical_cols] as input\n",
        "<your-code-here>\n",
        "plt.suptitle(\"Pairwise Correlation Plot\", y=1.02)\n",
        "plt.show()"
      ],
      "metadata": {
        "id": "TFp59g3nMVob"
      },
      "execution_count": null,
      "outputs": []
    },
    {
      "cell_type": "markdown",
      "source": [
        "### Feature Selection\n",
        "\n",
        "- Can you think of relevant features for clustering in this data?\n",
        "\n",
        "For clustering, we are interested in understanding customer segments based on their income and spending behavior. Therefore, we select 'Annual Income (k$)' and 'Spending Score (1-100)' as our relevant features.\n"
      ],
      "metadata": {
        "id": "3JDyG5wQKz7r"
      }
    },
    {
      "cell_type": "code",
      "source": [
        "# Select relevant features for clustering (e.g., 'Annual Income (k$)' and 'Spending Score (1-100)')\n",
        "X = df[['Annual Income (k$)', 'Spending Score (1-100)']]"
      ],
      "metadata": {
        "id": "bLcXnHMuLUuw"
      },
      "execution_count": 7,
      "outputs": []
    },
    {
      "cell_type": "markdown",
      "source": [
        "## Data Preprocessing"
      ],
      "metadata": {
        "id": "Xgk-CNvzGuUr"
      }
    },
    {
      "cell_type": "code",
      "source": [
        "from sklearn.preprocessing import StandardScaler\n",
        "\n",
        "# Standardize the features\n",
        "scaler = StandardScaler()\n",
        "\n",
        "# Fit and transform the data using standard scaler\n",
        "# Hint: use scaler.fit_transform function and pass X\n",
        "X_scaled = <your-code-here>"
      ],
      "metadata": {
        "id": "FlzKdtyiGY-8"
      },
      "execution_count": 8,
      "outputs": []
    },
    {
      "cell_type": "markdown",
      "source": [
        "## Determining the Optimal Number of Clusters (K)\n",
        "Use the Elbow Method to find the optimal number of clusters (K)\n",
        "\n",
        "### Elbow Method\n",
        "\n",
        "The Elbow Method helps us determine the optimal number of clusters by looking for the \"elbow\" point in the WCSS graph.\n",
        "- WCSS (Within-Cluster Sum of Squares) measures the compactness of the clusters.\n",
        "\n",
        "#### Sample Elbow Curve\n",
        "<div>\n",
        "<img src=\"https://almablog-media.s3.ap-south-1.amazonaws.com/elbow_2_18740a3e28.png\" width=\"500\"/>\n",
        "</div>\n"
      ],
      "metadata": {
        "id": "fnM4PdnHG5bc"
      }
    },
    {
      "cell_type": "markdown",
      "source": [
        "‘k-means++’ : selects initial cluster centroids using sampling based on an empirical probability distribution of the points’ contribution to the overall inertia. This technique speeds up convergence."
      ],
      "metadata": {
        "id": "LtvU6tZtEpO-"
      }
    },
    {
      "cell_type": "code",
      "source": [
        "from sklearn.cluster import KMeans\n",
        "import ipywidgets as widgets\n",
        "from ipywidgets import interact\n",
        "\n",
        "# Define the function to plot the Elbow Method graph\n",
        "def plot_elbow_method(k):\n",
        "    wcss = []\n",
        "    for i in range(1, k + 1):\n",
        "        kmeans = KMeans(n_clusters=i, init='k-means++', max_iter=300, n_init=10, random_state=0)\n",
        "        # Fit kmeans model\n",
        "        # Hint: use kmeans.fit and pass X_scaled\n",
        "        <your-code-here>\n",
        "        wcss.append(kmeans.inertia_)\n",
        "\n",
        "    # Plot the Elbow Method graph\n",
        "    plt.plot(range(1, k + 1), wcss)\n",
        "    plt.title('Elbow Method for Optimal K')\n",
        "    plt.xlabel('Number of clusters')\n",
        "    plt.ylabel('WCSS')  # WCSS stands for Within-Cluster Sum of Squares\n",
        "    plt.show()\n",
        "\n",
        "# Create an interactive slider for the number of clusters (k)\n",
        "interact(plot_elbow_method, k=widgets.IntSlider(min=1, max=10, step=1, value=3))"
      ],
      "metadata": {
        "id": "hsRe_oITD_6T"
      },
      "execution_count": null,
      "outputs": []
    },
    {
      "cell_type": "markdown",
      "source": [
        "What is the best number of clusters according to the Elbow Method?"
      ],
      "metadata": {
        "id": "vTPKcnShHJUp"
      }
    },
    {
      "cell_type": "markdown",
      "source": [
        "## K-Means Clustering\n",
        "Based on the Elbow Method, let's choose the optimal K.\n",
        "\n",
        "### Applying K-means Clustering\n",
        "We choose the number of clusters based on the \"elbow\" observed in the WCSS graph, which indicates a balance between cluster compactness and simplicity."
      ],
      "metadata": {
        "id": "xupCVrOgHSHO"
      }
    },
    {
      "cell_type": "code",
      "source": [
        "k_optimal = 5\n",
        "\n",
        "# Apply K-means clustering\n",
        "kmeans = KMeans(n_clusters=k_optimal, init='k-means++', max_iter=300, n_init=10, random_state=0)\n",
        "\n",
        "# Fit the KMeans model and assign cluster labels to the DataFrame\n",
        "# Hint: use kmeans.fit_predict and pass X_scaled\n",
        "df['Cluster'] = <your-code-here>\n",
        "\n",
        "# Display the clustered data\n",
        "df.head()"
      ],
      "metadata": {
        "id": "8RpwYCqRHBUJ"
      },
      "execution_count": null,
      "outputs": []
    },
    {
      "cell_type": "markdown",
      "source": [
        "## Visualizing Clusters\n",
        "Let's use a scatter plot to visualize the clusters formed by K-means.\n",
        "\n",
        "Each point represents a customer, and the color indicates the cluster to which they belong.\n"
      ],
      "metadata": {
        "id": "v73QV21eHbAR"
      }
    },
    {
      "cell_type": "code",
      "source": [
        "# Visualize the clusters\n",
        "# Hint: pass df['Cluster'] for the `c` parameter\n",
        "plt.scatter(X_scaled[:, 0], X_scaled[:, 1], c=<cluster-column>, cmap='viridis', s=50)\n",
        "\n",
        "# Add centroids to the plot (students can customize the marker style, color, etc.)\n",
        "plt.scatter(kmeans.cluster_centers_[:, 0], kmeans.cluster_centers_[:, 1], s=200, c='red', marker='X', label='Centroids')\n",
        "\n",
        "# Set plot title and axis labels\n",
        "plt.title('K-means Clustering')\n",
        "plt.xlabel('Annual Income (Standardized)')\n",
        "plt.ylabel('Spending Score (Standardized)')\n",
        "\n",
        "# Add legend to the plot\n",
        "plt.legend()\n",
        "\n",
        "# Display the plot\n",
        "plt.show()"
      ],
      "metadata": {
        "id": "NCDDyvSDGJeh"
      },
      "execution_count": null,
      "outputs": []
    },
    {
      "cell_type": "markdown",
      "source": [],
      "metadata": {
        "id": "NwTEojYBH1cc"
      }
    }
  ]
}