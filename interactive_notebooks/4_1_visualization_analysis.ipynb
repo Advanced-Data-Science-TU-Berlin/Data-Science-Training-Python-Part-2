{
  "nbformat": 4,
  "nbformat_minor": 0,
  "metadata": {
    "colab": {
      "provenance": [],
      "authorship_tag": "ABX9TyPaTqgLfWxJWDS9XQKE5j3V",
      "include_colab_link": true
    },
    "kernelspec": {
      "name": "python3",
      "display_name": "Python 3"
    },
    "language_info": {
      "name": "python"
    }
  },
  "cells": [
    {
      "cell_type": "markdown",
      "metadata": {
        "id": "view-in-github",
        "colab_type": "text"
      },
      "source": [
        "<a href=\"https://colab.research.google.com/github/Advanced-Data-Science-TU-Berlin/Data-Science-Training-Python-Part-2/blob/main/interactive_notebooks/4_1_visualization_analysis.ipynb\" target=\"_parent\"><img src=\"https://colab.research.google.com/assets/colab-badge.svg\" alt=\"Open In Colab\"/></a>"
      ]
    },
    {
      "cell_type": "markdown",
      "source": [
        "# Covid-19 Vaccines Analysis\n",
        "Many vaccines have been introduced so far to fight covid-19. No vaccine has guaranteed 100% accuracy so far, but most manufacturing companies claim their vaccine is not 100% accurate, but still, it will save your life by giving you immunity.\n",
        "\n",
        "Thus, each country tries to vaccinate a large part of its population so as not to depend on a single vaccine. That’s what we are going to analyze in this exercise, which is how many vaccines each country is using to fight covid-19.\n",
        "\n",
        "We used the data from Kaggle dataset [here](https://www.kaggle.com/datasets/gpreda/covid-world-vaccination-progress). Feel free to navigate through data and its columns.\n",
        "\n",
        "Let's get the data first."
      ],
      "metadata": {
        "id": "a8QHz5dB1_K_"
      }
    },
    {
      "cell_type": "code",
      "source": [
        "!pip install opendatasets\n",
        "!pip install wordcloud"
      ],
      "metadata": {
        "id": "YoWA45KJ28aQ"
      },
      "execution_count": null,
      "outputs": []
    },
    {
      "cell_type": "code",
      "source": [
        "import opendatasets as od\n",
        "od.download(\"https://www.kaggle.com/datasets/gpreda/covid-world-vaccination-progress\", force=True)"
      ],
      "metadata": {
        "id": "PrhyQCn_3C6m"
      },
      "execution_count": null,
      "outputs": []
    },
    {
      "cell_type": "code",
      "source": [
        "import matplotlib.pyplot as plt\n",
        "import numpy as np\n",
        "import pandas as pd"
      ],
      "metadata": {
        "id": "1BcxD6MW49PY"
      },
      "execution_count": 3,
      "outputs": []
    },
    {
      "cell_type": "code",
      "execution_count": null,
      "metadata": {
        "id": "q_C1EwAB14Nn"
      },
      "outputs": [],
      "source": [
        "# Load the data into Pandas DataFrame\n",
        "# Hint: use pd.read_csv and pass \"/content/covid-world-vaccination-progress/country_vaccinations.csv\"\n",
        "df = <your-code-here>\n",
        "\n",
        "# Look at first few rows\n",
        "df.head()"
      ]
    },
    {
      "cell_type": "markdown",
      "source": [
        "As we can see te dataset has columns like `country`, `iso_code`, `date`, `total_vaccinations`, `people_vaccinated`, `people_fully vaccinated`, etc.\n",
        "\n",
        "An initial look at the above table shows that data has `null values` too. We will deal with null values later.\n",
        "\n",
        "When we have so many columns usually `info()` function is used to get the overview of data like data type of feature, a number of null values in each column, and many more."
      ],
      "metadata": {
        "id": "vIVNByan3e19"
      }
    },
    {
      "cell_type": "code",
      "source": [
        "# Get info about the data\n",
        "# Hint: use df.info()\n",
        "<your-code-here>"
      ],
      "metadata": {
        "id": "CZtpHVTp3Tg5"
      },
      "execution_count": null,
      "outputs": []
    },
    {
      "cell_type": "markdown",
      "source": [
        "The above results shows that there are many null values in our dataset which we are going to deal with these null values later. There are two data types as seen from the table object means string and float."
      ],
      "metadata": {
        "id": "A5CTA1ce3x9a"
      }
    },
    {
      "cell_type": "code",
      "source": [
        "# Total count of null values\n",
        "# Hint: use df.isnull() and then .sum()\n",
        "<your-code-here>"
      ],
      "metadata": {
        "id": "5UsMR84G3UmA"
      },
      "execution_count": null,
      "outputs": []
    },
    {
      "cell_type": "markdown",
      "source": [
        "## Data Cleaning\n",
        "When we are dealing with real datasets we have to make sure about data quality before starting any type of analysis.\n",
        "Here we are going through some of the necessary data cleaning steps:"
      ],
      "metadata": {
        "id": "fpxN9g-w4NPr"
      }
    },
    {
      "cell_type": "code",
      "source": [
        "# Simply replacing null values with 0\n",
        "# Hint: use df.fillna nad pass value=0 and inplace=True\n",
        "<your-code-here>\n",
        "\n",
        "# Convering Floats to Int cause they are count values\n",
        "# Hint: use df.dtypes.items() to loop over columns and their type\n",
        "for column, dtype in <your-code-here>:\n",
        "  if dtype=='float64':\n",
        "    # Hint: use df[column] and .astype(int)\n",
        "    df[column] = <your-code-here>\n",
        "\n",
        "# Extract Year, Month and Day from the date into separate columns\n",
        "# Hint: use pd.DatetimeIndex(df['date']) and use year, month and day to extract each\n",
        "df['year'] = <your-code-here>\n",
        "df['month'] = <your-code-here>\n",
        "df['day'] = <your-code-here>"
      ],
      "metadata": {
        "id": "Roe17PtO3_Lf"
      },
      "execution_count": 7,
      "outputs": []
    },
    {
      "cell_type": "markdown",
      "source": [
        "### Basic Statistics\n",
        "Let's look at few statistics from the data:"
      ],
      "metadata": {
        "id": "Z_MkC1Z75Ncf"
      }
    },
    {
      "cell_type": "code",
      "source": [
        "# Hint: use .nunique() on df.country and df.vaccines\n",
        "print(\"Number of countries:\", <your-code-here>)\n",
        "print(\"Number of vaccines:\", <your-code-here>)\n",
        "\n",
        "# Hint: use df.date.min() and .max() to capture the date range\n",
        "print(f\"Data range from {<your-code-here>} to {<your-code-here>}\")"
      ],
      "metadata": {
        "id": "6nhOerJX5O9b"
      },
      "execution_count": null,
      "outputs": []
    },
    {
      "cell_type": "markdown",
      "source": [
        "## Total Vaccines per Country\n",
        "\n",
        "Let's calcualte and take a look at the countries and their corresponding total number of vaccines to answer:\n",
        " - what are the top countries based on the total vaccines?"
      ],
      "metadata": {
        "id": "TUEAdbwPDY64"
      }
    },
    {
      "cell_type": "code",
      "source": [
        "# Calculate total number of vaccines per country\n",
        "#   - Group data by country: df.groupby('country')\n",
        "#   - Select the field: .total_vaccinations\n",
        "#   - Get maximum value of the field per group: .max()\n",
        "#   - Sort Descending: .sort_values(ascending=False)\n",
        "countries_total_vaccines_df = <your-code-here>\n",
        "\n",
        "# Print top countries with highest number of vaccines\n",
        "print(countries_total_vaccines_df.head())"
      ],
      "metadata": {
        "id": "KY8j5J9GEBIR"
      },
      "execution_count": null,
      "outputs": []
    },
    {
      "cell_type": "markdown",
      "source": [
        "## Bar Plot\n",
        "We can use bar plot to show top countries with most vaccines. This plot will provide us with more details on how many vaccinations each country has so far in comparison to others."
      ],
      "metadata": {
        "id": "E5ehb3usGSRw"
      }
    },
    {
      "cell_type": "code",
      "source": [
        "# Top-100 countries\n",
        "# Hint: use .iloc[:100] on countries_total_vaccines_df\n",
        "# then .plot.bar nad pass figsize=(20,5)\n",
        "ax_ = <your-code-here>\n",
        "\n",
        "_ = ax_.set_title(\"Top-100 Counties With The Most Vaccinations Overall\")"
      ],
      "metadata": {
        "id": "8tg0Bh2p9bAE"
      },
      "execution_count": null,
      "outputs": []
    },
    {
      "cell_type": "markdown",
      "source": [
        "## Word Art of Countries\n",
        "Word Cloud is a unique way to get information from our dataset. The words are shown in the form of art where the size proportional depends on how much the particular word repeated in the dataset. This is made by using the WordCloud library.\n",
        "\n",
        "Here we are showing the country names based on their total vaccinations"
      ],
      "metadata": {
        "id": "AZfJHMGX9LbV"
      }
    },
    {
      "cell_type": "code",
      "source": [
        "from wordcloud import WordCloud\n",
        "\n",
        "# Conver to Dictionary\n",
        "# Hint: use .to_dict() on countries_total_vaccines_df\n",
        "countries_total_vaccines = <your-code-here>\n",
        "\n",
        "# Create WordCloud of country names using their total vaccines\n",
        "# Hint: use WordCloud()\n",
        "wc = <your-code-here>\n",
        "\n",
        "# Hint: use generate_from_frequencies and pass countries_total_vaccines\n",
        "wc.<your-code-here>\n",
        "\n",
        "# Plot the word cloud\n",
        "plt.figure(figsize=(15,7))\n",
        "plt.axis('off')\n",
        "\n",
        "# Plot the output of WorlCloud which is an image\n",
        "# Hint: use plt.imshow(wc)\n",
        "<your-code-here>\n",
        "\n",
        "plt.show()"
      ],
      "metadata": {
        "id": "m6ATKMJL5P6o"
      },
      "execution_count": null,
      "outputs": []
    },
    {
      "cell_type": "markdown",
      "source": [
        "## Vaccination Trend"
      ],
      "metadata": {
        "id": "5UcUUqKyErqS"
      }
    },
    {
      "cell_type": "markdown",
      "source": [
        "### Line Plot\n",
        "In order to check what is the vaccination trend in each country, we are drawing the line plot where the x-axis is the date and the y-axis is the count of daily vaccination, Colours Is set to be the country.\n",
        "\n",
        "### Plotly\n",
        "Let's use `plotly` another useful python package for visualization.\n",
        "This package will provide us with an `interactive` plot which you can cross-over and see more detailed information regarding individual points on the plot."
      ],
      "metadata": {
        "id": "NtImewrPIkdQ"
      }
    },
    {
      "cell_type": "code",
      "source": [
        "import plotly.express as px\n",
        "\n",
        "# Plot an interactive line plot\n",
        "# Hint: use px.line and pass df, x='date', y='daily_vaccinations and color='country'\n",
        "<your-code-here>\n",
        "\n",
        "# Set the title\n",
        "fig.update_layout(\n",
        "    title={\n",
        "            'text' : \"Daily vaccination trend\",\n",
        "            'y':0.95, # Proportion from the bottom\n",
        "            'x':0.5 # Proportion from the left\n",
        "        },\n",
        "    xaxis_title=\"Date\",\n",
        "    yaxis_title=\"Daily Vaccinations\"\n",
        ")\n",
        "\n",
        "# Show the plot\n",
        "fig.show()"
      ],
      "metadata": {
        "id": "0NhQskq_Ggdj"
      },
      "execution_count": null,
      "outputs": []
    },
    {
      "cell_type": "markdown",
      "source": [
        "As we can see, there is a mixed kind of trend among each country. Sometimes a particular country shows a positive trend and sometimes it shows a negative trend."
      ],
      "metadata": {
        "id": "TLBBA9p0J0Eo"
      }
    },
    {
      "cell_type": "markdown",
      "source": [
        "## Missing Values in Cumulative Fields\n",
        "Previously we simply replaced the missing values with 0. Let's take a look at what does it mean to have zeros in a field that aggregates over time (cumulative field):\n",
        "\n",
        "Let's consider the total number of people being vaccinated (people_vaccinated column). We expect this value to aggregate and increase over time. If we don't have the value for one specific date (NULL value) what does it mean? Does it mean that we took back the vaccination from the people who had already been vaccined!? :D I don't think so!\n",
        "\n",
        "In worth case scenario, we can assume that there were no new vaccines on that day this will keep the value of the field the same as before.\n",
        "\n",
        "So let's replace the zero values with the existing previous value for the `people_vaccinated` column and see the difference for a sample country that has missing values:"
      ],
      "metadata": {
        "id": "6-xCma8KNVx0"
      }
    },
    {
      "cell_type": "code",
      "source": [
        "# Sample country with missing values\n",
        "country = 'Ireland'\n",
        "\n",
        "# Sample cumulative column with missing values\n",
        "column = 'people_vaccinated'\n",
        "\n",
        "# Select the data only for the given country and field\n",
        "# Hint: use df.query and pass f\"country=='{country}'\"\n",
        "# then select [['date', column]]\n",
        "selected_df = <your-code-here>\n",
        "\n",
        "# Create a plot\n",
        "fig, ax = plt.subplots(1,2, figsize=(15,5))\n",
        "\n",
        "# Plot the data with missing values\n",
        "# Hint: use selected_df.plot and pass x='date', y=column and ax=ax[0]\n",
        "<your-code-here>\n",
        "\n",
        "# replace the zeros with ffill which propagates last valid observation forward to next valid backfill\n",
        "# Hint: use selected_df.replace and pass to_replace=0, method='ffill'\n",
        "no_missing_df = <your-code-here>\n",
        "\n",
        "# Plot the data without missing values\n",
        "no_missing_df.plot(x='date', y=column, ax=ax[1])"
      ],
      "metadata": {
        "id": "nDbaOM2TOaMX"
      },
      "execution_count": null,
      "outputs": []
    },
    {
      "cell_type": "markdown",
      "source": [
        "## People Vaccinated VS Fully Vaccinated\n",
        "Now let’s try to compare two fields with each other. For example, let's analyze how many people vaccinated vs the people which are fully vaccinated in a country (EX. Germany)\n",
        "\n"
      ],
      "metadata": {
        "id": "2HQXbxn8J95O"
      }
    },
    {
      "cell_type": "code",
      "source": [
        "# Select the Country\n",
        "country = 'Germany'\n",
        "\n",
        "# Select the columns to compare\n",
        "column_1 = 'people_fully_vaccinated'\n",
        "column_2 = 'people_vaccinated'\n",
        "\n",
        "# Select the data only for the given country and fields\n",
        "# Hint: use df.query and pass f\"country=='{country}'\"\n",
        "# select the columns [['date', column_1, column_2]]\n",
        "selected_df = <your-code-here>\n",
        "\n",
        "# Replace zeros using ffill method\n",
        "# Hint: use selected_df.replace and pass to_replace=0, method='ffill'\n",
        "no_missing_df = <your-code-here>\n",
        "\n",
        "# Plot the data\n",
        "fig, ax = plt.subplots(figsize=(10,5))\n",
        "\n",
        "no_missing_df.plot(x='date', ax=ax)"
      ],
      "metadata": {
        "id": "KxjpdjlKKOVE"
      },
      "execution_count": null,
      "outputs": []
    },
    {
      "cell_type": "markdown",
      "source": [
        "Can you interpret this?"
      ],
      "metadata": {
        "id": "wC23sIDVU7Bn"
      }
    },
    {
      "cell_type": "markdown",
      "source": [
        "Let's use the graph_objects from `plotly` which uses scatter plots and `stackgroup` to stack these two plots together:"
      ],
      "metadata": {
        "id": "z57qOyaFUz1i"
      }
    },
    {
      "cell_type": "code",
      "source": [
        "import plotly.graph_objects as go\n",
        "\n",
        "plot = go.Figure(data=[\n",
        "    # Hint: use no_missing_df['date'] for x and no_missing_df[column_1] for y\n",
        "            go.Scatter( # First plot based on first column\n",
        "              x = <your-code-here>,\n",
        "              y = <your-code-here>,\n",
        "              stackgroup='one', # set a stackgroup name\n",
        "              name = column_1,\n",
        "              marker_color= 'orange'),\n",
        "            go.Scatter( # Second plot based on second column\n",
        "              x = no_missing_df['date'],\n",
        "              y = no_missing_df[column_2],\n",
        "              stackgroup='one', # use the same stackgroup name as the previous\n",
        "              name = column_2,\n",
        "              marker_color= 'blue')\n",
        "            ])\n",
        "plot.update_layout(\n",
        "    title={\n",
        "            'text': f'People vaccinated vs Fully vaccinated till date in {country}',\n",
        "            'y':0.95,\n",
        "            'x':0.5\n",
        "        },\n",
        "        xaxis_title=\"Date\"\n",
        "    )\n",
        "plot.show()"
      ],
      "metadata": {
        "id": "PRsOidpMIHOv"
      },
      "execution_count": null,
      "outputs": []
    },
    {
      "cell_type": "markdown",
      "source": [
        "As we can see there are around 60M people fully vaccinated in Germany."
      ],
      "metadata": {
        "id": "oXtPThRzZwep"
      }
    },
    {
      "cell_type": "markdown",
      "source": [
        "## Comparison Fully Vaccinated Between 2 Countries:\n",
        "Now let's compare the number of fully vaccinated people between two countries (Ex. Germany vs France)"
      ],
      "metadata": {
        "id": "WCMP1FsFGxP8"
      }
    },
    {
      "cell_type": "code",
      "source": [
        "# Select countries\n",
        "country_1 = 'Germany'\n",
        "country_2 = 'France'\n",
        "\n",
        "# Select the column\n",
        "column = 'people_fully_vaccinated_per_hundred'\n",
        "\n",
        "# Select data for target countries for comparison\n",
        "# Hint: use .query() and pass f\"country=='{country_1}' or country=='{country_2}'\"\n",
        "# select columns [['date', 'country', column]]\n",
        "selected_df = <your-code-here>\n",
        "\n",
        "# Plot two countries data in one plot\n",
        "# Hint: use px.line and pass selected_df and\n",
        "# x='date', y=column, color='country'\n",
        "fig = <your-code-here>\n",
        "\n",
        "fig.update_layout(\n",
        "    title={\n",
        "            'text': f\"{column} - {country_1} vs {country_2}\",\n",
        "            'y':0.95,\n",
        "            'x':0.5\n",
        "        },\n",
        "    xaxis_title=\"Date\",\n",
        "    yaxis_title=column\n",
        ")\n",
        "fig.show()"
      ],
      "metadata": {
        "id": "0DllsaTWKal9"
      },
      "execution_count": null,
      "outputs": []
    },
    {
      "cell_type": "markdown",
      "source": [
        "As we can see both countries had rather similar pace on number of fully vaccinated people untill May 2021 then we can see that Germany moved faster up to September 21 and then France had increased but both are following same pattern."
      ],
      "metadata": {
        "id": "oEU5I16Zbr4J"
      }
    },
    {
      "cell_type": "markdown",
      "source": [
        "## Point Map\n",
        "Now let's see how vaccinations are going in different countries using maps. The sizes are corresponding to `people_vaccinated_per_hundred` and different colors has been used for different countries."
      ],
      "metadata": {
        "id": "i8ZC73ZpcG4c"
      }
    },
    {
      "cell_type": "code",
      "source": [
        "# Select column\n",
        "column = \"people_vaccinated_per_hundred\"\n",
        "\n",
        "# Find last available date in our data\n",
        "# Hint: use df.date.max()\n",
        "captured_date = <your-code-here>\n",
        "print(\"Last date:\", captured_date)\n",
        "\n",
        "\n",
        "# Select max values per countries\n",
        "# Hint: use df.groupby and pass [\"country\", \"iso_code\"], as_index=False\n",
        "# select [column] and .max()\n",
        "\n",
        "selected_df = <your-code-here>\n",
        "\n",
        "# Plot data on map\n",
        "# Hint: use px.scatter_geo and pass selected_df\n",
        "# use \"iso_code\" for location and \"country\" for color\n",
        "fig = px.scatter_geo(<your-code-here>,\n",
        "                     locations=<your-code-here>,\n",
        "                     color=<your-code-here>, # which column to use to set the color of markers\n",
        "                     hover_name=\"country\", # column added to hover information\n",
        "                     size=column, # size of markers\n",
        "                     projection=\"natural earth\")\n",
        "fig.show()"
      ],
      "metadata": {
        "id": "m88jF6kYLD_D"
      },
      "execution_count": null,
      "outputs": []
    },
    {
      "cell_type": "markdown",
      "source": [
        "## Choropleth Map\n",
        " Let's look at the same data but in a slightly different view using `choroplethmap`"
      ],
      "metadata": {
        "id": "D9036K-ff8cQ"
      }
    },
    {
      "cell_type": "code",
      "source": [
        "# Hint: use px.choropleth and pass selected_df\n",
        "# for location use \"iso_code\" and for locationmode use \"ISO-3\"\n",
        "# color=column, hover_name=\"country\", color_continuous_scale=px.colors.sequential.Blues\n",
        "<your-code-here>\n"
      ],
      "metadata": {
        "id": "_AzEvth_dL51"
      },
      "execution_count": null,
      "outputs": []
    },
    {
      "cell_type": "markdown",
      "source": [
        "Usefull links:\n",
        "- https://www.analyticsvidhya.com/blog/2021/05/analyze-covid-vaccination-progress-using-python/\n",
        "- https://thecleverprogrammer.com/2021/04/13/covid-19-vaccines-analysis-with-python/"
      ],
      "metadata": {
        "id": "rIbzfUGrnqvl"
      }
    },
    {
      "cell_type": "code",
      "source": [],
      "metadata": {
        "id": "dm6zV-iKlFtP"
      },
      "execution_count": null,
      "outputs": []
    }
  ]
}