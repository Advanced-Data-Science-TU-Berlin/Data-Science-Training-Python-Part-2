{
  "nbformat": 4,
  "nbformat_minor": 0,
  "metadata": {
    "colab": {
      "name": "5_1_social_network_analysis.ipynb",
      "provenance": [],
      "authorship_tag": "ABX9TyN0dZKTKJ8qRHxmHLS1b5DK",
      "include_colab_link": true
    },
    "kernelspec": {
      "name": "python3",
      "display_name": "Python 3"
    },
    "language_info": {
      "name": "python"
    }
  },
  "cells": [
    {
      "cell_type": "markdown",
      "metadata": {
        "id": "view-in-github",
        "colab_type": "text"
      },
      "source": [
        "<a href=\"https://colab.research.google.com/github/Advanced-Data-Science-TU-Berlin/Data-Science-Training-Python-Part-2/blob/main/interactive_notebooks/3_1_social_network_analysis.ipynb\" target=\"_parent\"><img src=\"https://colab.research.google.com/assets/colab-badge.svg\" alt=\"Open In Colab\"/></a>"
      ]
    },
    {
      "cell_type": "markdown",
      "source": [
        "# Social Network Analysis (SNA)\n",
        "\n",
        "<img src=\"https://gatton.uky.edu/sites/default/files/iStock-networkWEB.png\" width=500>\n",
        "\n",
        "Social network analysis is the process of investigating social structures through the use of networks and graph theory. In this exercise  will go through the theory of social networks, graph theory and information spread. It dives into Python code with NetworkX constructing and implying social networks from real datasets.\n",
        "\n",
        "Networks can be constructed from various datasets, as long as we’re able to describe the relations between nodes. In the following example we’ll build and visualize the [Eurovision 2018 votes network](https://www.kaggle.com/datasets/mylesoneill/eurovision-2018-voting-results) with Python networkx package.\n",
        "\n",
        "Let's load the data and look at it:"
      ],
      "metadata": {
        "id": "oVFAA6lcS9r6"
      }
    },
    {
      "cell_type": "code",
      "execution_count": null,
      "metadata": {
        "id": "O-SlMo6NRogH"
      },
      "outputs": [],
      "source": [
        "!pip install opendatasets\n",
        "!pip install country_converter\n",
        "!pip install colorthief"
      ]
    },
    {
      "cell_type": "code",
      "source": [
        "import opendatasets as od\n",
        "od.download(\"https://www.kaggle.com/datasets/mylesoneill/eurovision-2018-voting-results\", force=True)\n",
        "od.download(\"https://www.kaggle.com/datasets/alexkaechele/country-geo\", force=True)"
      ],
      "metadata": {
        "id": "oPXV1n58Tuz6"
      },
      "execution_count": null,
      "outputs": []
    },
    {
      "cell_type": "code",
      "source": [
        "import matplotlib.pyplot as plt\n",
        "import numpy as np\n",
        "import pandas as pd\n",
        "import seaborn as sns"
      ],
      "metadata": {
        "id": "NgD42ivLTzcS"
      },
      "execution_count": 3,
      "outputs": []
    },
    {
      "cell_type": "code",
      "source": [
        "# Load the dataset into a Pandas DataFrame\n",
        "# Hint: use pd.read_csv and pass /content/eurovision-2018-voting-results/eurovision-2018-votes.csv\n",
        "df = <your-code-here>\n",
        "\n",
        "df.head()"
      ],
      "metadata": {
        "id": "kk-K9ZZox8vv"
      },
      "execution_count": null,
      "outputs": []
    },
    {
      "cell_type": "markdown",
      "source": [
        "## Network Structure\n",
        "Here we have a directed and weighted social network\n",
        "- `Countries` represent `nodes`\n",
        "- The `edges` are directed from the `voting-country` to the `voted-for` country\n",
        "- The `weights` on the edges are based on `jury-points` and `televoting-points`\n",
        "\n",
        "\n",
        "## Pre-processing\n",
        "Let's clean our data and calculate the total point given to each country from a source country:"
      ],
      "metadata": {
        "id": "6f33ZI2rWz0i"
      }
    },
    {
      "cell_type": "code",
      "source": [
        "# Replace '-' with 0\n",
        "# Hint: use df.replace and pass '-' and 0 as inputs\n",
        "df = <your-code-here>\n",
        "\n",
        "# Convert numerical columns to int\n",
        "# Hint: use .apply and pass pd.to_numeric\n",
        "df[df.columns[2:]] = df[df.columns[2:]]<your-code-here>\n",
        "\n",
        "# Calculate total points (jury + televoting)\n",
        "# Hint: sum df['jury-points'] and df['televoting-points'] using `+`\n",
        "df['total_points'] = <your-code-here>\n",
        "\n",
        "# Rename some columns for clarity\n",
        "df.rename(columns={'voting-country': 'source_country', 'voted-for': 'target_country'}, inplace=True)\n",
        "\n",
        "# Rename some countries for consistency\n",
        "df.replace({\"The Netherlands\": \"Netherlands\", \"F.Y.R. Macedonia\": \"Macedonia [FYROM]\"}, inplace=True)"
      ],
      "metadata": {
        "id": "D1qSXsnvz5hK"
      },
      "execution_count": null,
      "outputs": []
    },
    {
      "cell_type": "markdown",
      "source": [
        "## Top-10 Scoreboard\n",
        "Let's take a look at final scoreboard (Top-10) which shows Israel was the winner in 2018."
      ],
      "metadata": {
        "id": "VN392AJst-zF"
      }
    },
    {
      "cell_type": "code",
      "source": [
        "# Grouping the DataFrame by target_country and summing the total points for each country\n",
        "# Hint: select total_points column by [['total_points']] and apply .sum()\n",
        "top_10_scoreboard = df.groupby('target_country')<your-code-here>\n",
        "\n",
        "# Sorting the DataFrame in descending order based on total_points and selecting the top 10\n",
        "# Hint: use .sort_values and pass 'total_points' and ascending=False then use .head(10)\n",
        "top_10_scoreboard = top_10_scoreboard<your-code-here>\n",
        "\n",
        "# Highlighting the maximum values in the 'total_points' column with a green color\n",
        "# This helps emphasize the winning country\n",
        "top_10_scoreboard.style.highlight_max(color='green', axis=0)"
      ],
      "metadata": {
        "id": "E9XsiYVK04Qu"
      },
      "execution_count": null,
      "outputs": []
    },
    {
      "cell_type": "markdown",
      "source": [
        "## Building the Graph\n",
        " Let's build a directed, weighted networkx graph from our edgelist:"
      ],
      "metadata": {
        "id": "QNp4YCGZZobV"
      }
    },
    {
      "cell_type": "code",
      "source": [
        "# Importing the necessary library for building graphs\n",
        "import networkx as nx\n",
        "\n",
        "# Building a directed, weighted networkx graph from the DataFrame's edgelist\n",
        "# Create an empty directed graph\n",
        "# Hint: use from_pandas_edgelist\n",
        "#   pass df as first argument\n",
        "#   pass 'source_country', 'target_country' and 'total_points' for source, target and edge_attr correspondingly\n",
        "G = nx.<your-function-here>(\n",
        "    <your-data-frame>,\n",
        "    source=<source-column>,\n",
        "    target=<target-column>,\n",
        "    edge_attr=<edge-weight-column>,\n",
        "    create_using=nx.DiGraph()\n",
        ")\n",
        "\n",
        "# Display information about the constructed graph\n",
        "print(G)"
      ],
      "metadata": {
        "id": "dMf3iiJh1iDw"
      },
      "execution_count": null,
      "outputs": []
    },
    {
      "cell_type": "markdown",
      "source": [
        "As we can see the network only has 44 nodes but lots of edges.\n",
        "\n",
        "Let's get rid of the edges with 0 total_points:"
      ],
      "metadata": {
        "id": "4A1rbN0kcXIO"
      }
    },
    {
      "cell_type": "code",
      "source": [
        "# Create a new directed graph excluding edges with 0 total_points\n",
        "# Hint: write the if condition if e[2]['total_points']>0\n",
        "sub_G = G.edge_subgraph([(e[0], e[1]) for e in G.edges(data=True) <if-condition>])\n",
        "\n",
        "# Display information about the subgraph\n",
        "print(G)"
      ],
      "metadata": {
        "id": "mPSdVyWN27Tq"
      },
      "execution_count": null,
      "outputs": []
    },
    {
      "cell_type": "markdown",
      "source": [
        "As we can see we could manage to reduce the edges into half."
      ],
      "metadata": {
        "id": "QIn4Ra1XjthV"
      }
    },
    {
      "cell_type": "markdown",
      "source": [
        "## Visualizing the Graph\n",
        "Now let's try to visualize the network using their actual geo locations and their flag:\n",
        "> For countries location we are using [this](https://www.kaggle.com/datasets/alexkaechele/country-geo) data\n",
        "\n",
        "> For countries flags we are using [this](https://github.com/dimgold/pycon_social_networkx/blob/master/flags/) git repository."
      ],
      "metadata": {
        "id": "5r3tEd5yq3T8"
      }
    },
    {
      "cell_type": "code",
      "source": [
        "import country_converter as coco\n",
        "\n",
        "# Reading countries geo locations\n",
        "countries = pd.read_csv(\"/content/country-geo/country_data.csv\")\n",
        "# Set 'name' as the indext\n",
        "# Hint: use .set_index on countries and pass 'name' and inplace=True\n",
        "<your-code-here>\n",
        "\n",
        "# Get ISO3 to download the flags from the repo\n",
        "countries['ISO3'] = coco.convert(names=countries.country, to='ISO3')\n",
        "\n",
        "pos_geo = {}  # Initialize an empty dictionary to store node positions\n",
        "\n",
        "# Iterate over all nodes in the graph\n",
        "for node in G.nodes():\n",
        "    # Extract latitude and longitude information from the 'countries' DataFrame\n",
        "    latitude = countries.loc[node]['latitude']\n",
        "    longitude = countries.loc[node]['longitude']\n",
        "\n",
        "    # Fix the scale of latitude and longitude to fit within a reasonable range\n",
        "    scaled_latitude = max(latitude, 25)  # Latitude should be at least 25\n",
        "    scaled_longitude = max(-10, min(longitude, 55))  # Longitude should be between -10 and 55\n",
        "\n",
        "    # Store the scaled coordinates in the dictionary\n",
        "    pos_geo[node] = (scaled_longitude, scaled_latitude)\n",
        "\n",
        "display(countries.head())"
      ],
      "metadata": {
        "id": "ZuP_BVMT3eUy"
      },
      "execution_count": null,
      "outputs": []
    },
    {
      "cell_type": "markdown",
      "source": [
        "## Downloading the Flags\n",
        "\n",
        "> colorthief is a module for grabbing the color palette from an image.\n",
        "\n"
      ],
      "metadata": {
        "id": "_BjtsOah8QEy"
      }
    },
    {
      "cell_type": "code",
      "source": [
        "import requests\n",
        "import tqdm\n",
        "from colorthief import ColorThief\n",
        "\n",
        "flags = {}         # Dictionary to store the file names of downloaded flags\n",
        "flag_color = {}    # Dictionary to store the dominant color of each flag\n",
        "\n",
        "# Iterate over all nodes in the graph\n",
        "for country_name in tqdm.notebook.tqdm(G.nodes()):\n",
        "  # Generate a iso3 file name for each flag as lower-case\n",
        "  # Hint: use .lower()\n",
        "  iso3_name = (countries.loc[country_name]['ISO3'])<your-code-here>\n",
        "\n",
        "  # Fetch the flag image from the GitHub repository\n",
        "  response = requests.get(f'https://github.com/dimgold/pycon_social_networkx/raw/master/flags/{iso3_name}.png')\n",
        "\n",
        "  # Save the flag image with the generated file name\n",
        "  with open(f\"{iso3_name}.png\", \"wb\") as file:\n",
        "    # Write to the file\n",
        "    # Hint: use file.write and pass response.content\n",
        "    <your-code-here>\n",
        "\n",
        "  flags[country_name] = f\"{iso3_name}.png\"  # Store the file name in the 'flags' dictionary\n",
        "\n",
        "  # Get the dominant color of the flag using the ColorThief library\n",
        "  flag_color[country_name] = ColorThief(flags[country_name]).get_color(quality=1)"
      ],
      "metadata": {
        "id": "7arnld3x77km"
      },
      "execution_count": null,
      "outputs": []
    },
    {
      "cell_type": "markdown",
      "source": [
        "## Graph Visualization with Flags\n",
        "This part of the code defines a function plot_G that visualizes the Eurovision 2018 Final Votes graph using NetworkX and the flags downloaded earlier."
      ],
      "metadata": {
        "id": "cjBke1u_-x6H"
      }
    },
    {
      "cell_type": "code",
      "source": [
        "import matplotlib as mpl\n",
        "\n",
        "# Function to convert RGB values to hexadecimal color code\n",
        "def RGB(red, green, blue):\n",
        "    return '#%02x%02x%02x' % (red, green, blue)\n",
        "\n",
        "# Function to plot the Eurovision 2018 Final Votes graph\n",
        "def plot_G(G):\n",
        "    plt.figure(figsize=(20, 20))\n",
        "    ax = plt.gca() # Get current Axis\n",
        "    fig = plt.gcf() # Get current Figure\n",
        "    plt.axis('off')\n",
        "    plt.title('Eurovision 2018 Final Votes', fontsize=24)\n",
        "\n",
        "    trans = ax.transData.transform\n",
        "    trans2 = fig.transFigure.inverted().transform\n",
        "\n",
        "    tick_params = {'top': 'off', 'bottom': 'off', 'left': 'off', 'right': 'off',\n",
        "                   'labelleft': 'off', 'labelbottom': 'off'}  # flag grid params\n",
        "\n",
        "    styles = ['dotted', 'dashdot', 'dashed', 'solid']  # line styles\n",
        "\n",
        "    pos = pos_geo  # Geo locations of nodes\n",
        "\n",
        "    # Draw edges\n",
        "    for e in G.edges(data=True):\n",
        "        width = e[2]['total_points'] / 24  # normalize by max points\n",
        "        style = styles[int(width * 3)]\n",
        "        if width > 0.3:  # filter small votes\n",
        "            nx.draw_networkx_edges(G, pos, edgelist=[e], width=width, style=style)\n",
        "\n",
        "    # Draw nodes\n",
        "    for node in G.nodes():\n",
        "        imsize = max((0.3 * G.in_degree(node, weight='total_points')\n",
        "                      / max(dict(G.in_degree(weight='total_points')).values())) ** 2, 0.03)\n",
        "\n",
        "        # Size is proportional to the votes\n",
        "        flag = mpl.image.imread(flags[node])\n",
        "\n",
        "        (x, y) = pos[node]\n",
        "        xx, yy = trans((x, y))  # figure coordinates\n",
        "        xa, ya = trans2((xx, yy))  # axes coordinates\n",
        "\n",
        "        country = plt.axes([xa - imsize / 2.0, ya - imsize / 2.0, imsize, imsize])\n",
        "        country.imshow(flag)\n",
        "        country.set_aspect('equal')\n",
        "        country.tick_params(**tick_params)\n",
        "\n",
        "# Call the function to plot the graph\n",
        "plot_G(sub_G)"
      ],
      "metadata": {
        "id": "j-Bpp3mS-tOP"
      },
      "execution_count": null,
      "outputs": []
    },
    {
      "cell_type": "markdown",
      "source": [
        "The new figure is giving us a brief overview of the votes. As a general side-note, plotting networks is often hard and requires to perform thoughtful tradeoffs between the amount of data presented and the communicated message. (You can try to explore other network visualization tools such as Gephi , Pyvis or GraphChi)."
      ],
      "metadata": {
        "id": "13HcMrIWqxQX"
      }
    },
    {
      "cell_type": "markdown",
      "source": [
        "## Centrality Measures\n",
        "Centrality measures are a vital tool for understanding networks. These algorithms use graph theory to calculate the importance of any given node in a network. They cut through noisy data, revealing parts of the network that need attention – but they all work differently. Each measure has its own definition of ‘importance’, so you need to understand how they work to find the best one for your graph visualization applications.\n",
        "> To read more check [here](https://cambridge-intelligence.com/keylines-faqs-social-network-analysis/#:~:text=Definition%3A%20Betweenness%20centrality%20measures%20the,each%20node%20falls%20on%20one.)"
      ],
      "metadata": {
        "id": "i0HYuuLKj2_T"
      }
    },
    {
      "cell_type": "markdown",
      "source": [
        "### Degree centrality\n",
        "**Definition:** Degree centrality assigns an importance score based simply on the number of links held by each node.\n",
        "\n",
        "**What it tells us:** How many direct, ‘one hop’ connections each node has to other nodes in the network.\n",
        "\n",
        "**When to use it:** For finding very connected individuals, popular individuals, individuals who are likely to hold most information or individuals who can quickly connect with the wider network.\n",
        "\n",
        "**A bit more detail:** Degree centrality is the simplest measure of node connectivity. Sometimes it’s useful to look at in-degree (number of inbound links) and out-degree (number of outbound links) as distinct measures, for example when looking at transactional data or account activity."
      ],
      "metadata": {
        "id": "N8Y1AKux0rSS"
      }
    },
    {
      "cell_type": "code",
      "source": [
        "from networkx.algorithms.centrality.degree_alg import degree_centrality\n",
        "\n",
        "# Calculate the degree and weighted degree for each node in the graph\n",
        "degrees_dict = dict(sub_G.degree())\n",
        "weighted_degrees_dict = dict(sub_G.degree(weight='total_points'))\n",
        "\n",
        "# Display basic statistics about the degrees\n",
        "print(f\"Average Degree:\\t\\t {np.mean(list(degrees_dict.values()))}\")\n",
        "print(f\"Max Degree:\\t\\t [{max(degrees_dict, key=degrees_dict.get)}, {max(degrees_dict.values())}]\")\n",
        "print(f\"Max Weighted Degree:\\t [{max(weighted_degrees_dict, key=weighted_degrees_dict.get)}, {max(weighted_degrees_dict.values())}]\")"
      ],
      "metadata": {
        "id": "cRpEGDFBBoVp",
        "outputId": "d20b2efd-51c7-4f93-87c3-ddcd68ded25a",
        "colab": {
          "base_uri": "https://localhost:8080/"
        }
      },
      "execution_count": 51,
      "outputs": [
        {
          "output_type": "stream",
          "name": "stdout",
          "text": [
            "Average Degree:\t\t 30.232558139534884\n",
            "Max Degree:\t\t [Cyprus, 58]\n",
            "Max Weighted Degree:\t [Israel, 645]\n"
          ]
        }
      ]
    },
    {
      "cell_type": "markdown",
      "source": [
        "- Cyprus has the highest degree centrality in the network, with a degree of 58. This means that Cyprus has direct connections with 58 other countries, indicating a high level of connectivity.\n",
        "\n",
        "- Israel has the highest weighted degree centrality in the network, with a weighted degree of 645. This takes into account the total points (jury + televoting) received by Israel, making it the most influential node in terms of both quantity and quality of connections."
      ],
      "metadata": {
        "id": "vr08JZFSEH3L"
      }
    },
    {
      "cell_type": "code",
      "source": [
        "# Plot histograms for degree and weighted degree\n",
        "fig, ax = plt.subplots(1, 2, figsize=(20, 5))\n",
        "ax[0].hist(degrees_dict.values(), bins=len(set(degrees_dict.values())))\n",
        "ax[0].hist(degrees_dict.values(), bins=100, cumulative=1, alpha=0.2)\n",
        "ax[0].set_title(\"Degree Histogram\")\n",
        "ax[0].set_xlabel(\"Degree\")\n",
        "ax[0].set_ylabel(\"#Nodes\")\n",
        "\n",
        "ax[1].hist(weighted_degrees_dict.values(), bins=len(set(weighted_degrees_dict.values())))\n",
        "ax[1].set_title(\"Weighted Degree Histogram\")\n",
        "ax[1].set_xlabel(\"Weighted Degree\")\n",
        "ax[1].set_ylabel(\"#Nodes\")\n",
        "\n",
        "plt.show()"
      ],
      "metadata": {
        "id": "ZuDE7VDHBzH4"
      },
      "execution_count": null,
      "outputs": []
    },
    {
      "cell_type": "code",
      "source": [
        "# Compute the degree centrality for nodes\n",
        "dcs = nx.degree_centrality(sub_G)\n",
        "# Compute the in-degree centrality for nodes\n",
        "in_dcs = nx.in_degree_centrality(sub_G)\n",
        "# Compute the out-degree centrality for nodes\n",
        "out_dcs = nx.out_degree_centrality(sub_G)\n",
        "\n",
        "# Display centrality statistics\n",
        "print(\"Mean Degree Centrality:\", np.mean(list(dcs.values())),\n",
        "      f\"\\n - Node with max DC:\\t [{max(dcs, key=dcs.get)}, {max(dcs.values())}]\")\n",
        "print(\"Mean In Degree Centrality:\", np.mean(list(in_dcs.values())),\n",
        "      f\"\\n - Node with max in-DC:\\t [{max(in_dcs, key=in_dcs.get)}, {max(in_dcs.values())}]\")\n",
        "print(\"Mean Out Degree Centrality:\", np.mean(list(out_dcs.values())),\n",
        "      f\"\\n - Node with max out-DC:\\t [{max(out_dcs, key=out_dcs.get)}, {max(out_dcs.values())}]\")"
      ],
      "metadata": {
        "id": "MPl1-iDmB4Ww",
        "outputId": "d11cc858-6181-4b35-c6f5-b8aabe286dca",
        "colab": {
          "base_uri": "https://localhost:8080/"
        }
      },
      "execution_count": 52,
      "outputs": [
        {
          "output_type": "stream",
          "name": "stdout",
          "text": [
            "Mean Degree Centrality: 0.7198228128460686 \n",
            " - Node with max DC:\t [Cyprus, 1.380952380952381]\n",
            "Mean In Degree Centrality: 0.3599114064230343 \n",
            " - Node with max in-DC:\t [Cyprus, 1.0]\n",
            "Mean Out Degree Centrality: 0.3599114064230343 \n",
            " - Node with max out-DC:\t [France, 0.45238095238095233]\n"
          ]
        }
      ]
    },
    {
      "cell_type": "markdown",
      "source": [
        "- Cyprus has the highest degree centrality in the network, with a degree of 58. This means that Cyprus has direct connections with 58 other countries, indicating a high level of connectivity.\n",
        "\n",
        "- Israel has the highest weighted degree centrality in the network, with a weighted degree of 645. This takes into account the total points (jury + televoting) received by Israel, making it the most influential node in terms of both quantity and quality of connections."
      ],
      "metadata": {
        "id": "FKgav3ZMEPa9"
      }
    },
    {
      "cell_type": "code",
      "source": [
        "# Plot histogram for out-degree centrality\n",
        "plt.hist(out_dcs.values())\n",
        "plt.show()"
      ],
      "metadata": {
        "id": "sXHWZbgZB8WU"
      },
      "execution_count": null,
      "outputs": []
    },
    {
      "cell_type": "markdown",
      "source": [
        "### Betweenness Centrality\n",
        "**Definition:** Betweenness centrality measures the number of times a node lies on the shortest path between other nodes.\n",
        "\n",
        "**What it tells us:** This measure shows which nodes are ‘bridges’ between nodes in a network. It does this by identifying all the shortest paths and then counting how many times each node falls on one.\n",
        "\n",
        "**When to use it:** For finding the individuals who influence the flow around a system.\n",
        "\n",
        "**A bit more detail:** Betweenness is useful for analyzing communication dynamics, but should be used with care. A high betweenness count could indicate someone holds authority over disparate clusters in a network, or just that they are on the periphery of both clusters."
      ],
      "metadata": {
        "id": "XJhuuUFO48Kp"
      }
    },
    {
      "cell_type": "code",
      "source": [
        "# Compute betweenness centrality for nodes\n",
        "betweenness_df = pd.DataFrame(nx.betweenness_centrality(sub_G, weight='total_points').items(), columns=['Country', 'Betweenness'])\n",
        "# Display statistics for betweenness centrality\n",
        "print(\"Mean Betweenness Centrality:\\t\", betweenness_df.Betweenness.mean())\n",
        "max_betweenness = betweenness_df.Betweenness.idxmax()\n",
        "print(f\" - Node with Max BC:\\t [{betweenness_df.iloc[max_betweenness].Country}, {betweenness_df.iloc[max_betweenness].Betweenness}]\")\n",
        "\n",
        "# Compute edge betweenness centrality for edges\n",
        "edge_betweenness_df = pd.DataFrame(nx.edge_betweenness_centrality(sub_G, weight='total_points').items(), columns=['Country', 'Edge_Betweenness'])\n",
        "# Display statistics for edge betweenness centrality\n",
        "print(\"Mean Edge Betweenness Centrality:\\t\", edge_betweenness_df.Edge_Betweenness.mean())\n",
        "max_edge_betweenness = edge_betweenness_df.Edge_Betweenness.idxmax()\n",
        "print(f\" - Node with Max Edge-BC:\\t [{edge_betweenness_df.iloc[max_edge_betweenness].Country}, {edge_betweenness_df.iloc[max_edge_betweenness].Edge_Betweenness}]\")"
      ],
      "metadata": {
        "id": "vsEVmTHlCVtQ",
        "outputId": "974c3d19-2c36-456c-8574-e1c983559eed",
        "colab": {
          "base_uri": "https://localhost:8080/"
        }
      },
      "execution_count": 46,
      "outputs": [
        {
          "output_type": "stream",
          "name": "stdout",
          "text": [
            "Mean Betweenness Centrality:\t 0.022674868775265825\n",
            " - Node with Max BC:\t [Netherlands, 0.10749128919860627]\n",
            "Mean Edge Betweenness Centrality:\t 0.0023604935116563024\n",
            " - Node with Max Edge-BC:\t [('Netherlands', 'Slovenia'), 0.07279438907345884]\n"
          ]
        }
      ]
    },
    {
      "cell_type": "markdown",
      "source": [
        "- The node with the highest betweenness centrality is 'Netherlands' with a value of 0.1075. This indicates that 'Netherlands' plays a crucial role in connecting different parts of the network.\n",
        "- The edge with the highest betweenness centrality involves the connection between 'Netherlands' and 'Slovenia' with a value of 0.0728. This suggests that the link between 'Netherlands' and 'Slovenia' is important for maintaining the overall connectivity of the network.\n",
        "- 'Netherlands' and the connection between 'Netherlands' and 'Slovenia' play significant roles in the flow of information or interactions within the Eurovision 2018 voting network.\n"
      ],
      "metadata": {
        "id": "w3ozkFjoCzNR"
      }
    },
    {
      "cell_type": "markdown",
      "source": [
        "### Closeness centrality\n",
        "**Definition:** Closeness centrality scores each node based on their ‘closeness’ to all other nodes in the network.\n",
        "\n",
        "**What it tells us:** This measure calculates the shortest paths between all nodes, then assigns each node a score based on its sum of shortest paths.\n",
        "\n",
        "**When to use it:** For finding the individuals who are best placed to influence the entire network most quickly.\n",
        "\n",
        "**A bit more detail:** Closeness centrality can help find good ‘broadcasters’, but in a highly-connected network, you will often find all nodes have a similar score. What may be more useful is using Closeness to find influencers in a single cluster."
      ],
      "metadata": {
        "id": "oddE6fcqp4x7"
      }
    },
    {
      "cell_type": "code",
      "source": [
        "# Calculate Closeness Centrality and create a DataFrame\n",
        "closeness_df = pd.DataFrame(nx.closeness_centrality(sub_G).items(), columns=['Country', 'Closeness'])\n",
        "\n",
        "# Display mean Closeness Centrality\n",
        "print(\"Mean Closeness Centrality:\\t\", closeness_df.Closeness.mean())\n",
        "\n",
        "# Find the node with the maximum Closeness Centrality\n",
        "max_closeness = closeness_df.Closeness.idxmax()\n",
        "print(f\" - Node with Max CC:\\t [{closeness_df.iloc[max_closeness].Country}, {closeness_df.iloc[max_closeness].Closeness}]\")"
      ],
      "metadata": {
        "id": "_opsb01jDO_A",
        "outputId": "9009e959-418f-4ed0-8642-0017d72c9f40",
        "colab": {
          "base_uri": "https://localhost:8080/"
        }
      },
      "execution_count": 48,
      "outputs": [
        {
          "output_type": "stream",
          "name": "stdout",
          "text": [
            "Mean Closeness Centrality:\t 0.4441542220851692\n",
            " - Node with Max CC:\t [Cyprus, 1.0]\n"
          ]
        }
      ]
    },
    {
      "cell_type": "markdown",
      "source": [
        "The country with the highest closeness centrality is Cyprus, and its closeness centrality is 1.0. A closeness centrality of 1.0 indicates that Cyprus is the most central node, meaning it can reach any other country in the network most quickly."
      ],
      "metadata": {
        "id": "qsTTcFjLDfSH"
      }
    },
    {
      "cell_type": "markdown",
      "source": [
        "### EigenCentrality\n",
        "**Definition:** Like degree centrality, EigenCentrality measures a node’s influence based on the number of links it has to other nodes in the network. EigenCentrality then goes a step further by also taking into account how well connected a node is, and how many links their connections have, and so on through the network.\n",
        "\n",
        "**What it tells us:** By calculating the extended connections of a node, EigenCentrality can identify nodes with influence over the whole network, not just those directly connected to it.\n",
        "\n",
        "**When to use it:** EigenCentrality is a good ‘all-round’ SNA score, handy for understanding human social networks, but also for understanding networks like malware propagation.\n",
        "\n",
        "**A bit more detail:** Our tools calculate each node’s EigenCentrality by converging on an eigenvector using the power iteration method. Learn more about EigenCentrality"
      ],
      "metadata": {
        "id": "rXwu8MX3tx5L"
      }
    },
    {
      "cell_type": "code",
      "source": [
        "# Calculate eigenvector centrality for each country in the network\n",
        "eigenvector_df = pd.DataFrame(nx.eigenvector_centrality(sub_G, weight=\"total_points\").items(), columns=['Country', 'Eigenvector'])\n",
        "\n",
        "# Display the mean eigenvector centrality across all countries\n",
        "print(\"Mean Eigenvector Centrality:\\t\", eigenvector_df.Eigenvector.mean())\n",
        "\n",
        "# Find the country with the maximum eigenvector centrality\n",
        "max_eigenvector = eigenvector_df.Eigenvector.idxmax()\n",
        "print(f\" - Node with Max EC:\\t [{eigenvector_df.iloc[max_eigenvector].Country}, {eigenvector_df.iloc[max_eigenvector].Eigenvector}]\")"
      ],
      "metadata": {
        "id": "61pH03bQDlfj",
        "outputId": "2e9305ad-cd0b-45bf-ee0d-168a4a0434c9",
        "colab": {
          "base_uri": "https://localhost:8080/"
        }
      },
      "execution_count": 50,
      "outputs": [
        {
          "output_type": "stream",
          "name": "stdout",
          "text": [
            "Mean Eigenvector Centrality:\t 0.10054623469425207\n",
            " - Node with Max EC:\t [Israel, 0.4428962307316044]\n"
          ]
        }
      ]
    },
    {
      "cell_type": "markdown",
      "source": [
        "Israel has the highest eigenvector centrality in the network, with a value of 0.4429. This indicates that Israel is a highly influential country in the network, not only due to its direct connections but also considering the influence of its well-connected neighbors."
      ],
      "metadata": {
        "id": "_sTms30nD4JD"
      }
    },
    {
      "cell_type": "markdown",
      "source": [
        "Useful Links:\n",
        "- https://networkx.org/documentation/stable/reference/algorithms/centrality.html\n",
        "- https://cambridge-intelligence.com/keylines-faqs-social-network-analysis/#:~:text=Definition%3A%20Betweenness%20centrality%20measures%20the,each%20node%20falls%20on%20one.\n",
        "- https://towardsdatascience.com/social-network-analysis-from-theory-to-applications-with-python-d12e9a34c2c7\n",
        "- https://www.kaggle.com/code/jeleandro/network-analysis-applied-to-eurovision/notebook\n"
      ],
      "metadata": {
        "id": "HYAKf6-mzIev"
      }
    }
  ]
}