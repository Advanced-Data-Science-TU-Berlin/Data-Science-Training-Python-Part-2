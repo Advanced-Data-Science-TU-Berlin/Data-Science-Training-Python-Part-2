{
  "nbformat": 4,
  "nbformat_minor": 0,
  "metadata": {
    "colab": {
      "provenance": [],
      "authorship_tag": "ABX9TyM4oHj3514DJzXdTKskfwDa",
      "include_colab_link": true
    },
    "kernelspec": {
      "name": "python3",
      "display_name": "Python 3"
    },
    "language_info": {
      "name": "python"
    }
  },
  "cells": [
    {
      "cell_type": "markdown",
      "metadata": {
        "id": "view-in-github",
        "colab_type": "text"
      },
      "source": [
        "<a href=\"https://colab.research.google.com/github/Advanced-Data-Science-TU-Berlin/Data-Science-Training-Python-Part-2/blob/main/interactive_notebooks/3_2_social_graph_communities.ipynb\" target=\"_parent\"><img src=\"https://colab.research.google.com/assets/colab-badge.svg\" alt=\"Open In Colab\"/></a>"
      ]
    },
    {
      "cell_type": "markdown",
      "source": [
        "# Analyzing Massive Graphs - Marvel Universe\n",
        "In this exercise we will be using a dataset from the comics and movies associated with the Marvel Universe. This dataset can be found [here](https://www.kaggle.com/datasets/csanhueza/the-marvel-universe-social-network). It contains 40,616 characters and 65,870 relationships connecting them. We will be using this dataset to discover its hidden characteristics, how the different characters influenced each other and their communities structure.\n",
        "\n",
        "## About DataSet\n",
        "The Marvel dataset is composed of a list of co-occurrences of super heros. For example, every time Spider Man appears in a comic book with Captain America, we will have a line with both their names. Additionally, the characters have numerous properties that can be associated with each node.\n",
        "The dataset is divided into three files:\n",
        "- nodes.csv: Contains two columns (node, type), indicating the name and the type (comic, hero) of the nodes.\n",
        "- edges.csv: Contains two columns (hero, comic), indicating in which comics the heroes appear.\n",
        "- hero-edge.csv: Contains the network of heroes which appear together in the comics. This file was originally taken from http://syntagmatic.github.io/exposedata/marvel/\n",
        "\n",
        "First, let's download the dataset and look at some samples from the data:"
      ],
      "metadata": {
        "id": "alHjwyjykPTH"
      }
    },
    {
      "cell_type": "code",
      "execution_count": null,
      "metadata": {
        "id": "7wiPhkTPjTdl"
      },
      "outputs": [],
      "source": [
        "!pip install opendatasets\n",
        "!pip install pyvis"
      ]
    },
    {
      "cell_type": "code",
      "source": [
        "import opendatasets as od\n",
        "od.download(\"https://www.kaggle.com/datasets/csanhueza/the-marvel-universe-social-network\", force=True)"
      ],
      "metadata": {
        "colab": {
          "base_uri": "https://localhost:8080/"
        },
        "id": "xcqh9zMlmU5K",
        "outputId": "c91514b3-ec25-4255-eb22-7be3734ce7da"
      },
      "execution_count": 2,
      "outputs": [
        {
          "output_type": "stream",
          "name": "stdout",
          "text": [
            "Please provide your Kaggle credentials to download this dataset. Learn more: http://bit.ly/kaggle-creds\n",
            "Your Kaggle username: mahnaznmz\n",
            "Your Kaggle Key: ··········\n",
            "Downloading the-marvel-universe-social-network.zip to ./the-marvel-universe-social-network\n"
          ]
        },
        {
          "output_type": "stream",
          "name": "stderr",
          "text": [
            "100%|██████████| 2.72M/2.72M [00:00<00:00, 158MB/s]"
          ]
        },
        {
          "output_type": "stream",
          "name": "stdout",
          "text": [
            "\n"
          ]
        },
        {
          "output_type": "stream",
          "name": "stderr",
          "text": [
            "\n"
          ]
        }
      ]
    },
    {
      "cell_type": "code",
      "source": [
        "import matplotlib.pyplot as plt\n",
        "import numpy as np\n",
        "import pandas as pd\n",
        "import seaborn as sns\n"
      ],
      "metadata": {
        "id": "UM-DJuk94tgA"
      },
      "execution_count": 5,
      "outputs": []
    },
    {
      "cell_type": "code",
      "source": [
        "# Read data from /content/the-marvel-universe-social-network\n",
        "# Read nodes.csv, edges.csv and hero-network.csv into pandas\n",
        "nodes_df = <your-code-here>\n",
        "edges_df = <your-code-here>\n",
        "hero_net_df = <your-code-here>\n",
        "\n",
        "print(\"Sample Nodes:------------------------\")\n",
        "display(nodes_df.head())\n",
        "\n",
        "print(\"Sample Edges:------------------------\")\n",
        "display(edges_df.head())\n",
        "\n",
        "print(\"Sample Heros Network:----------------\")\n",
        "display(hero_net_df.head())"
      ],
      "metadata": {
        "id": "Ja4Y0b7Nmc9a"
      },
      "execution_count": null,
      "outputs": []
    },
    {
      "cell_type": "markdown",
      "source": [
        "Now let's use this data to construct an undirected graph and look at some of its basic statistics:"
      ],
      "metadata": {
        "id": "0QMRqIlkq4rx"
      }
    },
    {
      "cell_type": "code",
      "source": [
        "import networkx as nx\n",
        "\n",
        "# Construct an undirected graph from hero_net_df\n",
        "# Hint: use nx.from_pandas_edgelist and path hero_net_df as the first arg\n",
        "# for source parameter user 'hero1' and for target use 'hero2'\n",
        "# set create_using=nx.Graph() in the inputs\n",
        "G = <your-code-here>\n"
      ],
      "metadata": {
        "id": "MCc-ILf3nW2l"
      },
      "execution_count": 6,
      "outputs": []
    },
    {
      "cell_type": "markdown",
      "source": [
        "Now let's look at some basic graph statistics together."
      ],
      "metadata": {
        "id": "xWfiM_pB5um3"
      }
    },
    {
      "cell_type": "code",
      "source": [
        "# Graph statistics\n",
        "\n",
        "# Print number of edges\n",
        "# Hint: use either G.size() or nx.number_of_edges(G) (feel free to try both)\n",
        "print(\"Number of edges:\", <your-code-here>)\n",
        "\n",
        "# Print number of nodes\n",
        "# Hint: use either G.order() or nx.number_of_nodes(G) (feel free to try both)\n",
        "print(\"Number of nodes:\", <your-code-here>)\n",
        "\n",
        "# The density for undirected graphs is d = 2m / (n(n-1)), where n is\n",
        "# the number of nodes and m is the number of edges\n",
        "# Print the density of the graph\n",
        "# Hint: use nx.density(G)\n",
        "print(\"Network Density:\", <your-code-here>)"
      ],
      "metadata": {
        "id": "7YNhwDzQpe14"
      },
      "execution_count": null,
      "outputs": []
    },
    {
      "cell_type": "markdown",
      "source": [
        "As we can see out network is not quite dense but rather sparse.\n",
        "\n",
        "Let's use the graph structure to answer several questions.\n"
      ],
      "metadata": {
        "id": "CkVDzl-6uQzy"
      }
    },
    {
      "cell_type": "markdown",
      "source": [
        "### Q1. Who is the most friendly superhero?\n",
        "We can translate this question to `who is the superhero with the highest number of friends?`. If we wanted to answer this question using DataFrame, it wouldn't be trivial because for each hero we would need to count the number of distinct friends both when the hero appears in the Hero1 column and the Hero2 column. However, answering this question using a graph object is relatively easy; we simply need to find the node with the maximal degree."
      ],
      "metadata": {
        "id": "W7HYbR76ubGY"
      }
    },
    {
      "cell_type": "code",
      "source": [
        "# Get each node's degree\n",
        "# Hint: use G.degree() the output is a dictionary\n",
        "node_degrees = <your-code-here>\n",
        "\n",
        "# Sorting the nodes with highest degree. Let's take top-5\n",
        "# Hint: use sorted function and path the node_degrees,\n",
        "# use lambda x: x[1] for key and reverse=True\n",
        "# yse [:5]\n",
        "display(<your-code-here>)"
      ],
      "metadata": {
        "id": "zL9TgFkiqLIh"
      },
      "execution_count": null,
      "outputs": []
    },
    {
      "cell_type": "markdown",
      "source": [
        "So, using the degree, we discovered that the `most friendly` superhero is `Captain America` who is connected to 1908 heroes.\n",
        "\n",
        "Let's use seaborn to calculate the graph degree distribution:"
      ],
      "metadata": {
        "id": "j5g358oSvbB6"
      }
    },
    {
      "cell_type": "code",
      "source": [
        "fig, ax = plt.subplots(figsize=(15,5))\n",
        "\n",
        "# Plot the degree distribution\n",
        "# Hint: use sns.histplot and pass [v for v in dict(d).values()] as input\n",
        "# use kde=True (compute a kernel density estimate to smooth the distribution and show a line)\n",
        "# use stat=\"density\" (normalize such that the total area of the histogram equals 1)\n",
        "# don't forget to pass ax=ax\n",
        "<your-code-here>\n",
        "\n",
        "ax.set_title('Degrees Distribution')\n",
        "ax.set_xlabel('Degree')\n"
      ],
      "metadata": {
        "id": "27-7TFaFrrTw"
      },
      "execution_count": null,
      "outputs": []
    },
    {
      "cell_type": "markdown",
      "source": [
        "From the above plot, we can see that many nodes have low degrees, i.e. these heroes are connected to only a few heros. Let's create a subgraph without these nodes:"
      ],
      "metadata": {
        "id": "GcBQQ5P-vsDd"
      }
    },
    {
      "cell_type": "code",
      "source": [
        "# let's create a list with nodes that have degree > 50\n",
        "# Hint: use [n for n, d in dict(d).items() if d > 50]\n",
        "selected_nodes_list = <your-code-here>\n",
        "\n",
        "# create a subgraph with only nodes from the above list\n",
        "# Hint: use G.subgraph and path selected_nodes_list\n",
        "sub_G = <your-code-here>\n",
        "\n",
        "print(sub_G)"
      ],
      "metadata": {
        "id": "_62X0OgSvmuY"
      },
      "execution_count": null,
      "outputs": []
    },
    {
      "cell_type": "markdown",
      "source": [
        "As we can see, we could reduce the size of the graph.\n",
        "### Q2: What is the largest community in the graph?\n",
        "Among the wonderful things that are useful using graphs as data structures is the ability to separate them into communities, i.e., disjoint subgraphs. Let's use [Clauset-Newman-Moore greedy modularity maximization](https://arxiv.org/abs/cond-mat/0408187) to separate the graph into communities."
      ],
      "metadata": {
        "id": "t7q5selW51vQ"
      }
    },
    {
      "cell_type": "code",
      "source": [
        "%%time\n",
        "from networkx.algorithms.community import greedy_modularity_communities\n",
        "\n",
        "# Apply the Community Detection Algorithm [be patient this can take a while]\n",
        "# Hint: use greedy_modularity_communities and pass sub_G\n",
        "cc = greedy_modularity_communities(sub_G)\n",
        "\n",
        "# print the number of communities\n",
        "# Hint: use len(cc)\n",
        "print(<your-code-here>)"
      ],
      "metadata": {
        "id": "XIh3RfKHwZvS"
      },
      "execution_count": null,
      "outputs": []
    },
    {
      "cell_type": "markdown",
      "source": [
        "Using the community detection algorithm, we detected 6 communities of different sizes. Let's view the size of the distribution of the community sizes:"
      ],
      "metadata": {
        "id": "gWbkifd38PAO"
      }
    },
    {
      "cell_type": "code",
      "source": [
        "# Let's get the number of nodes inside each community as their size\n",
        "# Hint: use [len(c) for c in cc]\n",
        "community_size_list = [len(c) for c in cc]\n",
        "\n",
        "# Let's use a bar plot to show different community sizes\n",
        "fig, ax = plt.subplots()\n",
        "\n",
        "# Hint: use ax.hist and pass community_size_list\n",
        "<your-code-here>\n",
        "\n",
        "ax.set_title(\"Community Sizes Distribution\")\n",
        "ax.set_xlabel(\"Community Size\")\n",
        "ax.set_ylabel(\"#Nodes\")"
      ],
      "metadata": {
        "id": "SNai5Npa59Wt"
      },
      "execution_count": null,
      "outputs": []
    },
    {
      "cell_type": "markdown",
      "source": [
        "We can see that 2 communities are relatively smaller than others. Let's take a look at this two communities:"
      ],
      "metadata": {
        "id": "t04VqUuO8tAx"
      }
    },
    {
      "cell_type": "code",
      "source": [
        "# Let's select smaller communities to investigate\n",
        "# Hint: use [c for c in cc if len(c)<50]\n",
        "selected_community_list = <your-code-here>\n",
        "\n",
        "len(selected_community_list)"
      ],
      "metadata": {
        "id": "gUSX9RqI8RrH"
      },
      "execution_count": null,
      "outputs": []
    },
    {
      "cell_type": "markdown",
      "source": [
        "Let's plot both communities with a helper function"
      ],
      "metadata": {
        "id": "IKteFASP9C2j"
      }
    },
    {
      "cell_type": "code",
      "source": [
        "from IPython.core.display import display, HTML # We need this because of colab\n",
        "from pyvis.network import Network\n",
        "\n",
        "# A helper function to plot sub-graphs\n",
        "def plot_subgraph(g, nodes_list, title):\n",
        "  # select sub-graph based on the given nodes_list\n",
        "  # Hint: use g.subgraph and pass nodes_list\n",
        "  sub_g = <your-code-here>\n",
        "\n",
        "  # Create vis network\n",
        "  net = Network(height=\"700px\", width=\"75%\", notebook=True, cdn_resources='in_line')\n",
        "\n",
        "  # Now load the networkx graph into the vis network\n",
        "  net.force_atlas_2based()\n",
        "  net.show_buttons(filter_=['physics'])\n",
        "  net.from_nx(sub_g, default_node_size=20)\n",
        "\n",
        "  # Let's visualize the network using pyvis\n",
        "  net.show(f\"{title}.html\")\n",
        "  display(HTML(f\"{title}.html\"))"
      ],
      "metadata": {
        "id": "WLSTJuT084w9"
      },
      "execution_count": 47,
      "outputs": []
    },
    {
      "cell_type": "code",
      "source": [
        "# Let's plot the first subgraph\n",
        "# Hint: use the helper function plot_subgraph and pass sub_G\n",
        "# also selected_community_list[0] to only show the first community\n",
        "# also set a title Ex title='Community-1'\n",
        "<your-code-here>"
      ],
      "metadata": {
        "id": "vxPe3kJD9pH-"
      },
      "execution_count": null,
      "outputs": []
    },
    {
      "cell_type": "code",
      "source": [],
      "metadata": {
        "id": "uJQOTQSd9pwk"
      },
      "execution_count": null,
      "outputs": []
    }
  ]
}